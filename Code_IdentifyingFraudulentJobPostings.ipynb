{
 "cells": [
  {
   "cell_type": "markdown",
   "id": "fbcac494",
   "metadata": {
    "id": "fbcac494"
   },
   "source": [
    "# Identifying Fraudulent Job Postings with Machine Learning\n",
    "## Alexandra Stepanenko, MSc Data Science\n",
    "\n",
    "Data source: https://www.kaggle.com/datasets/shivamb/real-or-fake-fake-jobposting-prediction\n",
    "\n",
    "Dataset description: \"This dataset contains 18K job descriptions out of which about 800 are fake. The data consists of both textual information and meta-information about the jobs. The dataset can be used to create classification models which can learn the job descriptions which are fraudulent.\""
   ]
  },
  {
   "cell_type": "code",
   "execution_count": 74,
   "id": "9a19708e",
   "metadata": {
    "executionInfo": {
     "elapsed": 5806,
     "status": "ok",
     "timestamp": 1652110775621,
     "user": {
      "displayName": "Alexandra Stepanenko",
      "userId": "09067281291667623362"
     },
     "user_tz": -60
    },
    "id": "9a19708e"
   },
   "outputs": [],
   "source": [
    "import pandas as pd\n",
    "import seaborn as sns\n",
    "import matplotlib.pyplot as plt\n",
    "import matplotlib as mpl\n",
    "import numpy as np\n",
    "import sys\n",
    "import sklearn\n",
    "import re\n",
    "import string\n",
    "import spacy\n",
    "from sklearn.model_selection import StratifiedShuffleSplit, cross_val_score\n",
    "from gensim.models import Phrases\n",
    "from gensim.models.word2vec import Word2Vec\n",
    "from sklearn.preprocessing import OneHotEncoder\n",
    "from sklearn.feature_selection import chi2\n",
    "from keras.preprocessing.text import Tokenizer\n",
    "from keras.preprocessing.sequence import pad_sequences\n",
    "import pickle \n",
    "from numpy.random import seed\n",
    "import tensorflow as tf\n",
    "from keras.models import Model\n",
    "from tensorflow.keras import layers, Input, regularizers, optimizers, metrics\n",
    "from tensorflow.keras.callbacks import EarlyStopping\n",
    "import random\n",
    "from imblearn.under_sampling import RandomUnderSampler\n",
    "from imblearn.over_sampling import RandomOverSampler\n",
    "from sklearn.feature_extraction.text import TfidfVectorizer\n",
    "from sklearn.model_selection import RandomizedSearchCV\n",
    "from scipy.stats import uniform\n",
    "from sklearn.ensemble import RandomForestClassifier\n",
    "from sklearn.metrics import confusion_matrix, precision_score, recall_score, f1_score"
   ]
  },
  {
   "cell_type": "markdown",
   "id": "31690a99",
   "metadata": {
    "id": "31690a99"
   },
   "source": [
    "# Import \n",
    "\n",
    "We will also briefly explore the structure of the data:"
   ]
  },
  {
   "cell_type": "code",
   "execution_count": 3,
   "id": "dbbffab2",
   "metadata": {
    "id": "dbbffab2",
    "outputId": "e8d0531f-cefa-4546-f009-adbe6ee2810c"
   },
   "outputs": [
    {
     "data": {
      "text/html": [
       "<div>\n",
       "<style scoped>\n",
       "    .dataframe tbody tr th:only-of-type {\n",
       "        vertical-align: middle;\n",
       "    }\n",
       "\n",
       "    .dataframe tbody tr th {\n",
       "        vertical-align: top;\n",
       "    }\n",
       "\n",
       "    .dataframe thead th {\n",
       "        text-align: right;\n",
       "    }\n",
       "</style>\n",
       "<table border=\"1\" class=\"dataframe\">\n",
       "  <thead>\n",
       "    <tr style=\"text-align: right;\">\n",
       "      <th></th>\n",
       "      <th>job_id</th>\n",
       "      <th>title</th>\n",
       "      <th>location</th>\n",
       "      <th>department</th>\n",
       "      <th>salary_range</th>\n",
       "      <th>company_profile</th>\n",
       "      <th>description</th>\n",
       "      <th>requirements</th>\n",
       "      <th>benefits</th>\n",
       "      <th>telecommuting</th>\n",
       "      <th>has_company_logo</th>\n",
       "      <th>has_questions</th>\n",
       "      <th>employment_type</th>\n",
       "      <th>required_experience</th>\n",
       "      <th>required_education</th>\n",
       "      <th>industry</th>\n",
       "      <th>function</th>\n",
       "      <th>fraudulent</th>\n",
       "    </tr>\n",
       "  </thead>\n",
       "  <tbody>\n",
       "    <tr>\n",
       "      <th>0</th>\n",
       "      <td>1</td>\n",
       "      <td>Marketing Intern</td>\n",
       "      <td>US, NY, New York</td>\n",
       "      <td>Marketing</td>\n",
       "      <td>NaN</td>\n",
       "      <td>We're Food52, and we've created a groundbreaki...</td>\n",
       "      <td>Food52, a fast-growing, James Beard Award-winn...</td>\n",
       "      <td>Experience with content management systems a m...</td>\n",
       "      <td>NaN</td>\n",
       "      <td>0</td>\n",
       "      <td>1</td>\n",
       "      <td>0</td>\n",
       "      <td>Other</td>\n",
       "      <td>Internship</td>\n",
       "      <td>NaN</td>\n",
       "      <td>NaN</td>\n",
       "      <td>Marketing</td>\n",
       "      <td>0</td>\n",
       "    </tr>\n",
       "    <tr>\n",
       "      <th>1</th>\n",
       "      <td>2</td>\n",
       "      <td>Customer Service - Cloud Video Production</td>\n",
       "      <td>NZ, , Auckland</td>\n",
       "      <td>Success</td>\n",
       "      <td>NaN</td>\n",
       "      <td>90 Seconds, the worlds Cloud Video Production ...</td>\n",
       "      <td>Organised - Focused - Vibrant - Awesome!Do you...</td>\n",
       "      <td>What we expect from you:Your key responsibilit...</td>\n",
       "      <td>What you will get from usThrough being part of...</td>\n",
       "      <td>0</td>\n",
       "      <td>1</td>\n",
       "      <td>0</td>\n",
       "      <td>Full-time</td>\n",
       "      <td>Not Applicable</td>\n",
       "      <td>NaN</td>\n",
       "      <td>Marketing and Advertising</td>\n",
       "      <td>Customer Service</td>\n",
       "      <td>0</td>\n",
       "    </tr>\n",
       "    <tr>\n",
       "      <th>2</th>\n",
       "      <td>3</td>\n",
       "      <td>Commissioning Machinery Assistant (CMA)</td>\n",
       "      <td>US, IA, Wever</td>\n",
       "      <td>NaN</td>\n",
       "      <td>NaN</td>\n",
       "      <td>Valor Services provides Workforce Solutions th...</td>\n",
       "      <td>Our client, located in Houston, is actively se...</td>\n",
       "      <td>Implement pre-commissioning and commissioning ...</td>\n",
       "      <td>NaN</td>\n",
       "      <td>0</td>\n",
       "      <td>1</td>\n",
       "      <td>0</td>\n",
       "      <td>NaN</td>\n",
       "      <td>NaN</td>\n",
       "      <td>NaN</td>\n",
       "      <td>NaN</td>\n",
       "      <td>NaN</td>\n",
       "      <td>0</td>\n",
       "    </tr>\n",
       "    <tr>\n",
       "      <th>3</th>\n",
       "      <td>4</td>\n",
       "      <td>Account Executive - Washington DC</td>\n",
       "      <td>US, DC, Washington</td>\n",
       "      <td>Sales</td>\n",
       "      <td>NaN</td>\n",
       "      <td>Our passion for improving quality of life thro...</td>\n",
       "      <td>THE COMPANY: ESRI – Environmental Systems Rese...</td>\n",
       "      <td>EDUCATION: Bachelor’s or Master’s in GIS, busi...</td>\n",
       "      <td>Our culture is anything but corporate—we have ...</td>\n",
       "      <td>0</td>\n",
       "      <td>1</td>\n",
       "      <td>0</td>\n",
       "      <td>Full-time</td>\n",
       "      <td>Mid-Senior level</td>\n",
       "      <td>Bachelor's Degree</td>\n",
       "      <td>Computer Software</td>\n",
       "      <td>Sales</td>\n",
       "      <td>0</td>\n",
       "    </tr>\n",
       "    <tr>\n",
       "      <th>4</th>\n",
       "      <td>5</td>\n",
       "      <td>Bill Review Manager</td>\n",
       "      <td>US, FL, Fort Worth</td>\n",
       "      <td>NaN</td>\n",
       "      <td>NaN</td>\n",
       "      <td>SpotSource Solutions LLC is a Global Human Cap...</td>\n",
       "      <td>JOB TITLE: Itemization Review ManagerLOCATION:...</td>\n",
       "      <td>QUALIFICATIONS:RN license in the State of Texa...</td>\n",
       "      <td>Full Benefits Offered</td>\n",
       "      <td>0</td>\n",
       "      <td>1</td>\n",
       "      <td>1</td>\n",
       "      <td>Full-time</td>\n",
       "      <td>Mid-Senior level</td>\n",
       "      <td>Bachelor's Degree</td>\n",
       "      <td>Hospital &amp; Health Care</td>\n",
       "      <td>Health Care Provider</td>\n",
       "      <td>0</td>\n",
       "    </tr>\n",
       "  </tbody>\n",
       "</table>\n",
       "</div>"
      ],
      "text/plain": [
       "   job_id                                      title            location  \\\n",
       "0       1                           Marketing Intern    US, NY, New York   \n",
       "1       2  Customer Service - Cloud Video Production      NZ, , Auckland   \n",
       "2       3    Commissioning Machinery Assistant (CMA)       US, IA, Wever   \n",
       "3       4          Account Executive - Washington DC  US, DC, Washington   \n",
       "4       5                        Bill Review Manager  US, FL, Fort Worth   \n",
       "\n",
       "  department salary_range                                    company_profile  \\\n",
       "0  Marketing          NaN  We're Food52, and we've created a groundbreaki...   \n",
       "1    Success          NaN  90 Seconds, the worlds Cloud Video Production ...   \n",
       "2        NaN          NaN  Valor Services provides Workforce Solutions th...   \n",
       "3      Sales          NaN  Our passion for improving quality of life thro...   \n",
       "4        NaN          NaN  SpotSource Solutions LLC is a Global Human Cap...   \n",
       "\n",
       "                                         description  \\\n",
       "0  Food52, a fast-growing, James Beard Award-winn...   \n",
       "1  Organised - Focused - Vibrant - Awesome!Do you...   \n",
       "2  Our client, located in Houston, is actively se...   \n",
       "3  THE COMPANY: ESRI – Environmental Systems Rese...   \n",
       "4  JOB TITLE: Itemization Review ManagerLOCATION:...   \n",
       "\n",
       "                                        requirements  \\\n",
       "0  Experience with content management systems a m...   \n",
       "1  What we expect from you:Your key responsibilit...   \n",
       "2  Implement pre-commissioning and commissioning ...   \n",
       "3  EDUCATION: Bachelor’s or Master’s in GIS, busi...   \n",
       "4  QUALIFICATIONS:RN license in the State of Texa...   \n",
       "\n",
       "                                            benefits  telecommuting  \\\n",
       "0                                                NaN              0   \n",
       "1  What you will get from usThrough being part of...              0   \n",
       "2                                                NaN              0   \n",
       "3  Our culture is anything but corporate—we have ...              0   \n",
       "4                              Full Benefits Offered              0   \n",
       "\n",
       "   has_company_logo  has_questions employment_type required_experience  \\\n",
       "0                 1              0           Other          Internship   \n",
       "1                 1              0       Full-time      Not Applicable   \n",
       "2                 1              0             NaN                 NaN   \n",
       "3                 1              0       Full-time    Mid-Senior level   \n",
       "4                 1              1       Full-time    Mid-Senior level   \n",
       "\n",
       "  required_education                   industry              function  \\\n",
       "0                NaN                        NaN             Marketing   \n",
       "1                NaN  Marketing and Advertising      Customer Service   \n",
       "2                NaN                        NaN                   NaN   \n",
       "3  Bachelor's Degree          Computer Software                 Sales   \n",
       "4  Bachelor's Degree     Hospital & Health Care  Health Care Provider   \n",
       "\n",
       "   fraudulent  \n",
       "0           0  \n",
       "1           0  \n",
       "2           0  \n",
       "3           0  \n",
       "4           0  "
      ]
     },
     "execution_count": 3,
     "metadata": {},
     "output_type": "execute_result"
    }
   ],
   "source": [
    "# Import the data\n",
    "jobs = pd.read_csv(\"Data/fake_job_postings.csv\")\n",
    "\n",
    "jobs.head()"
   ]
  },
  {
   "cell_type": "code",
   "execution_count": null,
   "id": "c2579918",
   "metadata": {
    "id": "c2579918",
    "outputId": "4cec11a6-1349-4485-8372-a25452c846bc"
   },
   "outputs": [
    {
     "data": {
      "text/plain": [
       "(17880, 18)"
      ]
     },
     "execution_count": 377,
     "metadata": {},
     "output_type": "execute_result"
    }
   ],
   "source": [
    "jobs.shape"
   ]
  },
  {
   "cell_type": "code",
   "execution_count": null,
   "id": "d0914770",
   "metadata": {
    "id": "d0914770",
    "outputId": "5ebcb055-2991-441a-882a-1b62f865acec"
   },
   "outputs": [
    {
     "data": {
      "text/html": [
       "<div>\n",
       "<style scoped>\n",
       "    .dataframe tbody tr th:only-of-type {\n",
       "        vertical-align: middle;\n",
       "    }\n",
       "\n",
       "    .dataframe tbody tr th {\n",
       "        vertical-align: top;\n",
       "    }\n",
       "\n",
       "    .dataframe thead th {\n",
       "        text-align: right;\n",
       "    }\n",
       "</style>\n",
       "<table border=\"1\" class=\"dataframe\">\n",
       "  <thead>\n",
       "    <tr style=\"text-align: right;\">\n",
       "      <th></th>\n",
       "      <th>job_id</th>\n",
       "      <th>telecommuting</th>\n",
       "      <th>has_company_logo</th>\n",
       "      <th>has_questions</th>\n",
       "      <th>fraudulent</th>\n",
       "    </tr>\n",
       "  </thead>\n",
       "  <tbody>\n",
       "    <tr>\n",
       "      <th>count</th>\n",
       "      <td>17880.000000</td>\n",
       "      <td>17880.000000</td>\n",
       "      <td>17880.000000</td>\n",
       "      <td>17880.000000</td>\n",
       "      <td>17880.000000</td>\n",
       "    </tr>\n",
       "    <tr>\n",
       "      <th>mean</th>\n",
       "      <td>8940.500000</td>\n",
       "      <td>0.042897</td>\n",
       "      <td>0.795302</td>\n",
       "      <td>0.491723</td>\n",
       "      <td>0.048434</td>\n",
       "    </tr>\n",
       "    <tr>\n",
       "      <th>std</th>\n",
       "      <td>5161.655742</td>\n",
       "      <td>0.202631</td>\n",
       "      <td>0.403492</td>\n",
       "      <td>0.499945</td>\n",
       "      <td>0.214688</td>\n",
       "    </tr>\n",
       "    <tr>\n",
       "      <th>min</th>\n",
       "      <td>1.000000</td>\n",
       "      <td>0.000000</td>\n",
       "      <td>0.000000</td>\n",
       "      <td>0.000000</td>\n",
       "      <td>0.000000</td>\n",
       "    </tr>\n",
       "    <tr>\n",
       "      <th>25%</th>\n",
       "      <td>4470.750000</td>\n",
       "      <td>0.000000</td>\n",
       "      <td>1.000000</td>\n",
       "      <td>0.000000</td>\n",
       "      <td>0.000000</td>\n",
       "    </tr>\n",
       "    <tr>\n",
       "      <th>50%</th>\n",
       "      <td>8940.500000</td>\n",
       "      <td>0.000000</td>\n",
       "      <td>1.000000</td>\n",
       "      <td>0.000000</td>\n",
       "      <td>0.000000</td>\n",
       "    </tr>\n",
       "    <tr>\n",
       "      <th>75%</th>\n",
       "      <td>13410.250000</td>\n",
       "      <td>0.000000</td>\n",
       "      <td>1.000000</td>\n",
       "      <td>1.000000</td>\n",
       "      <td>0.000000</td>\n",
       "    </tr>\n",
       "    <tr>\n",
       "      <th>max</th>\n",
       "      <td>17880.000000</td>\n",
       "      <td>1.000000</td>\n",
       "      <td>1.000000</td>\n",
       "      <td>1.000000</td>\n",
       "      <td>1.000000</td>\n",
       "    </tr>\n",
       "  </tbody>\n",
       "</table>\n",
       "</div>"
      ],
      "text/plain": [
       "             job_id  telecommuting  has_company_logo  has_questions  \\\n",
       "count  17880.000000   17880.000000      17880.000000   17880.000000   \n",
       "mean    8940.500000       0.042897          0.795302       0.491723   \n",
       "std     5161.655742       0.202631          0.403492       0.499945   \n",
       "min        1.000000       0.000000          0.000000       0.000000   \n",
       "25%     4470.750000       0.000000          1.000000       0.000000   \n",
       "50%     8940.500000       0.000000          1.000000       0.000000   \n",
       "75%    13410.250000       0.000000          1.000000       1.000000   \n",
       "max    17880.000000       1.000000          1.000000       1.000000   \n",
       "\n",
       "         fraudulent  \n",
       "count  17880.000000  \n",
       "mean       0.048434  \n",
       "std        0.214688  \n",
       "min        0.000000  \n",
       "25%        0.000000  \n",
       "50%        0.000000  \n",
       "75%        0.000000  \n",
       "max        1.000000  "
      ]
     },
     "execution_count": 36,
     "metadata": {},
     "output_type": "execute_result"
    }
   ],
   "source": [
    "jobs.describe()"
   ]
  },
  {
   "cell_type": "code",
   "execution_count": null,
   "id": "ca40a8de",
   "metadata": {
    "id": "ca40a8de",
    "outputId": "355870b0-7b60-4191-e5fd-2fab22fc920d"
   },
   "outputs": [
    {
     "data": {
      "text/plain": [
       "job_id                  int64\n",
       "title                  object\n",
       "location               object\n",
       "department             object\n",
       "salary_range           object\n",
       "company_profile        object\n",
       "description            object\n",
       "requirements           object\n",
       "benefits               object\n",
       "telecommuting           int64\n",
       "has_company_logo        int64\n",
       "has_questions           int64\n",
       "employment_type        object\n",
       "required_experience    object\n",
       "required_education     object\n",
       "industry               object\n",
       "function               object\n",
       "fraudulent              int64\n",
       "dtype: object"
      ]
     },
     "execution_count": 37,
     "metadata": {},
     "output_type": "execute_result"
    }
   ],
   "source": [
    "jobs.dtypes"
   ]
  },
  {
   "cell_type": "markdown",
   "id": "aceb3efc",
   "metadata": {
    "id": "aceb3efc"
   },
   "source": [
    "'fraudulent' is our binary target variable, which we can see is class imbalanced:"
   ]
  },
  {
   "cell_type": "code",
   "execution_count": null,
   "id": "50a2225e",
   "metadata": {
    "id": "50a2225e",
    "outputId": "6af9362c-1ae9-4fee-c915-9eed0202668c"
   },
   "outputs": [
    {
     "data": {
      "text/plain": [
       "0    17014\n",
       "1      866\n",
       "Name: fraudulent, dtype: int64"
      ]
     },
     "execution_count": 38,
     "metadata": {},
     "output_type": "execute_result"
    }
   ],
   "source": [
    "jobs['fraudulent'].value_counts()"
   ]
  },
  {
   "cell_type": "markdown",
   "id": "db951637",
   "metadata": {
    "id": "db951637"
   },
   "source": [
    "# Training & test dataset split"
   ]
  },
  {
   "cell_type": "code",
   "execution_count": null,
   "id": "fb9d0346",
   "metadata": {
    "id": "fb9d0346"
   },
   "outputs": [],
   "source": [
    "strat_split = StratifiedShuffleSplit(n_splits=1, test_size=0.3, random_state=100)\n",
    "\n",
    "for train_index, test_index in strat_split.split(jobs, jobs['fraudulent']):\n",
    "    # Train and test datasets with no preprocessing\n",
    "    train_npp = jobs.loc[train_index]\n",
    "    test_npp = jobs.loc[test_index]\n",
    "    \n",
    "# Reset indicies\n",
    "train_npp.reset_index(inplace = True, drop = True)\n",
    "test_npp.reset_index(inplace = True, drop = True)"
   ]
  },
  {
   "cell_type": "code",
   "execution_count": null,
   "id": "424045fa",
   "metadata": {
    "id": "424045fa",
    "outputId": "7348675a-396a-4ead-e3c0-a86d1b56db2d"
   },
   "outputs": [
    {
     "data": {
      "text/plain": [
       "(12516, 18)"
      ]
     },
     "execution_count": 40,
     "metadata": {},
     "output_type": "execute_result"
    }
   ],
   "source": [
    "train_npp.shape"
   ]
  },
  {
   "cell_type": "code",
   "execution_count": null,
   "id": "0e721859",
   "metadata": {
    "id": "0e721859",
    "outputId": "2d247fa0-3e90-4643-b002-06dcebba418c"
   },
   "outputs": [
    {
     "data": {
      "text/plain": [
       "(5364, 18)"
      ]
     },
     "execution_count": 41,
     "metadata": {},
     "output_type": "execute_result"
    }
   ],
   "source": [
    "test_npp.shape"
   ]
  },
  {
   "cell_type": "markdown",
   "id": "a47be287",
   "metadata": {
    "id": "a47be287"
   },
   "source": [
    "We can see test and train have an equal distribution of fraudulent and non-fraudulent records:"
   ]
  },
  {
   "cell_type": "code",
   "execution_count": null,
   "id": "d78fe7cf",
   "metadata": {
    "id": "d78fe7cf",
    "outputId": "6dc847f9-4269-4fe9-df09-486f8fe7a638"
   },
   "outputs": [
    {
     "data": {
      "text/plain": [
       "fraudulent\n",
       "0    95.158198\n",
       "1     4.841802\n",
       "dtype: float64"
      ]
     },
     "execution_count": 42,
     "metadata": {},
     "output_type": "execute_result"
    }
   ],
   "source": [
    "train_npp.value_counts('fraudulent')/len(train_npp)*100"
   ]
  },
  {
   "cell_type": "code",
   "execution_count": null,
   "id": "1d6e8d95",
   "metadata": {
    "id": "1d6e8d95",
    "outputId": "9c1b2763-4f1b-43f3-f18f-66d9234b33f7"
   },
   "outputs": [
    {
     "data": {
      "text/plain": [
       "fraudulent\n",
       "0    95.152871\n",
       "1     4.847129\n",
       "dtype: float64"
      ]
     },
     "execution_count": 43,
     "metadata": {},
     "output_type": "execute_result"
    }
   ],
   "source": [
    "test_npp.value_counts('fraudulent')/len(test_npp)*100"
   ]
  },
  {
   "cell_type": "markdown",
   "id": "b852ab94",
   "metadata": {
    "id": "b852ab94"
   },
   "source": [
    "# Data exploration\n",
    "\n",
    "Let's look at number of unique values and percentage of missing values for each feature:"
   ]
  },
  {
   "cell_type": "code",
   "execution_count": null,
   "id": "1ba47723",
   "metadata": {
    "id": "1ba47723",
    "outputId": "7b39aa05-ce30-48b7-8b76-0c5711f3693c"
   },
   "outputs": [
    {
     "data": {
      "text/html": [
       "<div>\n",
       "<style scoped>\n",
       "    .dataframe tbody tr th:only-of-type {\n",
       "        vertical-align: middle;\n",
       "    }\n",
       "\n",
       "    .dataframe tbody tr th {\n",
       "        vertical-align: top;\n",
       "    }\n",
       "\n",
       "    .dataframe thead th {\n",
       "        text-align: right;\n",
       "    }\n",
       "</style>\n",
       "<table border=\"1\" class=\"dataframe\">\n",
       "  <thead>\n",
       "    <tr style=\"text-align: right;\">\n",
       "      <th></th>\n",
       "      <th>Column</th>\n",
       "      <th>Unique values</th>\n",
       "      <th>Percentage missing</th>\n",
       "    </tr>\n",
       "  </thead>\n",
       "  <tbody>\n",
       "    <tr>\n",
       "      <th>0</th>\n",
       "      <td>job_id</td>\n",
       "      <td>12516</td>\n",
       "      <td>0.0</td>\n",
       "    </tr>\n",
       "    <tr>\n",
       "      <th>1</th>\n",
       "      <td>title</td>\n",
       "      <td>8371</td>\n",
       "      <td>0.0</td>\n",
       "    </tr>\n",
       "    <tr>\n",
       "      <th>2</th>\n",
       "      <td>location</td>\n",
       "      <td>2567</td>\n",
       "      <td>1.854</td>\n",
       "    </tr>\n",
       "    <tr>\n",
       "      <th>3</th>\n",
       "      <td>department</td>\n",
       "      <td>1073</td>\n",
       "      <td>64.382</td>\n",
       "    </tr>\n",
       "    <tr>\n",
       "      <th>4</th>\n",
       "      <td>salary_range</td>\n",
       "      <td>717</td>\n",
       "      <td>83.981</td>\n",
       "    </tr>\n",
       "    <tr>\n",
       "      <th>5</th>\n",
       "      <td>company_profile</td>\n",
       "      <td>1528</td>\n",
       "      <td>18.552</td>\n",
       "    </tr>\n",
       "    <tr>\n",
       "      <th>6</th>\n",
       "      <td>description</td>\n",
       "      <td>10695</td>\n",
       "      <td>0.008</td>\n",
       "    </tr>\n",
       "    <tr>\n",
       "      <th>7</th>\n",
       "      <td>requirements</td>\n",
       "      <td>8654</td>\n",
       "      <td>15.284</td>\n",
       "    </tr>\n",
       "    <tr>\n",
       "      <th>8</th>\n",
       "      <td>benefits</td>\n",
       "      <td>4666</td>\n",
       "      <td>40.788</td>\n",
       "    </tr>\n",
       "    <tr>\n",
       "      <th>9</th>\n",
       "      <td>telecommuting</td>\n",
       "      <td>2</td>\n",
       "      <td>0.0</td>\n",
       "    </tr>\n",
       "    <tr>\n",
       "      <th>10</th>\n",
       "      <td>has_company_logo</td>\n",
       "      <td>2</td>\n",
       "      <td>0.0</td>\n",
       "    </tr>\n",
       "    <tr>\n",
       "      <th>11</th>\n",
       "      <td>has_questions</td>\n",
       "      <td>2</td>\n",
       "      <td>0.0</td>\n",
       "    </tr>\n",
       "    <tr>\n",
       "      <th>12</th>\n",
       "      <td>employment_type</td>\n",
       "      <td>5</td>\n",
       "      <td>19.567</td>\n",
       "    </tr>\n",
       "    <tr>\n",
       "      <th>13</th>\n",
       "      <td>required_experience</td>\n",
       "      <td>7</td>\n",
       "      <td>39.677</td>\n",
       "    </tr>\n",
       "    <tr>\n",
       "      <th>14</th>\n",
       "      <td>required_education</td>\n",
       "      <td>13</td>\n",
       "      <td>45.885</td>\n",
       "    </tr>\n",
       "    <tr>\n",
       "      <th>15</th>\n",
       "      <td>industry</td>\n",
       "      <td>131</td>\n",
       "      <td>27.932</td>\n",
       "    </tr>\n",
       "    <tr>\n",
       "      <th>16</th>\n",
       "      <td>function</td>\n",
       "      <td>37</td>\n",
       "      <td>36.473</td>\n",
       "    </tr>\n",
       "    <tr>\n",
       "      <th>17</th>\n",
       "      <td>fraudulent</td>\n",
       "      <td>2</td>\n",
       "      <td>0.0</td>\n",
       "    </tr>\n",
       "  </tbody>\n",
       "</table>\n",
       "</div>"
      ],
      "text/plain": [
       "                 Column Unique values Percentage missing\n",
       "0                job_id         12516                0.0\n",
       "1                 title          8371                0.0\n",
       "2              location          2567              1.854\n",
       "3            department          1073             64.382\n",
       "4          salary_range           717             83.981\n",
       "5       company_profile          1528             18.552\n",
       "6           description         10695              0.008\n",
       "7          requirements          8654             15.284\n",
       "8              benefits          4666             40.788\n",
       "9         telecommuting             2                0.0\n",
       "10     has_company_logo             2                0.0\n",
       "11        has_questions             2                0.0\n",
       "12      employment_type             5             19.567\n",
       "13  required_experience             7             39.677\n",
       "14   required_education            13             45.885\n",
       "15             industry           131             27.932\n",
       "16             function            37             36.473\n",
       "17           fraudulent             2                0.0"
      ]
     },
     "execution_count": 44,
     "metadata": {},
     "output_type": "execute_result"
    }
   ],
   "source": [
    "jobs_valcount = pd.DataFrame(columns=['Column', 'Unique values', 'Percentage missing'])\n",
    "i = 0\n",
    "\n",
    "for col in jobs:\n",
    "    jobs_valcount.loc[i, 'Column'] = col\n",
    "    jobs_valcount.loc[i, 'Unique values'] = train_npp[col].nunique()\n",
    "    jobs_valcount.loc[i, 'Percentage missing'] = round(train_npp[col].isna().sum()/len(train_npp)*100, 3)\n",
    "    i += 1\n",
    "    \n",
    "jobs_valcount"
   ]
  },
  {
   "cell_type": "markdown",
   "id": "5baad738",
   "metadata": {
    "id": "5baad738"
   },
   "source": [
    "From the combination of viewing the data, dtype within the dataframe and number of unique values, we can assign data types for the features and begin exploring whether they may be predictive."
   ]
  },
  {
   "cell_type": "markdown",
   "id": "94cbd5b2",
   "metadata": {
    "id": "94cbd5b2"
   },
   "source": [
    "### Defining plotting functions"
   ]
  },
  {
   "cell_type": "code",
   "execution_count": null,
   "id": "03aa79c9",
   "metadata": {
    "id": "03aa79c9"
   },
   "outputs": [],
   "source": [
    "def plot_countplots(col):\n",
    "    #sort\n",
    "    jobs_s = train_npp.sort_values(col)\n",
    "    \n",
    "    fig = plt.figure(figsize=(16, 5))\n",
    "    plt.subplot(1, 2, 1)\n",
    "    ax = sns.countplot(data = jobs_s[jobs_s['fraudulent'] == 0], x = col)\n",
    "    ax.set_title('Genuine postings', size=16)\n",
    "\n",
    "    plt.subplot(1, 2, 2)\n",
    "    ax = sns.countplot(data = jobs_s[jobs_s['fraudulent'] == 1], x = col)\n",
    "    ax.set_title('Fraudulent postings', size=16)\n",
    "\n",
    "    plt.show()"
   ]
  },
  {
   "cell_type": "code",
   "execution_count": null,
   "id": "5f49736a",
   "metadata": {
    "id": "5f49736a"
   },
   "outputs": [],
   "source": [
    "def plot_countplots_bar(col, figheight = 10):\n",
    "    #sort\n",
    "    jobs_s = train_npp.sort_values(col)\n",
    "    \n",
    "    fig = plt.figure(figsize=(16, figheight))\n",
    "    plt.subplot(2, 1, 1)\n",
    "    ax = sns.countplot(data = jobs_s[jobs_s['fraudulent'] == 0], y = col)\n",
    "    ax.set_title('Genuine postings', size=16)\n",
    "\n",
    "    plt.subplot(2, 1, 2)\n",
    "    ax = sns.countplot(data = jobs_s[jobs_s['fraudulent'] == 1], y = col)\n",
    "    ax.set_title('Fraudulent postings', size=16)\n",
    "\n",
    "    plt.show()"
   ]
  },
  {
   "cell_type": "code",
   "execution_count": null,
   "id": "ceb75cd7",
   "metadata": {
    "id": "ceb75cd7"
   },
   "outputs": [],
   "source": [
    "def plot_countplots_bar_lim(col, figheight = 10, catlim = 10):\n",
    "    #sort\n",
    "    jobs_s = train_npp.sort_values(col)\n",
    "    \n",
    "    fig = plt.figure(figsize=(16, figheight))\n",
    "    plt.subplot(2, 1, 1)\n",
    "    ax = sns.countplot(data = jobs_s[jobs_s['fraudulent'] == 0], y = col, color='royalblue',\n",
    "                       order = jobs_s[col][jobs_s['fraudulent'] == 0].value_counts().iloc[:catlim].index)\n",
    "    ax.set_title('Genuine postings - top ' + str(catlim) + ' categories', size=16)\n",
    "\n",
    "    plt.subplot(2, 1, 2)\n",
    "    ax = sns.countplot(data = jobs_s[jobs_s['fraudulent'] == 1], y = col, color='royalblue',\n",
    "                      order = jobs_s[col][jobs_s['fraudulent'] == 1].value_counts().iloc[:catlim].index)\n",
    "    ax.set_title('Fraudulent postings - top ' + str(catlim) + ' categories', size=16)\n",
    "\n",
    "    plt.show()"
   ]
  },
  {
   "cell_type": "markdown",
   "id": "fc370c14",
   "metadata": {
    "id": "fc370c14"
   },
   "source": [
    "### Binary features"
   ]
  },
  {
   "cell_type": "markdown",
   "id": "9b098e23",
   "metadata": {
    "id": "9b098e23"
   },
   "source": [
    "#### Telecommuting (remote working)\n",
    "\n",
    "We see telecommunting jobs are relatively rare, and distribution is not hugely different for genuine and fraudulent postings:"
   ]
  },
  {
   "cell_type": "code",
   "execution_count": null,
   "id": "6ef35391",
   "metadata": {
    "id": "6ef35391",
    "outputId": "894a0d5b-6167-4e5e-d4a5-b63672cdbfcb"
   },
   "outputs": [
    {
     "data": {
      "text/plain": [
       "0    11996\n",
       "1      520\n",
       "Name: telecommuting, dtype: int64"
      ]
     },
     "execution_count": 48,
     "metadata": {},
     "output_type": "execute_result"
    }
   ],
   "source": [
    "train_npp['telecommuting'].value_counts()"
   ]
  },
  {
   "cell_type": "code",
   "execution_count": null,
   "id": "9041a9c0",
   "metadata": {
    "id": "9041a9c0",
    "outputId": "d20e036a-1ea1-4917-df4c-a1b55156ec53"
   },
   "outputs": [
    {
     "data": {
      "image/png": "[encoded data removed]",
      "text/plain": [
       "<Figure size 1152x360 with 2 Axes>"
      ]
     },
     "metadata": {
      "needs_background": "light"
     },
     "output_type": "display_data"
    }
   ],
   "source": [
    "plot_countplots('telecommuting')"
   ]
  },
  {
   "cell_type": "markdown",
   "id": "320dd76d",
   "metadata": {
    "id": "320dd76d"
   },
   "source": [
    "#### Company logo\n",
    "\n",
    "Whether a job posting has a company logo may be a useful predictive feature as most genuine jobs have a company logo, and most fraudulent job postings do not:"
   ]
  },
  {
   "cell_type": "code",
   "execution_count": null,
   "id": "d1ecdb72",
   "metadata": {
    "id": "d1ecdb72",
    "outputId": "0898ffbf-3332-4059-91aa-34c5d77f822f"
   },
   "outputs": [
    {
     "data": {
      "text/plain": [
       "1    9921\n",
       "0    2595\n",
       "Name: has_company_logo, dtype: int64"
      ]
     },
     "execution_count": 50,
     "metadata": {},
     "output_type": "execute_result"
    }
   ],
   "source": [
    "train_npp['has_company_logo'].value_counts()"
   ]
  },
  {
   "cell_type": "code",
   "execution_count": null,
   "id": "21c5d1d8",
   "metadata": {
    "id": "21c5d1d8",
    "outputId": "2d06bf31-5071-4516-be3f-b072fd3ff6f4"
   },
   "outputs": [
    {
     "data": {
      "image/png": "[encoded data removed]",
      "text/plain": [
       "<Figure size 1152x360 with 2 Axes>"
      ]
     },
     "metadata": {
      "needs_background": "light"
     },
     "output_type": "display_data"
    }
   ],
   "source": [
    "plot_countplots('has_company_logo')"
   ]
  },
  {
   "cell_type": "markdown",
   "id": "7c30551f",
   "metadata": {
    "id": "7c30551f"
   },
   "source": [
    "#### Questions\n",
    "\n",
    "Potentially a useful predictive feature as there is a different distribution for genuine and fruadulent postings:"
   ]
  },
  {
   "cell_type": "code",
   "execution_count": null,
   "id": "b44491b9",
   "metadata": {
    "id": "b44491b9",
    "outputId": "5498dfad-d5de-4c0e-bb99-e745f0292307"
   },
   "outputs": [
    {
     "data": {
      "text/plain": [
       "0    6364\n",
       "1    6152\n",
       "Name: has_questions, dtype: int64"
      ]
     },
     "execution_count": 52,
     "metadata": {},
     "output_type": "execute_result"
    }
   ],
   "source": [
    "train_npp['has_questions'].value_counts()"
   ]
  },
  {
   "cell_type": "code",
   "execution_count": null,
   "id": "5ce39785",
   "metadata": {
    "id": "5ce39785",
    "outputId": "cdb1944f-959d-4e2f-9912-a2b4ea678fa9",
    "scrolled": true
   },
   "outputs": [
    {
     "data": {
      "image/png": "[encoded data removed]",
      "text/plain": [
       "<Figure size 1152x360 with 2 Axes>"
      ]
     },
     "metadata": {
      "needs_background": "light"
     },
     "output_type": "display_data"
    }
   ],
   "source": [
    "plot_countplots('has_questions')"
   ]
  },
  {
   "cell_type": "markdown",
   "id": "092469e8",
   "metadata": {
    "id": "092469e8"
   },
   "source": [
    "### Categorical variables\n",
    "\n",
    "We can see from inspecting the categories that all the categorical features are nominal, not ordinal.\n",
    "\n",
    "#### Employment type\n",
    "\n",
    "There is no obvious difference in distribution between genuine and fraudulent postings - for both, the majority of jobs advertised are full-time:"
   ]
  },
  {
   "cell_type": "code",
   "execution_count": null,
   "id": "4c282293",
   "metadata": {
    "id": "4c282293",
    "outputId": "79512d4d-255b-482e-ec76-7e11eb1371bf"
   },
   "outputs": [
    {
     "data": {
      "text/plain": [
       "employment_type\n",
       "Full-time    8152\n",
       "Contract     1039\n",
       "Part-time     546\n",
       "Temporary     175\n",
       "Other         155\n",
       "dtype: int64"
      ]
     },
     "execution_count": 54,
     "metadata": {},
     "output_type": "execute_result"
    }
   ],
   "source": [
    "train_npp.value_counts('employment_type')"
   ]
  },
  {
   "cell_type": "code",
   "execution_count": null,
   "id": "cff9d414",
   "metadata": {
    "id": "cff9d414",
    "outputId": "7675191c-d4d2-4643-b858-6020328bd678",
    "scrolled": true
   },
   "outputs": [
    {
     "data": {
      "image/png": "[encoded data removed]",
      "text/plain": [
       "<Figure size 1152x360 with 2 Axes>"
      ]
     },
     "metadata": {
      "needs_background": "light"
     },
     "output_type": "display_data"
    }
   ],
   "source": [
    "plot_countplots('employment_type')"
   ]
  },
  {
   "cell_type": "markdown",
   "id": "1e152ec9",
   "metadata": {
    "id": "1e152ec9"
   },
   "source": [
    "#### Required experience\n",
    "\n",
    "We can see the distribution for required experience differs across genuine and fruadulent postings, especially for the 'Associate', 'Entry-level' and 'Mid-Senior Level' categories:"
   ]
  },
  {
   "cell_type": "code",
   "execution_count": null,
   "id": "8de1e55f",
   "metadata": {
    "id": "8de1e55f",
    "outputId": "3b6992b1-f783-410c-c2a1-19ff7a9fdcb0"
   },
   "outputs": [
    {
     "data": {
      "text/plain": [
       "required_experience\n",
       "Mid-Senior level    2653\n",
       "Entry level         1877\n",
       "Associate           1599\n",
       "Not Applicable       771\n",
       "Director             284\n",
       "Internship           267\n",
       "Executive             99\n",
       "dtype: int64"
      ]
     },
     "execution_count": 56,
     "metadata": {},
     "output_type": "execute_result"
    }
   ],
   "source": [
    "train_npp.value_counts('required_experience')"
   ]
  },
  {
   "cell_type": "code",
   "execution_count": null,
   "id": "ff7fce7d",
   "metadata": {
    "id": "ff7fce7d",
    "outputId": "e0645ed0-0c50-48d2-c859-40055a806eaf",
    "scrolled": false
   },
   "outputs": [
    {
     "data": {
      "image/png": "[encoded data removed]",
      "text/plain": [
       "<Figure size 1152x720 with 2 Axes>"
      ]
     },
     "metadata": {
      "needs_background": "light"
     },
     "output_type": "display_data"
    }
   ],
   "source": [
    "plot_countplots_bar('required_experience')"
   ]
  },
  {
   "cell_type": "markdown",
   "id": "191a9036",
   "metadata": {
    "id": "191a9036"
   },
   "source": [
    "#### Required education\n",
    "\n",
    "We can see required education varied across genuine and fraudulent postings, with fraudulent postings more likely to require less educational experience - most jobs only ask for high school experience, compared to real jobs, which most commonly require a degree."
   ]
  },
  {
   "cell_type": "code",
   "execution_count": null,
   "id": "eb23924d",
   "metadata": {
    "id": "eb23924d",
    "outputId": "7a62436b-79db-46eb-fbaa-41bf744cf579"
   },
   "outputs": [
    {
     "data": {
      "text/plain": [
       "required_education\n",
       "Bachelor's Degree                    3582\n",
       "High School or equivalent            1459\n",
       "Unspecified                           957\n",
       "Master's Degree                       282\n",
       "Associate Degree                      190\n",
       "Certification                         111\n",
       "Some College Coursework Completed      65\n",
       "Professional                           50\n",
       "Vocational                             32\n",
       "Some High School Coursework            19\n",
       "Doctorate                              17\n",
       "Vocational - Degree                     5\n",
       "Vocational - HS Diploma                 4\n",
       "dtype: int64"
      ]
     },
     "execution_count": 58,
     "metadata": {},
     "output_type": "execute_result"
    }
   ],
   "source": [
    "train_npp.value_counts('required_education')"
   ]
  },
  {
   "cell_type": "code",
   "execution_count": null,
   "id": "0a94b50b",
   "metadata": {
    "id": "0a94b50b",
    "outputId": "4fd94485-f432-4f16-f068-7cf8ea78ce10",
    "scrolled": false
   },
   "outputs": [
    {
     "data": {
      "image/png": "[encoded data removed]",
      "text/plain": [
       "<Figure size 1152x720 with 2 Axes>"
      ]
     },
     "metadata": {
      "needs_background": "light"
     },
     "output_type": "display_data"
    }
   ],
   "source": [
    "plot_countplots_bar('required_education')"
   ]
  },
  {
   "cell_type": "markdown",
   "id": "3e778a1f",
   "metadata": {
    "id": "3e778a1f"
   },
   "source": [
    "#### Industry\n",
    "\n",
    "We can see the top industries for real and fraudulent vary, so this may be a predictive variable:"
   ]
  },
  {
   "cell_type": "code",
   "execution_count": null,
   "id": "7cc0911d",
   "metadata": {
    "id": "7cc0911d",
    "outputId": "d28be47f-2a34-4894-8fce-27b02eeeca85"
   },
   "outputs": [
    {
     "data": {
      "text/plain": [
       "industry\n",
       "Information Technology and Services    1195\n",
       "Computer Software                       943\n",
       "Internet                                736\n",
       "Marketing and Advertising               577\n",
       "Education Management                    555\n",
       "dtype: int64"
      ]
     },
     "execution_count": 60,
     "metadata": {},
     "output_type": "execute_result"
    }
   ],
   "source": [
    "train_npp.value_counts('industry').head()"
   ]
  },
  {
   "cell_type": "code",
   "execution_count": null,
   "id": "7c359c03",
   "metadata": {
    "id": "7c359c03",
    "outputId": "4040df8f-c4a6-464f-b321-345887f37700",
    "scrolled": false
   },
   "outputs": [
    {
     "data": {
      "image/png": "[encoded data removed]",
      "text/plain": [
       "<Figure size 1152x720 with 2 Axes>"
      ]
     },
     "metadata": {
      "needs_background": "light"
     },
     "output_type": "display_data"
    }
   ],
   "source": [
    "plot_countplots_bar_lim('industry')"
   ]
  },
  {
   "cell_type": "markdown",
   "id": "7c8a599e",
   "metadata": {
    "id": "7c8a599e"
   },
   "source": [
    "#### Function\n",
    "\n",
    "We can see the top functions for real and fraudulent vary somewhat, so this may be a predictive variable:"
   ]
  },
  {
   "cell_type": "code",
   "execution_count": null,
   "id": "6ca1cb14",
   "metadata": {
    "id": "6ca1cb14",
    "outputId": "abcf8d35-7822-4001-f5c0-d13ab4bd963d"
   },
   "outputs": [
    {
     "data": {
      "text/plain": [
       "function\n",
       "Information Technology    1233\n",
       "Sales                     1046\n",
       "Engineering                941\n",
       "Customer Service           855\n",
       "Marketing                  564\n",
       "dtype: int64"
      ]
     },
     "execution_count": 62,
     "metadata": {},
     "output_type": "execute_result"
    }
   ],
   "source": [
    "train_npp.value_counts('function').head()"
   ]
  },
  {
   "cell_type": "code",
   "execution_count": null,
   "id": "284135f4",
   "metadata": {
    "id": "284135f4",
    "outputId": "780fadc2-ef78-4519-956b-8e4605640b08",
    "scrolled": false
   },
   "outputs": [
    {
     "data": {
      "image/png": "[encoded data removed]",
      "text/plain": [
       "<Figure size 1152x720 with 2 Axes>"
      ]
     },
     "metadata": {
      "needs_background": "light"
     },
     "output_type": "display_data"
    }
   ],
   "source": [
    "plot_countplots_bar_lim('function')"
   ]
  },
  {
   "cell_type": "markdown",
   "id": "42ff4a5f",
   "metadata": {
    "id": "42ff4a5f"
   },
   "source": [
    "### Structured\n",
    "\n",
    "salary_range and location are technically strings, but have structure within them.\n",
    "\n",
    "#### Salary range\n",
    "\n",
    "Salary, when not missing, is structured as integer/dash/integer:"
   ]
  },
  {
   "cell_type": "code",
   "execution_count": null,
   "id": "d7a2225d",
   "metadata": {
    "id": "d7a2225d",
    "outputId": "4cc933fa-8703-43db-e500-14ee5dde69df"
   },
   "outputs": [
    {
     "data": {
      "text/plain": [
       "0            NaN\n",
       "1            NaN\n",
       "2            NaN\n",
       "3    45000-60000\n",
       "4    32000-52000\n",
       "Name: salary_range, dtype: object"
      ]
     },
     "execution_count": 64,
     "metadata": {},
     "output_type": "execute_result"
    }
   ],
   "source": [
    "train_npp['salary_range'].head()"
   ]
  },
  {
   "cell_type": "markdown",
   "id": "2c0520b2",
   "metadata": {
    "id": "2c0520b2"
   },
   "source": [
    "Salary range is more commonly reported on in fraudulent job postings than genuine ones:"
   ]
  },
  {
   "cell_type": "code",
   "execution_count": null,
   "id": "2c8e849a",
   "metadata": {
    "id": "2c8e849a",
    "outputId": "96860dc4-6d86-4887-f40e-58427edc7902"
   },
   "outputs": [
    {
     "data": {
      "text/plain": [
       "15.575146935348442"
      ]
     },
     "execution_count": 65,
     "metadata": {},
     "output_type": "execute_result"
    }
   ],
   "source": [
    "100 - train_npp['salary_range'][train_npp['fraudulent']==0].isna().sum()/len(train_npp[train_npp['fraudulent']==0])*100"
   ]
  },
  {
   "cell_type": "code",
   "execution_count": null,
   "id": "fec243c4",
   "metadata": {
    "id": "fec243c4",
    "outputId": "76c957d4-ddee-4713-b21a-317c9139f35d"
   },
   "outputs": [
    {
     "data": {
      "text/plain": [
       "24.752475247524757"
      ]
     },
     "execution_count": 66,
     "metadata": {},
     "output_type": "execute_result"
    }
   ],
   "source": [
    "100 - train_npp['salary_range'][train_npp['fraudulent']==1].isna().sum()/len(train_npp[train_npp['fraudulent']==1])*100"
   ]
  },
  {
   "cell_type": "markdown",
   "id": "d9b24d17",
   "metadata": {
    "id": "d9b24d17"
   },
   "source": [
    "Given how large the proportion of job postings without salary data are, we will not use the salary_range data as a predictor beyond whether or not it present. "
   ]
  },
  {
   "cell_type": "markdown",
   "id": "ecb5cac1",
   "metadata": {
    "id": "ecb5cac1"
   },
   "source": [
    "#### Location\n",
    "\n",
    "We can see the structure of the location feature, and it seems this information was collected by allowing posters to select locations from a list (or possibly free-write them) - each location is separated by a comma:"
   ]
  },
  {
   "cell_type": "code",
   "execution_count": null,
   "id": "04184290",
   "metadata": {
    "id": "04184290",
    "outputId": "14498f0d-d95b-4b3f-8d85-fc883101b252"
   },
   "outputs": [
    {
     "data": {
      "text/plain": [
       "0              US, OH, Tiffin\n",
       "1              DE, BE, Berlin\n",
       "2             US, NC, Raleigh\n",
       "3             GB, LND, London\n",
       "4          US, WA, Bellingham\n",
       "5              US, MA, Boston\n",
       "6            US, NY, New York\n",
       "7            US, NY, Brooklyn\n",
       "8                     GR, I, \n",
       "9              BE, , Brussels\n",
       "10         BE, , Valanciennes\n",
       "11         US, MN, Minnetonka\n",
       "12    US, CA, Manhattan Beach\n",
       "13           US, OR, Portland\n",
       "14                     US, , \n",
       "15              IN, RJ, Churu\n",
       "16               US, NV, Reno\n",
       "17         US, CA, Sacramento\n",
       "18              GB, , Cheadle\n",
       "19            US, , Newcastle\n",
       "Name: location, dtype: object"
      ]
     },
     "execution_count": 67,
     "metadata": {},
     "output_type": "execute_result"
    }
   ],
   "source": [
    "train_npp['location'].head(20)"
   ]
  },
  {
   "cell_type": "markdown",
   "id": "1193458d",
   "metadata": {
    "id": "1193458d"
   },
   "source": [
    "We can look at some of the most common locations:"
   ]
  },
  {
   "cell_type": "code",
   "execution_count": null,
   "id": "382b90a4",
   "metadata": {
    "id": "382b90a4"
   },
   "outputs": [],
   "source": [
    "jobs_locations = []\n",
    "\n",
    "for i in train_npp.index:\n",
    "    if type(train_npp['location'][i]) != float:\n",
    "        locs = train_npp['location'][i].split(',')\n",
    "        for l in locs:\n",
    "            if len(l.strip()) > 0:\n",
    "                jobs_locations.append(l.strip())\n",
    "                \n",
    "jobs_loc_counts = pd.DataFrame(columns = ['Location', 'Count'])\n",
    "\n",
    "i = 0\n",
    "\n",
    "for l in set(jobs_locations):\n",
    "    jobs_loc_counts.loc[i, 'Location'] = l\n",
    "    jobs_loc_counts.loc[i, 'Count'] = jobs_locations.count(l)\n",
    "    i += 1"
   ]
  },
  {
   "cell_type": "code",
   "execution_count": null,
   "id": "97cead8e",
   "metadata": {
    "id": "97cead8e"
   },
   "outputs": [],
   "source": [
    "def get_loc_counts(df):\n",
    "\n",
    "    jobs_locations = []\n",
    "\n",
    "    for i in df.index:\n",
    "        if type(df['location'][i]) != float:\n",
    "            locs = df['location'][i].split(',')\n",
    "            for l in locs:\n",
    "                if len(l.strip()) > 0:\n",
    "                    jobs_locations.append(l.strip())\n",
    "\n",
    "    jobs_loc_counts = pd.DataFrame(columns = ['Location', 'Count'])\n",
    "\n",
    "    i = 0\n",
    "\n",
    "    for l in set(jobs_locations):\n",
    "        jobs_loc_counts.loc[i, 'Location'] = l\n",
    "        jobs_loc_counts.loc[i, 'Count'] = jobs_locations.count(l)\n",
    "        i += 1\n",
    "        \n",
    "    return jobs_loc_counts"
   ]
  },
  {
   "cell_type": "code",
   "execution_count": null,
   "id": "33aaa194",
   "metadata": {
    "id": "33aaa194"
   },
   "outputs": [],
   "source": [
    "jobs_loc_count_gen = get_loc_counts(train_npp[train_npp['fraudulent'] == 0])"
   ]
  },
  {
   "cell_type": "code",
   "execution_count": null,
   "id": "962cdea4",
   "metadata": {
    "id": "962cdea4"
   },
   "outputs": [],
   "source": [
    "jobs_loc_count_fr = get_loc_counts(train_npp[train_npp['fraudulent'] == 1])"
   ]
  },
  {
   "cell_type": "code",
   "execution_count": null,
   "id": "3544305f",
   "metadata": {
    "id": "3544305f",
    "outputId": "0671a8cc-d696-4b9d-a799-15696732b91a",
    "scrolled": false
   },
   "outputs": [
    {
     "data": {
      "text/html": [
       "<div>\n",
       "<style scoped>\n",
       "    .dataframe tbody tr th:only-of-type {\n",
       "        vertical-align: middle;\n",
       "    }\n",
       "\n",
       "    .dataframe tbody tr th {\n",
       "        vertical-align: top;\n",
       "    }\n",
       "\n",
       "    .dataframe thead th {\n",
       "        text-align: right;\n",
       "    }\n",
       "</style>\n",
       "<table border=\"1\" class=\"dataframe\">\n",
       "  <thead>\n",
       "    <tr style=\"text-align: right;\">\n",
       "      <th></th>\n",
       "      <th>Location</th>\n",
       "      <th>Count</th>\n",
       "    </tr>\n",
       "  </thead>\n",
       "  <tbody>\n",
       "    <tr>\n",
       "      <th>1480</th>\n",
       "      <td>US</td>\n",
       "      <td>6931</td>\n",
       "    </tr>\n",
       "    <tr>\n",
       "      <th>691</th>\n",
       "      <td>GB</td>\n",
       "      <td>1672</td>\n",
       "    </tr>\n",
       "    <tr>\n",
       "      <th>471</th>\n",
       "      <td>CA</td>\n",
       "      <td>1671</td>\n",
       "    </tr>\n",
       "    <tr>\n",
       "      <th>602</th>\n",
       "      <td>NY</td>\n",
       "      <td>829</td>\n",
       "    </tr>\n",
       "    <tr>\n",
       "      <th>443</th>\n",
       "      <td>London</td>\n",
       "      <td>770</td>\n",
       "    </tr>\n",
       "    <tr>\n",
       "      <th>1513</th>\n",
       "      <td>LND</td>\n",
       "      <td>705</td>\n",
       "    </tr>\n",
       "    <tr>\n",
       "      <th>1508</th>\n",
       "      <td>GR</td>\n",
       "      <td>680</td>\n",
       "    </tr>\n",
       "    <tr>\n",
       "      <th>1213</th>\n",
       "      <td>TX</td>\n",
       "      <td>587</td>\n",
       "    </tr>\n",
       "    <tr>\n",
       "      <th>1786</th>\n",
       "      <td>I</td>\n",
       "      <td>497</td>\n",
       "    </tr>\n",
       "    <tr>\n",
       "      <th>414</th>\n",
       "      <td>New York</td>\n",
       "      <td>455</td>\n",
       "    </tr>\n",
       "  </tbody>\n",
       "</table>\n",
       "</div>"
      ],
      "text/plain": [
       "      Location Count\n",
       "1480        US  6931\n",
       "691         GB  1672\n",
       "471         CA  1671\n",
       "602         NY   829\n",
       "443     London   770\n",
       "1513       LND   705\n",
       "1508        GR   680\n",
       "1213        TX   587\n",
       "1786         I   497\n",
       "414   New York   455"
      ]
     },
     "execution_count": 72,
     "metadata": {},
     "output_type": "execute_result"
    }
   ],
   "source": [
    "jobs_loc_count_gen.sort_values('Count', ascending=False).head(10)"
   ]
  },
  {
   "cell_type": "code",
   "execution_count": null,
   "id": "0d0b91b5",
   "metadata": {
    "id": "0d0b91b5",
    "outputId": "2477c924-d64f-4f1e-b0b0-05add14aa273",
    "scrolled": false
   },
   "outputs": [
    {
     "data": {
      "text/html": [
       "<div>\n",
       "<style scoped>\n",
       "    .dataframe tbody tr th:only-of-type {\n",
       "        vertical-align: middle;\n",
       "    }\n",
       "\n",
       "    .dataframe tbody tr th {\n",
       "        vertical-align: top;\n",
       "    }\n",
       "\n",
       "    .dataframe thead th {\n",
       "        text-align: right;\n",
       "    }\n",
       "</style>\n",
       "<table border=\"1\" class=\"dataframe\">\n",
       "  <thead>\n",
       "    <tr style=\"text-align: right;\">\n",
       "      <th></th>\n",
       "      <th>Location</th>\n",
       "      <th>Count</th>\n",
       "    </tr>\n",
       "  </thead>\n",
       "  <tbody>\n",
       "    <tr>\n",
       "      <th>200</th>\n",
       "      <td>US</td>\n",
       "      <td>506</td>\n",
       "    </tr>\n",
       "    <tr>\n",
       "      <th>272</th>\n",
       "      <td>CA</td>\n",
       "      <td>115</td>\n",
       "    </tr>\n",
       "    <tr>\n",
       "      <th>55</th>\n",
       "      <td>TX</td>\n",
       "      <td>103</td>\n",
       "    </tr>\n",
       "    <tr>\n",
       "      <th>203</th>\n",
       "      <td>Houston</td>\n",
       "      <td>61</td>\n",
       "    </tr>\n",
       "    <tr>\n",
       "      <th>27</th>\n",
       "      <td>NY</td>\n",
       "      <td>50</td>\n",
       "    </tr>\n",
       "    <tr>\n",
       "      <th>149</th>\n",
       "      <td>AU</td>\n",
       "      <td>29</td>\n",
       "    </tr>\n",
       "    <tr>\n",
       "      <th>283</th>\n",
       "      <td>MD</td>\n",
       "      <td>25</td>\n",
       "    </tr>\n",
       "    <tr>\n",
       "      <th>174</th>\n",
       "      <td>NSW</td>\n",
       "      <td>23</td>\n",
       "    </tr>\n",
       "    <tr>\n",
       "      <th>81</th>\n",
       "      <td>Sydney</td>\n",
       "      <td>22</td>\n",
       "    </tr>\n",
       "    <tr>\n",
       "      <th>50</th>\n",
       "      <td>San Mateo</td>\n",
       "      <td>21</td>\n",
       "    </tr>\n",
       "  </tbody>\n",
       "</table>\n",
       "</div>"
      ],
      "text/plain": [
       "      Location Count\n",
       "200         US   506\n",
       "272         CA   115\n",
       "55          TX   103\n",
       "203    Houston    61\n",
       "27          NY    50\n",
       "149         AU    29\n",
       "283         MD    25\n",
       "174        NSW    23\n",
       "81      Sydney    22\n",
       "50   San Mateo    21"
      ]
     },
     "execution_count": 73,
     "metadata": {},
     "output_type": "execute_result"
    }
   ],
   "source": [
    "jobs_loc_count_fr.sort_values('Count', ascending=False).head(10)"
   ]
  },
  {
   "cell_type": "markdown",
   "id": "522f2b19",
   "metadata": {
    "id": "522f2b19"
   },
   "source": [
    "We see the most common locations between real and fraudulent postings vary a little, but not very significantly. This makes sense, as fraudulent posters likely target areas where many people live (and therefore where many real jobs are avaliable). \n",
    "\n",
    "We can see that a substancial number of locations only appear once:"
   ]
  },
  {
   "cell_type": "code",
   "execution_count": null,
   "id": "b6884b72",
   "metadata": {
    "id": "b6884b72",
    "outputId": "1116ad01-72d2-4524-c6a5-d946eea1c71b"
   },
   "outputs": [
    {
     "data": {
      "text/plain": [
       "2251"
      ]
     },
     "execution_count": 74,
     "metadata": {},
     "output_type": "execute_result"
    }
   ],
   "source": [
    "len(jobs_loc_counts)"
   ]
  },
  {
   "cell_type": "code",
   "execution_count": null,
   "id": "76a38ba7",
   "metadata": {
    "id": "76a38ba7",
    "outputId": "d380e5a9-51e9-4073-d58d-0564d560daee"
   },
   "outputs": [
    {
     "data": {
      "text/plain": [
       "1059"
      ]
     },
     "execution_count": 75,
     "metadata": {},
     "output_type": "execute_result"
    }
   ],
   "source": [
    "len(jobs_loc_counts[jobs_loc_counts['Count'] == 1])"
   ]
  },
  {
   "cell_type": "markdown",
   "id": "fbf5c92d",
   "metadata": {
    "id": "fbf5c92d"
   },
   "source": [
    "# Pre-processing\n",
    "\n",
    "## Binary & categorical variables\n",
    "\n",
    "The binary variables do not need any further processing. Categorical variables are all nominal, and so should be one-hot encoded."
   ]
  },
  {
   "cell_type": "code",
   "execution_count": null,
   "id": "46897734",
   "metadata": {
    "id": "46897734"
   },
   "outputs": [],
   "source": [
    "bin_vars = ['telecommuting', 'has_company_logo', 'has_questions', 'fraudulent']\n",
    "cat_vars = ['employment_type', 'required_experience', 'required_education', 'industry', 'function']\n",
    "\n",
    "train_bin = train_npp[bin_vars]\n",
    "\n",
    "train_cat = train_npp[cat_vars]"
   ]
  },
  {
   "cell_type": "code",
   "execution_count": null,
   "id": "b97db4c2",
   "metadata": {
    "id": "b97db4c2"
   },
   "outputs": [],
   "source": [
    "def onehotcats(df):\n",
    "    oh_encoder = OneHotEncoder()\n",
    "    \n",
    "    df_ohencoded = df.copy()\n",
    "    \n",
    "    for col in cat_vars:\n",
    "        oh = oh_encoder.fit_transform(df[[col]])\n",
    "        oh_df = pd.DataFrame(columns=oh_encoder.get_feature_names_out(), data=oh.toarray())\n",
    "        df_ohencoded = df_ohencoded.join(oh_df)\n",
    "        \n",
    "    return df_ohencoded.drop(cat_vars, axis=1)"
   ]
  },
  {
   "cell_type": "code",
   "execution_count": null,
   "id": "4de296c9",
   "metadata": {
    "id": "4de296c9"
   },
   "outputs": [],
   "source": [
    "train_cat_oh = onehotcats(train_cat)"
   ]
  },
  {
   "cell_type": "code",
   "execution_count": null,
   "id": "70076228",
   "metadata": {
    "id": "70076228",
    "outputId": "e9eac1c2-2eef-4e23-8518-1e67bb8c4936"
   },
   "outputs": [
    {
     "data": {
      "text/html": [
       "<div>\n",
       "<style scoped>\n",
       "    .dataframe tbody tr th:only-of-type {\n",
       "        vertical-align: middle;\n",
       "    }\n",
       "\n",
       "    .dataframe tbody tr th {\n",
       "        vertical-align: top;\n",
       "    }\n",
       "\n",
       "    .dataframe thead th {\n",
       "        text-align: right;\n",
       "    }\n",
       "</style>\n",
       "<table border=\"1\" class=\"dataframe\">\n",
       "  <thead>\n",
       "    <tr style=\"text-align: right;\">\n",
       "      <th></th>\n",
       "      <th>employment_type_Contract</th>\n",
       "      <th>employment_type_Full-time</th>\n",
       "      <th>employment_type_Other</th>\n",
       "      <th>employment_type_Part-time</th>\n",
       "      <th>employment_type_Temporary</th>\n",
       "      <th>employment_type_nan</th>\n",
       "      <th>required_experience_Associate</th>\n",
       "      <th>required_experience_Director</th>\n",
       "      <th>required_experience_Entry level</th>\n",
       "      <th>required_experience_Executive</th>\n",
       "      <th>...</th>\n",
       "      <th>function_Purchasing</th>\n",
       "      <th>function_Quality Assurance</th>\n",
       "      <th>function_Research</th>\n",
       "      <th>function_Sales</th>\n",
       "      <th>function_Science</th>\n",
       "      <th>function_Strategy/Planning</th>\n",
       "      <th>function_Supply Chain</th>\n",
       "      <th>function_Training</th>\n",
       "      <th>function_Writing/Editing</th>\n",
       "      <th>function_nan</th>\n",
       "    </tr>\n",
       "  </thead>\n",
       "  <tbody>\n",
       "    <tr>\n",
       "      <th>0</th>\n",
       "      <td>1.0</td>\n",
       "      <td>0.0</td>\n",
       "      <td>0.0</td>\n",
       "      <td>0.0</td>\n",
       "      <td>0.0</td>\n",
       "      <td>0.0</td>\n",
       "      <td>0.0</td>\n",
       "      <td>0.0</td>\n",
       "      <td>0.0</td>\n",
       "      <td>0.0</td>\n",
       "      <td>...</td>\n",
       "      <td>0.0</td>\n",
       "      <td>0.0</td>\n",
       "      <td>0.0</td>\n",
       "      <td>0.0</td>\n",
       "      <td>0.0</td>\n",
       "      <td>0.0</td>\n",
       "      <td>0.0</td>\n",
       "      <td>0.0</td>\n",
       "      <td>0.0</td>\n",
       "      <td>1.0</td>\n",
       "    </tr>\n",
       "    <tr>\n",
       "      <th>1</th>\n",
       "      <td>0.0</td>\n",
       "      <td>1.0</td>\n",
       "      <td>0.0</td>\n",
       "      <td>0.0</td>\n",
       "      <td>0.0</td>\n",
       "      <td>0.0</td>\n",
       "      <td>0.0</td>\n",
       "      <td>0.0</td>\n",
       "      <td>0.0</td>\n",
       "      <td>0.0</td>\n",
       "      <td>...</td>\n",
       "      <td>0.0</td>\n",
       "      <td>0.0</td>\n",
       "      <td>0.0</td>\n",
       "      <td>1.0</td>\n",
       "      <td>0.0</td>\n",
       "      <td>0.0</td>\n",
       "      <td>0.0</td>\n",
       "      <td>0.0</td>\n",
       "      <td>0.0</td>\n",
       "      <td>0.0</td>\n",
       "    </tr>\n",
       "    <tr>\n",
       "      <th>2</th>\n",
       "      <td>0.0</td>\n",
       "      <td>1.0</td>\n",
       "      <td>0.0</td>\n",
       "      <td>0.0</td>\n",
       "      <td>0.0</td>\n",
       "      <td>0.0</td>\n",
       "      <td>0.0</td>\n",
       "      <td>0.0</td>\n",
       "      <td>0.0</td>\n",
       "      <td>0.0</td>\n",
       "      <td>...</td>\n",
       "      <td>0.0</td>\n",
       "      <td>0.0</td>\n",
       "      <td>0.0</td>\n",
       "      <td>0.0</td>\n",
       "      <td>0.0</td>\n",
       "      <td>0.0</td>\n",
       "      <td>0.0</td>\n",
       "      <td>0.0</td>\n",
       "      <td>0.0</td>\n",
       "      <td>1.0</td>\n",
       "    </tr>\n",
       "    <tr>\n",
       "      <th>3</th>\n",
       "      <td>0.0</td>\n",
       "      <td>1.0</td>\n",
       "      <td>0.0</td>\n",
       "      <td>0.0</td>\n",
       "      <td>0.0</td>\n",
       "      <td>0.0</td>\n",
       "      <td>0.0</td>\n",
       "      <td>0.0</td>\n",
       "      <td>0.0</td>\n",
       "      <td>0.0</td>\n",
       "      <td>...</td>\n",
       "      <td>0.0</td>\n",
       "      <td>0.0</td>\n",
       "      <td>0.0</td>\n",
       "      <td>0.0</td>\n",
       "      <td>0.0</td>\n",
       "      <td>0.0</td>\n",
       "      <td>0.0</td>\n",
       "      <td>0.0</td>\n",
       "      <td>0.0</td>\n",
       "      <td>0.0</td>\n",
       "    </tr>\n",
       "    <tr>\n",
       "      <th>4</th>\n",
       "      <td>0.0</td>\n",
       "      <td>1.0</td>\n",
       "      <td>0.0</td>\n",
       "      <td>0.0</td>\n",
       "      <td>0.0</td>\n",
       "      <td>0.0</td>\n",
       "      <td>1.0</td>\n",
       "      <td>0.0</td>\n",
       "      <td>0.0</td>\n",
       "      <td>0.0</td>\n",
       "      <td>...</td>\n",
       "      <td>0.0</td>\n",
       "      <td>0.0</td>\n",
       "      <td>0.0</td>\n",
       "      <td>1.0</td>\n",
       "      <td>0.0</td>\n",
       "      <td>0.0</td>\n",
       "      <td>0.0</td>\n",
       "      <td>0.0</td>\n",
       "      <td>0.0</td>\n",
       "      <td>0.0</td>\n",
       "    </tr>\n",
       "  </tbody>\n",
       "</table>\n",
       "<p>5 rows × 198 columns</p>\n",
       "</div>"
      ],
      "text/plain": [
       "   employment_type_Contract  employment_type_Full-time  employment_type_Other  \\\n",
       "0                       1.0                        0.0                    0.0   \n",
       "1                       0.0                        1.0                    0.0   \n",
       "2                       0.0                        1.0                    0.0   \n",
       "3                       0.0                        1.0                    0.0   \n",
       "4                       0.0                        1.0                    0.0   \n",
       "\n",
       "   employment_type_Part-time  employment_type_Temporary  employment_type_nan  \\\n",
       "0                        0.0                        0.0                  0.0   \n",
       "1                        0.0                        0.0                  0.0   \n",
       "2                        0.0                        0.0                  0.0   \n",
       "3                        0.0                        0.0                  0.0   \n",
       "4                        0.0                        0.0                  0.0   \n",
       "\n",
       "   required_experience_Associate  required_experience_Director  \\\n",
       "0                            0.0                           0.0   \n",
       "1                            0.0                           0.0   \n",
       "2                            0.0                           0.0   \n",
       "3                            0.0                           0.0   \n",
       "4                            1.0                           0.0   \n",
       "\n",
       "   required_experience_Entry level  required_experience_Executive  ...  \\\n",
       "0                              0.0                            0.0  ...   \n",
       "1                              0.0                            0.0  ...   \n",
       "2                              0.0                            0.0  ...   \n",
       "3                              0.0                            0.0  ...   \n",
       "4                              0.0                            0.0  ...   \n",
       "\n",
       "   function_Purchasing  function_Quality Assurance  function_Research  \\\n",
       "0                  0.0                         0.0                0.0   \n",
       "1                  0.0                         0.0                0.0   \n",
       "2                  0.0                         0.0                0.0   \n",
       "3                  0.0                         0.0                0.0   \n",
       "4                  0.0                         0.0                0.0   \n",
       "\n",
       "   function_Sales  function_Science  function_Strategy/Planning  \\\n",
       "0             0.0               0.0                         0.0   \n",
       "1             1.0               0.0                         0.0   \n",
       "2             0.0               0.0                         0.0   \n",
       "3             0.0               0.0                         0.0   \n",
       "4             1.0               0.0                         0.0   \n",
       "\n",
       "   function_Supply Chain  function_Training  function_Writing/Editing  \\\n",
       "0                    0.0                0.0                       0.0   \n",
       "1                    0.0                0.0                       0.0   \n",
       "2                    0.0                0.0                       0.0   \n",
       "3                    0.0                0.0                       0.0   \n",
       "4                    0.0                0.0                       0.0   \n",
       "\n",
       "   function_nan  \n",
       "0           1.0  \n",
       "1           0.0  \n",
       "2           1.0  \n",
       "3           0.0  \n",
       "4           0.0  \n",
       "\n",
       "[5 rows x 198 columns]"
      ]
     },
     "execution_count": 134,
     "metadata": {},
     "output_type": "execute_result"
    }
   ],
   "source": [
    "train_cat_oh.head()"
   ]
  },
  {
   "cell_type": "markdown",
   "id": "9c8aa77e",
   "metadata": {
    "id": "9c8aa77e"
   },
   "source": [
    "## Salary range\n",
    "\n",
    "As previously established, we will not use the salary_range data itself as most job postings did not include this information, however, salary_range was more commonly present for fruadulent postings, so we can make a binary variable indicating whether salary_range was included or not for each posting:"
   ]
  },
  {
   "cell_type": "code",
   "execution_count": null,
   "id": "3780c088",
   "metadata": {
    "id": "3780c088",
    "outputId": "b8cd95e8-ea3e-4b02-e6a3-0eb8e9e084ab"
   },
   "outputs": [
    {
     "name": "stderr",
     "output_type": "stream",
     "text": [
      "<ipython-input-135-33ce79d19bc1>:3: SettingWithCopyWarning: \n",
      "A value is trying to be set on a copy of a slice from a DataFrame.\n",
      "Try using .loc[row_indexer,col_indexer] = value instead\n",
      "\n",
      "See the caveats in the documentation: https://pandas.pydata.org/pandas-docs/stable/user_guide/indexing.html#returning-a-view-versus-a-copy\n",
      "  train_sr['sr_exists'] = [int(type(sr) != float) for sr in train_sr['salary_range']]\n"
     ]
    }
   ],
   "source": [
    "train_sr = train_npp[['salary_range']]\n",
    "\n",
    "train_sr['sr_exists'] = [int(type(sr) != float) for sr in train_sr['salary_range']]"
   ]
  },
  {
   "cell_type": "code",
   "execution_count": null,
   "id": "8976d2f9",
   "metadata": {
    "id": "8976d2f9",
    "outputId": "fd3dfc14-5112-43f6-9ea7-2c45c479daec"
   },
   "outputs": [
    {
     "data": {
      "text/html": [
       "<div>\n",
       "<style scoped>\n",
       "    .dataframe tbody tr th:only-of-type {\n",
       "        vertical-align: middle;\n",
       "    }\n",
       "\n",
       "    .dataframe tbody tr th {\n",
       "        vertical-align: top;\n",
       "    }\n",
       "\n",
       "    .dataframe thead th {\n",
       "        text-align: right;\n",
       "    }\n",
       "</style>\n",
       "<table border=\"1\" class=\"dataframe\">\n",
       "  <thead>\n",
       "    <tr style=\"text-align: right;\">\n",
       "      <th></th>\n",
       "      <th>salary_range</th>\n",
       "      <th>sr_exists</th>\n",
       "    </tr>\n",
       "  </thead>\n",
       "  <tbody>\n",
       "    <tr>\n",
       "      <th>0</th>\n",
       "      <td>NaN</td>\n",
       "      <td>0</td>\n",
       "    </tr>\n",
       "    <tr>\n",
       "      <th>1</th>\n",
       "      <td>NaN</td>\n",
       "      <td>0</td>\n",
       "    </tr>\n",
       "    <tr>\n",
       "      <th>2</th>\n",
       "      <td>NaN</td>\n",
       "      <td>0</td>\n",
       "    </tr>\n",
       "    <tr>\n",
       "      <th>3</th>\n",
       "      <td>45000-60000</td>\n",
       "      <td>1</td>\n",
       "    </tr>\n",
       "    <tr>\n",
       "      <th>4</th>\n",
       "      <td>32000-52000</td>\n",
       "      <td>1</td>\n",
       "    </tr>\n",
       "  </tbody>\n",
       "</table>\n",
       "</div>"
      ],
      "text/plain": [
       "  salary_range  sr_exists\n",
       "0          NaN          0\n",
       "1          NaN          0\n",
       "2          NaN          0\n",
       "3  45000-60000          1\n",
       "4  32000-52000          1"
      ]
     },
     "execution_count": 136,
     "metadata": {},
     "output_type": "execute_result"
    }
   ],
   "source": [
    "train_sr.head()"
   ]
  },
  {
   "cell_type": "markdown",
   "id": "ceb8e6ea",
   "metadata": {
    "id": "ceb8e6ea"
   },
   "source": [
    "### Join binary, categorical and salary indicator features into one dataframe\n",
    "\n",
    "We will use this for feature selection."
   ]
  },
  {
   "cell_type": "code",
   "execution_count": null,
   "id": "ea15a42f",
   "metadata": {
    "id": "ea15a42f"
   },
   "outputs": [],
   "source": [
    "train_bcs = train_bin.join(train_cat_oh).join(train_sr[['sr_exists']])"
   ]
  },
  {
   "cell_type": "code",
   "execution_count": null,
   "id": "78b012e4",
   "metadata": {
    "id": "78b012e4",
    "outputId": "0bf6fa94-ad56-481e-8f48-5355709c29ff"
   },
   "outputs": [
    {
     "data": {
      "text/html": [
       "<div>\n",
       "<style scoped>\n",
       "    .dataframe tbody tr th:only-of-type {\n",
       "        vertical-align: middle;\n",
       "    }\n",
       "\n",
       "    .dataframe tbody tr th {\n",
       "        vertical-align: top;\n",
       "    }\n",
       "\n",
       "    .dataframe thead th {\n",
       "        text-align: right;\n",
       "    }\n",
       "</style>\n",
       "<table border=\"1\" class=\"dataframe\">\n",
       "  <thead>\n",
       "    <tr style=\"text-align: right;\">\n",
       "      <th></th>\n",
       "      <th>telecommuting</th>\n",
       "      <th>has_company_logo</th>\n",
       "      <th>has_questions</th>\n",
       "      <th>fraudulent</th>\n",
       "      <th>employment_type_Contract</th>\n",
       "      <th>employment_type_Full-time</th>\n",
       "      <th>employment_type_Other</th>\n",
       "      <th>employment_type_Part-time</th>\n",
       "      <th>employment_type_Temporary</th>\n",
       "      <th>employment_type_nan</th>\n",
       "      <th>...</th>\n",
       "      <th>function_Quality Assurance</th>\n",
       "      <th>function_Research</th>\n",
       "      <th>function_Sales</th>\n",
       "      <th>function_Science</th>\n",
       "      <th>function_Strategy/Planning</th>\n",
       "      <th>function_Supply Chain</th>\n",
       "      <th>function_Training</th>\n",
       "      <th>function_Writing/Editing</th>\n",
       "      <th>function_nan</th>\n",
       "      <th>sr_exists</th>\n",
       "    </tr>\n",
       "  </thead>\n",
       "  <tbody>\n",
       "    <tr>\n",
       "      <th>0</th>\n",
       "      <td>0</td>\n",
       "      <td>1</td>\n",
       "      <td>1</td>\n",
       "      <td>0</td>\n",
       "      <td>1.0</td>\n",
       "      <td>0.0</td>\n",
       "      <td>0.0</td>\n",
       "      <td>0.0</td>\n",
       "      <td>0.0</td>\n",
       "      <td>0.0</td>\n",
       "      <td>...</td>\n",
       "      <td>0.0</td>\n",
       "      <td>0.0</td>\n",
       "      <td>0.0</td>\n",
       "      <td>0.0</td>\n",
       "      <td>0.0</td>\n",
       "      <td>0.0</td>\n",
       "      <td>0.0</td>\n",
       "      <td>0.0</td>\n",
       "      <td>1.0</td>\n",
       "      <td>0</td>\n",
       "    </tr>\n",
       "    <tr>\n",
       "      <th>1</th>\n",
       "      <td>0</td>\n",
       "      <td>1</td>\n",
       "      <td>1</td>\n",
       "      <td>0</td>\n",
       "      <td>0.0</td>\n",
       "      <td>1.0</td>\n",
       "      <td>0.0</td>\n",
       "      <td>0.0</td>\n",
       "      <td>0.0</td>\n",
       "      <td>0.0</td>\n",
       "      <td>...</td>\n",
       "      <td>0.0</td>\n",
       "      <td>0.0</td>\n",
       "      <td>1.0</td>\n",
       "      <td>0.0</td>\n",
       "      <td>0.0</td>\n",
       "      <td>0.0</td>\n",
       "      <td>0.0</td>\n",
       "      <td>0.0</td>\n",
       "      <td>0.0</td>\n",
       "      <td>0</td>\n",
       "    </tr>\n",
       "    <tr>\n",
       "      <th>2</th>\n",
       "      <td>0</td>\n",
       "      <td>1</td>\n",
       "      <td>1</td>\n",
       "      <td>0</td>\n",
       "      <td>0.0</td>\n",
       "      <td>1.0</td>\n",
       "      <td>0.0</td>\n",
       "      <td>0.0</td>\n",
       "      <td>0.0</td>\n",
       "      <td>0.0</td>\n",
       "      <td>...</td>\n",
       "      <td>0.0</td>\n",
       "      <td>0.0</td>\n",
       "      <td>0.0</td>\n",
       "      <td>0.0</td>\n",
       "      <td>0.0</td>\n",
       "      <td>0.0</td>\n",
       "      <td>0.0</td>\n",
       "      <td>0.0</td>\n",
       "      <td>1.0</td>\n",
       "      <td>0</td>\n",
       "    </tr>\n",
       "    <tr>\n",
       "      <th>3</th>\n",
       "      <td>0</td>\n",
       "      <td>1</td>\n",
       "      <td>1</td>\n",
       "      <td>0</td>\n",
       "      <td>0.0</td>\n",
       "      <td>1.0</td>\n",
       "      <td>0.0</td>\n",
       "      <td>0.0</td>\n",
       "      <td>0.0</td>\n",
       "      <td>0.0</td>\n",
       "      <td>...</td>\n",
       "      <td>0.0</td>\n",
       "      <td>0.0</td>\n",
       "      <td>0.0</td>\n",
       "      <td>0.0</td>\n",
       "      <td>0.0</td>\n",
       "      <td>0.0</td>\n",
       "      <td>0.0</td>\n",
       "      <td>0.0</td>\n",
       "      <td>0.0</td>\n",
       "      <td>1</td>\n",
       "    </tr>\n",
       "    <tr>\n",
       "      <th>4</th>\n",
       "      <td>0</td>\n",
       "      <td>1</td>\n",
       "      <td>1</td>\n",
       "      <td>0</td>\n",
       "      <td>0.0</td>\n",
       "      <td>1.0</td>\n",
       "      <td>0.0</td>\n",
       "      <td>0.0</td>\n",
       "      <td>0.0</td>\n",
       "      <td>0.0</td>\n",
       "      <td>...</td>\n",
       "      <td>0.0</td>\n",
       "      <td>0.0</td>\n",
       "      <td>1.0</td>\n",
       "      <td>0.0</td>\n",
       "      <td>0.0</td>\n",
       "      <td>0.0</td>\n",
       "      <td>0.0</td>\n",
       "      <td>0.0</td>\n",
       "      <td>0.0</td>\n",
       "      <td>1</td>\n",
       "    </tr>\n",
       "  </tbody>\n",
       "</table>\n",
       "<p>5 rows × 203 columns</p>\n",
       "</div>"
      ],
      "text/plain": [
       "   telecommuting  has_company_logo  has_questions  fraudulent  \\\n",
       "0              0                 1              1           0   \n",
       "1              0                 1              1           0   \n",
       "2              0                 1              1           0   \n",
       "3              0                 1              1           0   \n",
       "4              0                 1              1           0   \n",
       "\n",
       "   employment_type_Contract  employment_type_Full-time  employment_type_Other  \\\n",
       "0                       1.0                        0.0                    0.0   \n",
       "1                       0.0                        1.0                    0.0   \n",
       "2                       0.0                        1.0                    0.0   \n",
       "3                       0.0                        1.0                    0.0   \n",
       "4                       0.0                        1.0                    0.0   \n",
       "\n",
       "   employment_type_Part-time  employment_type_Temporary  employment_type_nan  \\\n",
       "0                        0.0                        0.0                  0.0   \n",
       "1                        0.0                        0.0                  0.0   \n",
       "2                        0.0                        0.0                  0.0   \n",
       "3                        0.0                        0.0                  0.0   \n",
       "4                        0.0                        0.0                  0.0   \n",
       "\n",
       "   ...  function_Quality Assurance  function_Research  function_Sales  \\\n",
       "0  ...                         0.0                0.0             0.0   \n",
       "1  ...                         0.0                0.0             1.0   \n",
       "2  ...                         0.0                0.0             0.0   \n",
       "3  ...                         0.0                0.0             0.0   \n",
       "4  ...                         0.0                0.0             1.0   \n",
       "\n",
       "   function_Science  function_Strategy/Planning  function_Supply Chain  \\\n",
       "0               0.0                         0.0                    0.0   \n",
       "1               0.0                         0.0                    0.0   \n",
       "2               0.0                         0.0                    0.0   \n",
       "3               0.0                         0.0                    0.0   \n",
       "4               0.0                         0.0                    0.0   \n",
       "\n",
       "   function_Training  function_Writing/Editing  function_nan  sr_exists  \n",
       "0                0.0                       0.0           1.0          0  \n",
       "1                0.0                       0.0           0.0          0  \n",
       "2                0.0                       0.0           1.0          0  \n",
       "3                0.0                       0.0           0.0          1  \n",
       "4                0.0                       0.0           0.0          1  \n",
       "\n",
       "[5 rows x 203 columns]"
      ]
     },
     "execution_count": 138,
     "metadata": {},
     "output_type": "execute_result"
    }
   ],
   "source": [
    "train_bcs.head()"
   ]
  },
  {
   "cell_type": "markdown",
   "id": "f7bbf90c",
   "metadata": {
    "id": "f7bbf90c"
   },
   "source": [
    "## Location\n",
    "\n",
    "Getting locations to make features out of - these will also be subject to feature selection at a later stage. We only include locations which have 10 or more occurences in the training data, otherwise we will have a very large number of locations which only occur a few times, which both unnecessarily adds to the dimensionality, as well as could cause overfitting if used for training (most locations will not be seen in the fraudulent data, whereas those locations seen in the fraudulent data will be marked as substancially more likely to be fraudulent, even if the location only existed in one or two fraudulent postings and is not a general trend which can be useful for predicting unseen data)."
   ]
  },
  {
   "cell_type": "code",
   "execution_count": null,
   "id": "64da12c7",
   "metadata": {
    "id": "64da12c7"
   },
   "outputs": [],
   "source": [
    "jobs_locations = []\n",
    "\n",
    "for i in train_npp.index:\n",
    "    if type(train_npp['location'][i]) != float:\n",
    "        locs = train_npp['location'][i].split(',')\n",
    "        for l in locs:\n",
    "            if len(l.strip()) > 0:\n",
    "                jobs_locations.append(l.strip())\n",
    "                \n",
    "jobs_loc_counts = pd.DataFrame(columns = ['Location', 'Count'])\n",
    "\n",
    "i = 0\n",
    "\n",
    "for l in set(jobs_locations):\n",
    "    jobs_loc_counts.loc[i, 'Location'] = l\n",
    "    jobs_loc_counts.loc[i, 'Count'] = jobs_locations.count(l)\n",
    "    i += 1\n",
    "    \n",
    "# Only want locations with more than 10 occurances, otherwise will have a very high number of rare locations\n",
    "location_fts = [jobs_loc_counts['Location'][i] for i in jobs_loc_counts.index if jobs_loc_counts['Count'][i] > 9]"
   ]
  },
  {
   "cell_type": "code",
   "execution_count": null,
   "id": "811eb4bb",
   "metadata": {
    "id": "811eb4bb",
    "outputId": "e21f4dfd-6cd7-49c2-dbb6-930c68117dfa"
   },
   "outputs": [
    {
     "data": {
      "text/plain": [
       "311"
      ]
     },
     "execution_count": 140,
     "metadata": {},
     "output_type": "execute_result"
    }
   ],
   "source": [
    "len(location_fts)"
   ]
  },
  {
   "cell_type": "code",
   "execution_count": null,
   "id": "9d80f6b4",
   "metadata": {
    "id": "9d80f6b4"
   },
   "outputs": [],
   "source": [
    "def onehotloc(df):\n",
    "    df_loc = df[['location']]\n",
    "    \n",
    "    # Add locations as columns, give an initial value of 0 to all\n",
    "    for loc in location_fts:\n",
    "        df_loc.insert(len(df_loc.columns), column = loc, value = [0 for i in df_loc.index])\n",
    "    \n",
    "    for i in df_loc.index:\n",
    "        if type(df_loc['location'][i]) == str: \n",
    "            locs_all = df_loc['location'][i]\n",
    "\n",
    "            # Get only locations being used as features\n",
    "            locs = [l.strip() for l in locs_all.split(',') if l.strip() in location_fts] \n",
    "\n",
    "            # One-hot encode locations\n",
    "            for loc in locs:\n",
    "                df_loc.loc[i, loc] = 1\n",
    "            \n",
    "    return df_loc.drop('location', axis=1)"
   ]
  },
  {
   "cell_type": "code",
   "execution_count": null,
   "id": "1d49a9ac",
   "metadata": {
    "id": "1d49a9ac",
    "outputId": "a6313291-8055-4459-f8cd-645805fde2b7"
   },
   "outputs": [
    {
     "name": "stderr",
     "output_type": "stream",
     "text": [
      "C:\\Users\\Masters\\anaconda3\\lib\\site-packages\\pandas\\core\\indexing.py:1720: SettingWithCopyWarning: \n",
      "A value is trying to be set on a copy of a slice from a DataFrame.\n",
      "Try using .loc[row_indexer,col_indexer] = value instead\n",
      "\n",
      "See the caveats in the documentation: https://pandas.pydata.org/pandas-docs/stable/user_guide/indexing.html#returning-a-view-versus-a-copy\n",
      "  self._setitem_single_column(loc, value, pi)\n"
     ]
    }
   ],
   "source": [
    "train_locs = onehotloc(train_npp)"
   ]
  },
  {
   "cell_type": "code",
   "execution_count": null,
   "id": "569fc302",
   "metadata": {
    "id": "569fc302",
    "outputId": "b62dc507-fb61-4f02-cf83-ee5689520052"
   },
   "outputs": [
    {
     "data": {
      "text/html": [
       "<div>\n",
       "<style scoped>\n",
       "    .dataframe tbody tr th:only-of-type {\n",
       "        vertical-align: middle;\n",
       "    }\n",
       "\n",
       "    .dataframe tbody tr th {\n",
       "        vertical-align: top;\n",
       "    }\n",
       "\n",
       "    .dataframe thead th {\n",
       "        text-align: right;\n",
       "    }\n",
       "</style>\n",
       "<table border=\"1\" class=\"dataframe\">\n",
       "  <thead>\n",
       "    <tr style=\"text-align: right;\">\n",
       "      <th></th>\n",
       "      <th>DU</th>\n",
       "      <th>PH</th>\n",
       "      <th>Tel Aviv</th>\n",
       "      <th>Columbus</th>\n",
       "      <th>LND</th>\n",
       "      <th>El Segundo</th>\n",
       "      <th>Nashville</th>\n",
       "      <th>37</th>\n",
       "      <th>Birmingham</th>\n",
       "      <th>Miami</th>\n",
       "      <th>...</th>\n",
       "      <th>Salt Lake City</th>\n",
       "      <th>QLD</th>\n",
       "      <th>Stockholm</th>\n",
       "      <th>London</th>\n",
       "      <th>Houston</th>\n",
       "      <th>FI</th>\n",
       "      <th>NYK</th>\n",
       "      <th>Jersey City</th>\n",
       "      <th>PT</th>\n",
       "      <th>Chamberi | Madrid</th>\n",
       "    </tr>\n",
       "  </thead>\n",
       "  <tbody>\n",
       "    <tr>\n",
       "      <th>0</th>\n",
       "      <td>0</td>\n",
       "      <td>0</td>\n",
       "      <td>0</td>\n",
       "      <td>0</td>\n",
       "      <td>0</td>\n",
       "      <td>0</td>\n",
       "      <td>0</td>\n",
       "      <td>0</td>\n",
       "      <td>0</td>\n",
       "      <td>0</td>\n",
       "      <td>...</td>\n",
       "      <td>0</td>\n",
       "      <td>0</td>\n",
       "      <td>0</td>\n",
       "      <td>0</td>\n",
       "      <td>0</td>\n",
       "      <td>0</td>\n",
       "      <td>0</td>\n",
       "      <td>0</td>\n",
       "      <td>0</td>\n",
       "      <td>0</td>\n",
       "    </tr>\n",
       "    <tr>\n",
       "      <th>1</th>\n",
       "      <td>0</td>\n",
       "      <td>0</td>\n",
       "      <td>0</td>\n",
       "      <td>0</td>\n",
       "      <td>0</td>\n",
       "      <td>0</td>\n",
       "      <td>0</td>\n",
       "      <td>0</td>\n",
       "      <td>0</td>\n",
       "      <td>0</td>\n",
       "      <td>...</td>\n",
       "      <td>0</td>\n",
       "      <td>0</td>\n",
       "      <td>0</td>\n",
       "      <td>0</td>\n",
       "      <td>0</td>\n",
       "      <td>0</td>\n",
       "      <td>0</td>\n",
       "      <td>0</td>\n",
       "      <td>0</td>\n",
       "      <td>0</td>\n",
       "    </tr>\n",
       "    <tr>\n",
       "      <th>2</th>\n",
       "      <td>0</td>\n",
       "      <td>0</td>\n",
       "      <td>0</td>\n",
       "      <td>0</td>\n",
       "      <td>0</td>\n",
       "      <td>0</td>\n",
       "      <td>0</td>\n",
       "      <td>0</td>\n",
       "      <td>0</td>\n",
       "      <td>0</td>\n",
       "      <td>...</td>\n",
       "      <td>0</td>\n",
       "      <td>0</td>\n",
       "      <td>0</td>\n",
       "      <td>0</td>\n",
       "      <td>0</td>\n",
       "      <td>0</td>\n",
       "      <td>0</td>\n",
       "      <td>0</td>\n",
       "      <td>0</td>\n",
       "      <td>0</td>\n",
       "    </tr>\n",
       "    <tr>\n",
       "      <th>3</th>\n",
       "      <td>0</td>\n",
       "      <td>0</td>\n",
       "      <td>0</td>\n",
       "      <td>0</td>\n",
       "      <td>1</td>\n",
       "      <td>0</td>\n",
       "      <td>0</td>\n",
       "      <td>0</td>\n",
       "      <td>0</td>\n",
       "      <td>0</td>\n",
       "      <td>...</td>\n",
       "      <td>0</td>\n",
       "      <td>0</td>\n",
       "      <td>0</td>\n",
       "      <td>1</td>\n",
       "      <td>0</td>\n",
       "      <td>0</td>\n",
       "      <td>0</td>\n",
       "      <td>0</td>\n",
       "      <td>0</td>\n",
       "      <td>0</td>\n",
       "    </tr>\n",
       "    <tr>\n",
       "      <th>4</th>\n",
       "      <td>0</td>\n",
       "      <td>0</td>\n",
       "      <td>0</td>\n",
       "      <td>0</td>\n",
       "      <td>0</td>\n",
       "      <td>0</td>\n",
       "      <td>0</td>\n",
       "      <td>0</td>\n",
       "      <td>0</td>\n",
       "      <td>0</td>\n",
       "      <td>...</td>\n",
       "      <td>0</td>\n",
       "      <td>0</td>\n",
       "      <td>0</td>\n",
       "      <td>0</td>\n",
       "      <td>0</td>\n",
       "      <td>0</td>\n",
       "      <td>0</td>\n",
       "      <td>0</td>\n",
       "      <td>0</td>\n",
       "      <td>0</td>\n",
       "    </tr>\n",
       "  </tbody>\n",
       "</table>\n",
       "<p>5 rows × 311 columns</p>\n",
       "</div>"
      ],
      "text/plain": [
       "   DU  PH  Tel Aviv  Columbus  LND  El Segundo  Nashville  37  Birmingham  \\\n",
       "0   0   0         0         0    0           0          0   0           0   \n",
       "1   0   0         0         0    0           0          0   0           0   \n",
       "2   0   0         0         0    0           0          0   0           0   \n",
       "3   0   0         0         0    1           0          0   0           0   \n",
       "4   0   0         0         0    0           0          0   0           0   \n",
       "\n",
       "   Miami  ...  Salt Lake City  QLD  Stockholm  London  Houston  FI  NYK  \\\n",
       "0      0  ...               0    0          0       0        0   0    0   \n",
       "1      0  ...               0    0          0       0        0   0    0   \n",
       "2      0  ...               0    0          0       0        0   0    0   \n",
       "3      0  ...               0    0          0       1        0   0    0   \n",
       "4      0  ...               0    0          0       0        0   0    0   \n",
       "\n",
       "   Jersey City  PT  Chamberi | Madrid  \n",
       "0            0   0                  0  \n",
       "1            0   0                  0  \n",
       "2            0   0                  0  \n",
       "3            0   0                  0  \n",
       "4            0   0                  0  \n",
       "\n",
       "[5 rows x 311 columns]"
      ]
     },
     "execution_count": 143,
     "metadata": {},
     "output_type": "execute_result"
    }
   ],
   "source": [
    "train_locs.head()"
   ]
  },
  {
   "cell_type": "markdown",
   "id": "ec7c8ee1",
   "metadata": {
    "id": "ec7c8ee1"
   },
   "source": [
    "## Text data\n",
    "\n",
    "Before we convert text to vectors, some text cleaning can be beneficial. Let's tokenise the strings of the description feature to have a look at some of the tokens and identify some issues we may want to clean up:"
   ]
  },
  {
   "cell_type": "code",
   "execution_count": null,
   "id": "4403611b",
   "metadata": {
    "id": "4403611b"
   },
   "outputs": [],
   "source": [
    "all_desc = []\n",
    "all_title = []\n",
    "\n",
    "for i in jobs.index:\n",
    "    if type(jobs['description'][i]) != float:\n",
    "        desc = jobs['description'][i].lower().split()\n",
    "    title = jobs['title'][i].lower().split()\n",
    "    \n",
    "    for w in desc:\n",
    "        all_desc.append(w.strip())\n",
    "        \n",
    "    for w in title:\n",
    "        all_title.append(w.strip())"
   ]
  },
  {
   "cell_type": "code",
   "execution_count": null,
   "id": "71d90210",
   "metadata": {
    "id": "71d90210",
    "outputId": "4433698f-9e75-4640-a9bf-11e71bb3440a"
   },
   "outputs": [
    {
     "data": {
      "text/plain": [
       "{'obiee.',\n",
       " 'operations.experience',\n",
       " 'world.vmob',\n",
       " 'domains.',\n",
       " 'seedhack',\n",
       " 'lineother',\n",
       " 'lorries',\n",
       " '2012.design',\n",
       " 'lever).we',\n",
       " 'fl.all',\n",
       " 'commisssions.',\n",
       " 'διοικητικής',\n",
       " 'marvelous',\n",
       " 'staffproduce',\n",
       " 'beaufort3557',\n",
       " 'difference’',\n",
       " 'writing.within',\n",
       " 'accuracysource',\n",
       " 'summaryinitiates',\n",
       " 'suppliescoordinate',\n",
       " 'mu',\n",
       " 'thailand.responsible',\n",
       " '(#url_719340aef4872adc9cafd8b369168c5a0fce6645fb5a8149fb38b31ed893afc2#)rachel',\n",
       " 'parents•',\n",
       " 'suites153',\n",
       " 'monthsrate',\n",
       " 'members)',\n",
       " 'requested.you’ll',\n",
       " 'firm',\n",
       " 'properly.sleuthing',\n",
       " 'will:plan',\n",
       " 'teamwork.self-motivated.',\n",
       " 'repurchase',\n",
       " '(gd&amp;t)-makes',\n",
       " 'writinga',\n",
       " 'for.reporting',\n",
       " 'millions.responsibilitiesdesign,',\n",
       " 'equipment.able',\n",
       " '-enter',\n",
       " 'basis.adheres',\n",
       " 'longer)',\n",
       " 'usd,',\n",
       " 'skirting',\n",
       " 'eye',\n",
       " 'items.staying',\n",
       " 'clients)',\n",
       " 'with:tertiary',\n",
       " 'smaller,',\n",
       " 'employed.',\n",
       " 'summaries,',\n",
       " 'last',\n",
       " 'revenue.',\n",
       " 'life!####',\n",
       " 'schedule.develops',\n",
       " 'stuff!please',\n",
       " 'underperformancewe',\n",
       " 'nation-wide.stock/inventory',\n",
       " 'design.assist',\n",
       " 'virtualisation',\n",
       " 'hallscoordinate',\n",
       " 'neededmaintain',\n",
       " 'productsdo',\n",
       " 'restart',\n",
       " 'carried',\n",
       " 'positevly',\n",
       " 'ofmaking',\n",
       " 'regulationsmanaging',\n",
       " 'workgroups',\n",
       " 'operations:',\n",
       " 'turkey',\n",
       " '$500k+',\n",
       " 'supporthave',\n",
       " 'strategies.analyze',\n",
       " 'back',\n",
       " 'destination.every',\n",
       " '12',\n",
       " 'sphere/micro',\n",
       " 'organization.communicate',\n",
       " 'prelude',\n",
       " 'canadian',\n",
       " '[english]strong',\n",
       " 'synergi.',\n",
       " 'supervisor\"',\n",
       " 'manager;',\n",
       " 'ilposition',\n",
       " 'designs',\n",
       " 'deliveriesmail',\n",
       " 'mvchtml,',\n",
       " 'skillsreads,',\n",
       " 'literature',\n",
       " 'sixth',\n",
       " '316',\n",
       " 'peckham,',\n",
       " '#url_acad5f0f9933cd607d50e2450912bfa64c7ff29097041324a069bdc70a4dd4a8#',\n",
       " '9-6).rare',\n",
       " 'producenten',\n",
       " 'inspiring.',\n",
       " 'aut',\n",
       " 'teamunderstands',\n",
       " '(customers)',\n",
       " '#url_5c5b9f21d543fd6afd1f235afbedd82e23e9162b5533541d9107f6f6f740197c#',\n",
       " 'plumbing/mechanical/hvac',\n",
       " 'cms.',\n",
       " '(ceo),',\n",
       " 'choice',\n",
       " 'meatball',\n",
       " 'workloadmust',\n",
       " '-commercial',\n",
       " 'wellview',\n",
       " 'shoppers,',\n",
       " 'content.we',\n",
       " 'renewals•',\n",
       " 'interestedcontact',\n",
       " 'arizona)',\n",
       " 'workyou’ll',\n",
       " 'fulfills',\n",
       " 'best&nbsp;systems',\n",
       " 'to:social',\n",
       " 'πελατειακής',\n",
       " 'romania,',\n",
       " 'potential.in',\n",
       " 'centerparticipate',\n",
       " 'variances',\n",
       " 'site.operates',\n",
       " 'developer.responsibilities:interpret',\n",
       " 'area.requires',\n",
       " 'managementallocate',\n",
       " 'servicequalified',\n",
       " 'constituency;',\n",
       " 'advertising.director',\n",
       " '23',\n",
       " 'position.position',\n",
       " 'plus).solid',\n",
       " 'damage,',\n",
       " 'python/djangowiredrive',\n",
       " 'companysquare',\n",
       " 'https,',\n",
       " 'stark,',\n",
       " 'ergonomics,',\n",
       " 'to:be',\n",
       " 'legendary',\n",
       " 'richest',\n",
       " 'description:tailwind,',\n",
       " 'dressing,',\n",
       " 'vision?if',\n",
       " '(prioritizing,',\n",
       " 'york.duties:',\n",
       " 'procedures.develop,',\n",
       " 'opportunities.position',\n",
       " 'innovatea',\n",
       " 'scratch)',\n",
       " 'housing.we',\n",
       " 'toronto.',\n",
       " 'signs',\n",
       " 'illustration.eigital',\n",
       " 'workable',\n",
       " 'pushing',\n",
       " 'web●',\n",
       " 'companyrespond',\n",
       " 'sales”',\n",
       " '(powerpoint),',\n",
       " 'etc…)media',\n",
       " 'include:identify',\n",
       " 'goalscandidate',\n",
       " 'customerscoordination',\n",
       " 'subject:',\n",
       " 'profilepizza',\n",
       " 'dealers.working',\n",
       " 'entiretyshould',\n",
       " 'partnershipsidentify,',\n",
       " 'nc,',\n",
       " 'standards.as',\n",
       " 'obsessive,',\n",
       " 'etc..)what',\n",
       " 'intelligent',\n",
       " 'safeguarding/protection',\n",
       " 'work.document,',\n",
       " 'updates;',\n",
       " 'state-',\n",
       " 'criteria:user',\n",
       " '#url_ad9233857afb61a24d5254a643413b016312217b1b83c47577fbcf216be2d9b8#.',\n",
       " 'team:in',\n",
       " 'remember.',\n",
       " 'goals',\n",
       " 'analysts.',\n",
       " 'referralsmaintain',\n",
       " 'today:',\n",
       " 'platform.implementing',\n",
       " 'outlookupon',\n",
       " \"maria's\",\n",
       " 'insightsensuring',\n",
       " '&nbsp;travel',\n",
       " 'ride,',\n",
       " 'charitable,',\n",
       " 'arising.adhere',\n",
       " '10/1/2014',\n",
       " 'shoot',\n",
       " 'burning',\n",
       " 'apisreview',\n",
       " 'centeroffice',\n",
       " 'grade,',\n",
       " 'levels.identify',\n",
       " 'practices.act',\n",
       " 'population.',\n",
       " 'isv',\n",
       " 'learn!job',\n",
       " 'it!we',\n",
       " 'proficiency',\n",
       " 'open!!-',\n",
       " 'bets',\n",
       " 'fact.you',\n",
       " 'teamsactively',\n",
       " 'prowess',\n",
       " 'tableware,',\n",
       " 'adventage...',\n",
       " 'creativity',\n",
       " 'claraus',\n",
       " 'background.you',\n",
       " 'teamhave',\n",
       " 'audiencecritical',\n",
       " 'ns2',\n",
       " 'opportunitiesachieve',\n",
       " 'procurementorganizes',\n",
       " 'growth.our',\n",
       " 'necessarykey',\n",
       " 'changes.for',\n",
       " 'supervisor.calculate',\n",
       " 'creatively.creating',\n",
       " 'specialiing',\n",
       " 'replace,',\n",
       " 'parcel',\n",
       " 'esl',\n",
       " 'regulations.application',\n",
       " 'interior',\n",
       " 'svg.',\n",
       " 'researchanalyze',\n",
       " '$300m,',\n",
       " 'bird',\n",
       " 'solutions.review',\n",
       " 'arrivals•',\n",
       " 'heights.you',\n",
       " 'commscope,',\n",
       " 'line-management',\n",
       " 'experience)systems',\n",
       " 'difference!',\n",
       " 'us.office',\n",
       " 'advice.at',\n",
       " 'coolest,',\n",
       " 'gaming.what',\n",
       " 'organisations,',\n",
       " 'role;technical',\n",
       " 'tools.experienced',\n",
       " '603-2200',\n",
       " 'positions:m/w/f',\n",
       " 'management)prepare',\n",
       " 'records:',\n",
       " 'relationshiplook',\n",
       " 'world-wide.',\n",
       " 'dialertake',\n",
       " 'austria)',\n",
       " 'professionals.is',\n",
       " 'mannerpossibilities',\n",
       " 'judgment.demonstrating',\n",
       " 'clubcomponent/team:',\n",
       " 'plan.for',\n",
       " 'particularily',\n",
       " 'cds;training',\n",
       " 'discuss,',\n",
       " 'usalliance',\n",
       " 'reportingtimely',\n",
       " 'ppap',\n",
       " 'systemfile',\n",
       " 'campaignsresearching',\n",
       " 'global.responsibilitiesmeet',\n",
       " 'hand-in-hand',\n",
       " 'τόσο',\n",
       " '(branding',\n",
       " 'solutionsestablishes',\n",
       " 'operations.select',\n",
       " 'genuinepreferred3+',\n",
       " 'energycategory:',\n",
       " 'world.communicate',\n",
       " 'typesnavigate',\n",
       " 'groups.gather',\n",
       " 'monthsadvanced',\n",
       " 'timelooking',\n",
       " 'co-ordination',\n",
       " 'review§',\n",
       " 'supervisor.',\n",
       " 'παρακολουθεί',\n",
       " 'contributioncommunicates',\n",
       " 'bugsand',\n",
       " 'discipline.departmental',\n",
       " 'jobs.)#url_94f805e93a6fa859cd8540e9767e187e295d764a384221d77f8880142b6416b7#-#url_dbdb917780b325918ec611d0f47d6a0dff5ee871b96bc71180616d0d0570925b#education:',\n",
       " 'abrupt.',\n",
       " '(10/100/1gbaset,',\n",
       " '№585131',\n",
       " 'wonderfult',\n",
       " 'you.job',\n",
       " 'tddmentoring',\n",
       " 'student/graduate',\n",
       " 'description:analysis',\n",
       " 'and&nbsp;procedures.education',\n",
       " 'hang',\n",
       " 'laundering)',\n",
       " 'profession:',\n",
       " 'ideas/solutions',\n",
       " 'sound?',\n",
       " 'bonus!technical',\n",
       " 'equipment.candidates',\n",
       " 'thecompletion',\n",
       " 'forecastsmanaging',\n",
       " 'happier,',\n",
       " 'constantly',\n",
       " 'database.proven',\n",
       " 'reportingcontribute',\n",
       " 'ach)*refunding',\n",
       " 'requests.detailed',\n",
       " 'skeleton',\n",
       " 'boston.the',\n",
       " 'r2t4',\n",
       " 'environments.overall',\n",
       " 'marine.',\n",
       " 'file/',\n",
       " '(group',\n",
       " 'i.e.:',\n",
       " 'χωρίς',\n",
       " 'qualifications:kronos',\n",
       " 'stage.',\n",
       " 'sales.maintain',\n",
       " 'productshelp',\n",
       " 'transcribe,',\n",
       " 'blloon:develop',\n",
       " 'you.be',\n",
       " 'distributions',\n",
       " '(paid)',\n",
       " 'features.reporting',\n",
       " 'convergence',\n",
       " '#url_3ec8e6f01457ae5029d0c707a8a4bf1b3fcc372ebd9da45345b4f07faf5e570e#',\n",
       " 'do.in',\n",
       " 'idol,',\n",
       " 'platform.job',\n",
       " 'εταιρείας',\n",
       " 'cision',\n",
       " 'terminal.your',\n",
       " '(salesforce)work',\n",
       " 'team.owning',\n",
       " 'eventsgreat',\n",
       " 'improvementsto',\n",
       " 'it.compile',\n",
       " 'resourcesimplementation',\n",
       " '(tourism',\n",
       " 'security,',\n",
       " 'equipmentloading',\n",
       " 'facing',\n",
       " 'activitiesmanaging',\n",
       " 'honors',\n",
       " 'building:',\n",
       " 'hour',\n",
       " 'εργασιακό',\n",
       " 'c++/c#',\n",
       " 'languages)',\n",
       " 'liker',\n",
       " 'design/implementation/training/ongoing',\n",
       " 'cooper-hewitt',\n",
       " 'bonuses.the',\n",
       " 'setup',\n",
       " '(final)',\n",
       " '#email_1a1d8be1dc8bf6252bb9766d5a629cb3b5f522f7cd1867ea8a2ef42f9b84071a#',\n",
       " 'potrzebujemy',\n",
       " 'groupsyou',\n",
       " 'rhythm?',\n",
       " 'architecturesoperating',\n",
       " 'extraordinary',\n",
       " 'dolor.',\n",
       " 'parties.make',\n",
       " 'netgauge',\n",
       " 'geven',\n",
       " \"api's.\",\n",
       " 'resultsanalyzing',\n",
       " 'responsibilities:lead',\n",
       " 'obey',\n",
       " '1983,',\n",
       " 'yourself.\"in',\n",
       " 'pumps,',\n",
       " 'startup.we',\n",
       " 'windowsall',\n",
       " 'write',\n",
       " 'print,',\n",
       " '$1700',\n",
       " 'manager(s)',\n",
       " 'processes.9.support',\n",
       " 'outsource',\n",
       " 'translational',\n",
       " '£2.68',\n",
       " 'done*',\n",
       " 'usbuild',\n",
       " 'resale,',\n",
       " '(am)',\n",
       " 'buildslow-level',\n",
       " 'class.',\n",
       " 'workpapers;preparation',\n",
       " '#url_3a5b4cbcda3a1361676bd1c9be8826af8a16ca9dd35e01eba408dda291c28701#.',\n",
       " 'functionsperform',\n",
       " 'reid',\n",
       " 'salesoworks',\n",
       " 'purchaser.',\n",
       " 'call!!this',\n",
       " 'selecting',\n",
       " '“set',\n",
       " 'stationerysupply',\n",
       " 'fellowship.',\n",
       " 'contracting.develop',\n",
       " 'partnershipsthink',\n",
       " 'gifsassisting',\n",
       " 'llicense',\n",
       " '(optional)be',\n",
       " 'gatherings.assist',\n",
       " 'υψηλούς',\n",
       " 'geo-consulting',\n",
       " 'brabant,',\n",
       " 'brigade',\n",
       " 'generousleader,',\n",
       " 'show”',\n",
       " 'shadowprotect',\n",
       " 'include:heavy',\n",
       " 'experiencespresents',\n",
       " 'link#url_ff6a6560a6c8ffc9abc8638514eca2d0076d78dad46770ded91d352ed994fcff#work',\n",
       " 'operations/strategy/team',\n",
       " 'to:development',\n",
       " 'involve:•',\n",
       " 'commands;',\n",
       " 'technology*',\n",
       " 'refreshment',\n",
       " 'progresses;configure',\n",
       " '4-times',\n",
       " 'phone-calling',\n",
       " 'ruby/rails,',\n",
       " 'repayment',\n",
       " 'physical.',\n",
       " 'fedex/ups/dhl',\n",
       " 'newsletter)',\n",
       " 'dialogue',\n",
       " 'aligned.you’ll',\n",
       " 'company:',\n",
       " 'managementworks',\n",
       " \"audience.you'd\",\n",
       " 'dc!',\n",
       " 'developersmanagement',\n",
       " 'requested.evaluates,',\n",
       " 'itil;manage',\n",
       " '*/',\n",
       " 'texas,',\n",
       " 'managers;any',\n",
       " 'dutiesresearchmedia',\n",
       " 'businessmanaging',\n",
       " 'inventories.',\n",
       " 'maintenance.-',\n",
       " 'smartphone/tablet.&omicron;&iota;',\n",
       " 'bank.experience',\n",
       " 'worldwide.customers',\n",
       " 'activities)',\n",
       " '(contingency',\n",
       " 'required10.',\n",
       " 'icc),',\n",
       " 'requests;creating',\n",
       " 'sdlcability',\n",
       " 'sdlcestablishing',\n",
       " 'matrix.',\n",
       " 'tasks:you',\n",
       " 'hands\\xad-on:',\n",
       " 'actionpartner',\n",
       " 'wordpress/umbraco.we',\n",
       " 'support.development,',\n",
       " 'goalsthis',\n",
       " 'men;',\n",
       " 'inform',\n",
       " '(etc)',\n",
       " 'blog.assisting',\n",
       " '#url_d2e50312b18f8ada0f466bf4579994e61974454c4e7a6ad94764301863be4052#corporate',\n",
       " 'succeed!more',\n",
       " '(phs)',\n",
       " 'applicable)ensure',\n",
       " 'food/machine',\n",
       " 'immediately.how',\n",
       " 'classeswork',\n",
       " 'directors.raise',\n",
       " 'depot;',\n",
       " 'requirementslead,',\n",
       " 'arco,',\n",
       " 'developing,',\n",
       " 'ways.writing',\n",
       " 'divisie',\n",
       " 'test-cases',\n",
       " 'dna,',\n",
       " 'bathroom),',\n",
       " 'free-to-paid',\n",
       " 'membership.to',\n",
       " '(tickets,',\n",
       " 'consideration:',\n",
       " 'reviews).6)&nbsp;&nbsp;&nbsp;&nbsp;',\n",
       " 'herein',\n",
       " 'telecommuters',\n",
       " 'dangers',\n",
       " 'standardsdemonstrating',\n",
       " 'hhs',\n",
       " '150.',\n",
       " '(aws).',\n",
       " 'design.of',\n",
       " 'analysisperform',\n",
       " 'served.follow',\n",
       " 'algorithms',\n",
       " 'contribute.',\n",
       " 'inspector/manager',\n",
       " 'patternsdevelop,',\n",
       " 'opportunities;actively',\n",
       " 'entwicklungschancen',\n",
       " 'systems;development',\n",
       " '21st.how',\n",
       " 'facilitation.',\n",
       " 'designers!',\n",
       " 'fired',\n",
       " 'connectomex',\n",
       " 'exercise.this',\n",
       " 'experiencedevelop',\n",
       " 'times.-',\n",
       " 'acoustics,',\n",
       " 'languaged.&nbsp;&nbsp;&nbsp;&nbsp;&nbsp;&nbsp;other',\n",
       " 'risksexecute',\n",
       " 'coverage.ensure',\n",
       " 'practices.as',\n",
       " 'inserire',\n",
       " '(ltv),',\n",
       " 'education.',\n",
       " 'doggedly',\n",
       " 'patient-centered',\n",
       " 'tylko',\n",
       " '£18,000a',\n",
       " 'workvibrant',\n",
       " 'maintenance;',\n",
       " 'annum.if',\n",
       " 'lifting,',\n",
       " 'themnurturing',\n",
       " 'objectivesapplies',\n",
       " 'virtual.responsibilities•',\n",
       " 'talents,',\n",
       " 'spaceat',\n",
       " 'articlesmonth',\n",
       " '(c10',\n",
       " 'supportclean',\n",
       " 'moderately',\n",
       " 'customizations',\n",
       " 'applies',\n",
       " '#url_3f1bcb17b2fc7f624a902d1e7e894597be319e476f1dd1e734ecca98b2f3de0c#',\n",
       " 'aquaculture.',\n",
       " \"features.we're\",\n",
       " 'upsell.»',\n",
       " 'power)',\n",
       " 'fans.you',\n",
       " 'tasks:facebook,',\n",
       " 'small–but',\n",
       " 'assimilate',\n",
       " 'idiot.kidding!',\n",
       " '(female)dermatologist',\n",
       " 'systemusing',\n",
       " 'basec-level',\n",
       " 'for&nbsp;synόra&nbsp;and',\n",
       " 'greetings',\n",
       " 'tries',\n",
       " 'russian-speaking',\n",
       " 'cues,',\n",
       " 'management.since',\n",
       " 'networks;design,',\n",
       " 'team.drives',\n",
       " 'initiativesensure',\n",
       " 'available—warehouse',\n",
       " 'furtherdevelopment,',\n",
       " 'results.responsibilities:',\n",
       " 'whole.business',\n",
       " 'hours/week).',\n",
       " 'destiny\",',\n",
       " 'desktop-computer.',\n",
       " 'area)who',\n",
       " 'orthopedic,',\n",
       " 'nurse-icu,',\n",
       " 'enclosure',\n",
       " '47billion',\n",
       " 'doing:driving',\n",
       " 'testing.you',\n",
       " 'workbe',\n",
       " '70-hour,',\n",
       " 'metallic',\n",
       " '(ups/fedex/dhl)',\n",
       " 'dev,',\n",
       " 'stupid',\n",
       " 'marketing.ideally',\n",
       " 'technics',\n",
       " 'positive.job',\n",
       " 'requiredperform',\n",
       " 'button.',\n",
       " 'industry.first',\n",
       " 'wiedzieć',\n",
       " 'garrisonville,stafford,',\n",
       " 'developerthis',\n",
       " \"farmigo's\",\n",
       " '113experienced',\n",
       " 'folding,',\n",
       " 'finchley,',\n",
       " 'over-the-phone',\n",
       " 'entrepreneur-led',\n",
       " 'overviewaker',\n",
       " 'systemshands-on',\n",
       " 'brand.',\n",
       " 'olikka’s',\n",
       " 'required:bachelor’s',\n",
       " 'skills:ability',\n",
       " 'expedites',\n",
       " 'organisations.you',\n",
       " 'candidate:gets',\n",
       " 'customerwork',\n",
       " 'installed,',\n",
       " 'mannerongoing',\n",
       " 'custodian',\n",
       " 'industrial,',\n",
       " 's&amp;op',\n",
       " 'co-workersopportunity',\n",
       " 'contentmoderate',\n",
       " 'switch',\n",
       " 'achieve.',\n",
       " 'nicht',\n",
       " 'drive).',\n",
       " 'hours/budgetsetup',\n",
       " 'controlsmaintain',\n",
       " 'parent’s',\n",
       " 'strategy.responsible',\n",
       " 'templatesguard',\n",
       " 'pitchespersonal',\n",
       " 'installing',\n",
       " 'ecclesial',\n",
       " 'dealership!opportunity',\n",
       " 'facilitators,',\n",
       " 'office.candidates',\n",
       " 'perks.email:',\n",
       " 'caterers.please',\n",
       " 'strategymanage',\n",
       " 'kingdom,',\n",
       " 'ervaart',\n",
       " 'effectively/swiftly',\n",
       " 'intelligence.complete',\n",
       " 'equipmentlift',\n",
       " '99',\n",
       " 'consolidate',\n",
       " 'expansion.successful',\n",
       " 'standarddaily',\n",
       " 'convent',\n",
       " 'manufacturing',\n",
       " 'collaboration.you',\n",
       " 'traffikclient',\n",
       " 'capeability',\n",
       " 'downs,',\n",
       " 'descriptionin',\n",
       " '2024.',\n",
       " 'trainingen',\n",
       " 'elp',\n",
       " 'self-actualisation,',\n",
       " 'include:bachelors',\n",
       " 'timefunction:',\n",
       " 'management.monitors',\n",
       " 'coordinator.assist',\n",
       " 'companydetermining',\n",
       " 'customertransition',\n",
       " 'lithuanian.',\n",
       " 'purpose.',\n",
       " 'purpose;creating',\n",
       " 'dieselrole:',\n",
       " 'client(s)',\n",
       " 'photojojo,',\n",
       " 'controllogix',\n",
       " 'beer);',\n",
       " 'compliance.introduce',\n",
       " 'attitudecapable',\n",
       " 'people.why',\n",
       " 'servers?',\n",
       " 'accountable*experience',\n",
       " 'analytics.',\n",
       " 'requests/requirementscomply',\n",
       " 'language?if',\n",
       " 'reality!',\n",
       " 'locally-based',\n",
       " 'deliverymanage',\n",
       " 'developmentprovides',\n",
       " 'καθήκοντα',\n",
       " 'reviewsfirst',\n",
       " 'plan.manage',\n",
       " 'deadlines-',\n",
       " 'microsoft.',\n",
       " 'lot).the',\n",
       " 'frontline',\n",
       " 'next-level',\n",
       " 'membersexecutive',\n",
       " 'fulfillment?',\n",
       " 'environment.mange',\n",
       " 'procedureshiring,',\n",
       " 'republic.we',\n",
       " 'vcenter',\n",
       " 'tomorrow.the',\n",
       " 'cross-browser,',\n",
       " \"another's\",\n",
       " 'objectives.support',\n",
       " 'day-to',\n",
       " 'architecture.ensure',\n",
       " 'defendable',\n",
       " '(yes',\n",
       " '(ipp)',\n",
       " 'leaderboard',\n",
       " 'concepts/j2ee',\n",
       " 'lawson,',\n",
       " 'criteria.build',\n",
       " 'managementnurture',\n",
       " 'etc.build',\n",
       " '(french,',\n",
       " '#url_31a9446ce13682d0eb50436dd4cbd5f4c138a260e5979f9c71a29ddc643615f8#’s',\n",
       " 'mollis',\n",
       " 'enterprise.as',\n",
       " 'gpo;managing',\n",
       " 'responsibilities:be',\n",
       " 'promoters,',\n",
       " 'pt/ot',\n",
       " 'presencemanaging',\n",
       " 'clerk/customer',\n",
       " 'συμφέρον',\n",
       " 'developmentreports',\n",
       " 'suppliesmanage',\n",
       " 'perspectivegreat',\n",
       " 'communitybuild',\n",
       " 'difference?check',\n",
       " '(coffee',\n",
       " 'homemaker/personal',\n",
       " 'headquarters;',\n",
       " 'evangelize',\n",
       " 'to:use',\n",
       " 'cmt',\n",
       " 'services.scm',\n",
       " '#url_98b636c960adbebef086a07c092e13b1e36310114bbd8fb6c9a2f0c4cf3a916f#,',\n",
       " 'enquiries.prospection',\n",
       " 'nursing.',\n",
       " 'haad/dhajob',\n",
       " 'america),',\n",
       " 'incidents.you',\n",
       " 'receive:earning',\n",
       " 'exist.program',\n",
       " 'locate',\n",
       " 'twitter;',\n",
       " 'g2crowd',\n",
       " 'κοστολόγια.',\n",
       " '*competitive',\n",
       " 'meetingrecording',\n",
       " 'amy',\n",
       " \"isn't\",\n",
       " 'frameworks',\n",
       " 'challenge.we',\n",
       " 'upholsterers',\n",
       " 'brunswick,',\n",
       " 'teamsbalances',\n",
       " 'approach.strong',\n",
       " 'authentic,',\n",
       " '(those',\n",
       " 'staff.manage',\n",
       " 'www.#url_c1a7356dee97012c1db2521aecf1eb5714eeba520ef045ca800ed08842e3d370#',\n",
       " 'evangelizer',\n",
       " 'vagency:',\n",
       " 'incomputer',\n",
       " 'pngs',\n",
       " 'pricingfollow',\n",
       " 'multiple-projects/workstreams',\n",
       " 'usablehelp',\n",
       " 'automation?',\n",
       " 'auditors,',\n",
       " 'adminpotential',\n",
       " 'calls-entering',\n",
       " 'positioninghave',\n",
       " 'function.responsibilities:the',\n",
       " 'responsibilities:team:',\n",
       " 'removal,',\n",
       " 'denormalization.thorough',\n",
       " 'possible!responsibilities-',\n",
       " 'like:#url_00463f1d5f6fe664ac06cd5ee9a5a8aa2b41135380e96d4c97cdc85c1d73d9c3#',\n",
       " 'westview',\n",
       " 'nh',\n",
       " 'rephrased',\n",
       " 'managerprimary',\n",
       " 'cabal',\n",
       " 'bottlenose,',\n",
       " 'numbers.\\uf0b7',\n",
       " 'closecustomer',\n",
       " 'abatement',\n",
       " 'channelsidentify,',\n",
       " 'stipend',\n",
       " 'scholars',\n",
       " 'ideally,',\n",
       " 'application&lt;x{(}&gt;(cta)/investigational',\n",
       " 'time...apply',\n",
       " 'affiliations',\n",
       " 'effectivelyeffectively',\n",
       " 'clients-emailing',\n",
       " 'indicators.supervises',\n",
       " 'eventsmeet',\n",
       " 'employees.maintains',\n",
       " 'business.usraising',\n",
       " '#url_d2b16c51cd0d34cff593839531b32ce8dacf9cbef44a76b3f489ba843712c69e#',\n",
       " 'js/css).persistent',\n",
       " 'fireworks,',\n",
       " 'audio;',\n",
       " 'moderate.',\n",
       " '$270,000if',\n",
       " 'aesthetics',\n",
       " 'se1,',\n",
       " 'contractjob',\n",
       " 'doubts?apply',\n",
       " 'παραμετροποιεί',\n",
       " 're-inventing',\n",
       " 'applicationstest,',\n",
       " 'unauthorized',\n",
       " 'กับทีมสร้างมันขึ้นมาเองต้องการสร้างและมี',\n",
       " '$22/hour',\n",
       " '46902',\n",
       " '6pm',\n",
       " 'behaviours,',\n",
       " 'associates’',\n",
       " 'commission*benefits',\n",
       " 'o.o.hello',\n",
       " 'responsibilities:testing',\n",
       " 'industry.tapped-into',\n",
       " 'hana/',\n",
       " 'needs-',\n",
       " 'objectives.leads',\n",
       " 'customersmonitor',\n",
       " 'chimenet,',\n",
       " 'campaign.with',\n",
       " 'text.make',\n",
       " 'paws',\n",
       " '8-9',\n",
       " \"transact.we're\",\n",
       " '(#url_f31cd231df8a07ac7db3f10f35e02185990af8490ab3102628cd870d073671b8#)',\n",
       " 'indicators.lead',\n",
       " 'packaged',\n",
       " 'ost',\n",
       " 'über-talented',\n",
       " 'm@dison',\n",
       " 'account.•',\n",
       " 'assertive',\n",
       " 'work.4.',\n",
       " '...).as',\n",
       " 'ipads',\n",
       " 'defects?we',\n",
       " 'workthe',\n",
       " 'planresponsible',\n",
       " 'websphere',\n",
       " 'pq01f03)completes',\n",
       " 'customers.·',\n",
       " 'dishwashing,',\n",
       " 'wakefield.',\n",
       " 'needs.monitors',\n",
       " 'demeanor.',\n",
       " 'click-throughs,',\n",
       " 'constructed',\n",
       " 'associates',\n",
       " 'opportunities.monitoring',\n",
       " 'filamentthink',\n",
       " 'ignitionone,',\n",
       " \"enterprises.you'll\",\n",
       " 'selling.if',\n",
       " 'systemresponding',\n",
       " 'competitors-researchcreative',\n",
       " 'optimised.your',\n",
       " 'situations.must',\n",
       " 'smsupdate',\n",
       " 'salzburgwould',\n",
       " 'fun!we',\n",
       " 'you!-',\n",
       " 'status:7)have',\n",
       " 'doer',\n",
       " 'success.for',\n",
       " 'change.job',\n",
       " 'screenings.providing',\n",
       " 'vehicle.referring',\n",
       " 'descriptiontechnology',\n",
       " 'follow:',\n",
       " 'revenues.monitor',\n",
       " 'data.interpret',\n",
       " 'ciekawych',\n",
       " 'calendars',\n",
       " 'relationships.you',\n",
       " 'a/e',\n",
       " '$400+m',\n",
       " 'marketingproject-based–',\n",
       " 'ownersidentify',\n",
       " 'marketingunderstand',\n",
       " 'nice.we',\n",
       " 'basics',\n",
       " 'feasible,',\n",
       " 'marketingapplicable',\n",
       " \"infrascale's\",\n",
       " 'standardsestimate',\n",
       " 'both.our',\n",
       " 'position:this',\n",
       " 'systemlead',\n",
       " 'alumnirecruit',\n",
       " 'enduring',\n",
       " 'csidentity',\n",
       " 'activities.maintain',\n",
       " 'interface,',\n",
       " 'sfg',\n",
       " 'geniuses,',\n",
       " '(ucl)',\n",
       " 'management.oversee',\n",
       " '#url_afe601e317e1460fc96339e08a5f6de30bacf2369406ef1c49133b30b8b55161#',\n",
       " 'addressed',\n",
       " 'person.other',\n",
       " 'hourstart',\n",
       " 'staff.accountable',\n",
       " 'supplierscheck',\n",
       " 'operations.*',\n",
       " 'nationwide.qualifications',\n",
       " 'ipod',\n",
       " 'upgradeswork',\n",
       " '“just',\n",
       " '(mon-fri)',\n",
       " 'rebatesgenerating',\n",
       " 'tx.roles',\n",
       " 'data.•',\n",
       " 'formats',\n",
       " 'hayes.',\n",
       " 'mattawan',\n",
       " 'agencyassist',\n",
       " 'psd',\n",
       " \"lives.let's\",\n",
       " 'nominated,',\n",
       " '3,5',\n",
       " 'ubiquitously',\n",
       " '7-8+',\n",
       " 'forth.you',\n",
       " 'now,',\n",
       " 'weekday',\n",
       " 'claims/complains',\n",
       " 'training.the',\n",
       " 'filesliaise',\n",
       " 'money?are',\n",
       " 'of:optimizing',\n",
       " 'fulfilled',\n",
       " 'sundays.',\n",
       " 'green-field',\n",
       " 'professionallymaintain',\n",
       " 'positionsrecognizing',\n",
       " 'objectives.vso',\n",
       " 'enjoyable',\n",
       " 'solve-',\n",
       " '#phone_f7b8b1a71e74ee9270b48890646ca6aa446d2d60adf28d3ad70c0f8b6cbf1d71#',\n",
       " 'video.young',\n",
       " 'fast-paced,',\n",
       " 'brc).to',\n",
       " 'jquery?',\n",
       " 'needsdemonstrate',\n",
       " 'txfrisco,',\n",
       " '$75',\n",
       " '(freelance',\n",
       " 'seo/semmaintaining',\n",
       " 'plans•',\n",
       " '-answering',\n",
       " 'honda',\n",
       " 'ksduration:',\n",
       " 'blowout',\n",
       " 'staples,',\n",
       " 'smartbrief',\n",
       " 'procedures.organize',\n",
       " '19512',\n",
       " 'use.follows',\n",
       " 'wcm.&nbsp;',\n",
       " 'done!you',\n",
       " 'internerns',\n",
       " 'company.ensure',\n",
       " 'weeks.in',\n",
       " 'indistinguishably',\n",
       " 'dealership-post',\n",
       " 'marketing/advertising/event',\n",
       " 'clears',\n",
       " 'strategies.write',\n",
       " 'cup,',\n",
       " 'temporarily',\n",
       " 'packageworking',\n",
       " 'recommendationsregularly',\n",
       " 'eventcoordinate',\n",
       " 'key;',\n",
       " 'better!',\n",
       " '\"confidently',\n",
       " '(ehs)',\n",
       " 'operationsreports',\n",
       " 'certified.',\n",
       " 'emt’s',\n",
       " 'useful*',\n",
       " ...}"
      ]
     },
     "execution_count": 131,
     "metadata": {},
     "output_type": "execute_result"
    }
   ],
   "source": [
    "set(all_desc)"
   ]
  },
  {
   "cell_type": "markdown",
   "id": "102f3412",
   "metadata": {
    "id": "102f3412"
   },
   "source": [
    "Number of unique tokens:"
   ]
  },
  {
   "cell_type": "code",
   "execution_count": null,
   "id": "e278ecce",
   "metadata": {
    "id": "e278ecce",
    "outputId": "47a26806-8a68-43fa-8d80-9ff2f551c724"
   },
   "outputs": [
    {
     "data": {
      "text/plain": [
       "138884"
      ]
     },
     "execution_count": 128,
     "metadata": {},
     "output_type": "execute_result"
    }
   ],
   "source": [
    "len(set(all_desc))"
   ]
  },
  {
   "cell_type": "markdown",
   "id": "b3ca3c66",
   "metadata": {
    "id": "b3ca3c66"
   },
   "source": [
    "Number of unique tokens with a full-stop (not on the end of the token as per the end of a sentence): "
   ]
  },
  {
   "cell_type": "code",
   "execution_count": null,
   "id": "918122ce",
   "metadata": {
    "id": "918122ce",
    "outputId": "a0437e1c-cbc2-4b4d-c057-0766968ffeb8"
   },
   "outputs": [
    {
     "data": {
      "text/plain": [
       "28884"
      ]
     },
     "execution_count": 136,
     "metadata": {},
     "output_type": "execute_result"
    }
   ],
   "source": [
    "len(set([s for s in all_desc if s[:-1].__contains__('.')]))"
   ]
  },
  {
   "cell_type": "markdown",
   "id": "a27ec3e8",
   "metadata": {
    "id": "a27ec3e8"
   },
   "source": [
    "Some of the issues within the text we want to clean:\n",
    "* We have URLS, which are formatted '#url_.......#' - each one will be unique. However, the existence of URLs may be useful information, so we can replace them with 'url_'. We can do the same for email tags, '#email.....#', and other similar sets.\n",
    "* Often, there are spaces missing after full stops, for example 'judgment.demonstrating'. This is very common in text which has been scraped online, as often new line characters are removed to make the text into a single string, and authors rarely put a space on the end of a sentence at the end of the paragraph before starting a new one. We see that over 20% of all unique tokens extracted from descriptions have a full stop in the middle of the token (not on the end) - this text quality issue is very prevalent so we should take the time to clean it. We can also include other punctuation used to end sentences (! and ?).\n",
    "\n",
    "We can see that we still have a huge amount of unique tokens. We can reduce dimensionality further by: \n",
    "* Removing stop words (common words which do not reveal a topic or much information, such as 'and' and 'the').\n",
    "* We can stem or lemmatise words. Lemmatisation is preferable as it converts a word to it's base form which will preserve the true meaning of the word, whereas stemming removes common prefixes and suffixes, which can be problematic for context. For example the lemma of the word 'baring' is 'bare', but the stem is 'bar', and we can clearly see bare and bar usually have very different meaning and context.\n",
    "* We can ignore tokens which only occur once or very rarely, as it is overwhelmingly likely they will never occur again and have no predictive power.\n",
    "\n",
    "Now we can write a data cleaning function:"
   ]
  },
  {
   "cell_type": "code",
   "execution_count": null,
   "id": "2e899239",
   "metadata": {
    "id": "2e899239"
   },
   "outputs": [],
   "source": [
    "# Load spaCy core language model\n",
    "spacy_model = spacy.load('en_core_web_sm')\n",
    "\n",
    "# Get spaCy stopwords\n",
    "stopwords = spacy_model.Defaults.stop_words\n",
    "\n",
    "# Input is the dataframe, columns to clean and whether to remove tokens which only occur in one row\n",
    "def clean_text(df, cols, remove_single=False):\n",
    "    \n",
    "    # Clean each column in the list specified\n",
    "    for col in cols:\n",
    "        \n",
    "        # List to track all tokens\n",
    "        all_tokens = []\n",
    "\n",
    "        for i in df.index:\n",
    "\n",
    "            txt = df[col][i]\n",
    "\n",
    "            # If not null\n",
    "            if txt == txt:\n",
    "                # Deal with sentence endings which may not have necessary spaces after them\n",
    "                txt = re.sub('!|\\.|\\?', ' ', txt.lower())\n",
    "\n",
    "                # Remove remaining punctuation by removing all characters which are not alphanumeric, whitespace or understores    \n",
    "                txt = re.sub(r'[^\\w\\s]', '', txt)\n",
    "\n",
    "                # Create a spaCy object (required for lemmatisation)\n",
    "                sp_txt = spacy_model(txt)\n",
    "\n",
    "                # Tokenise string and lemmatise words\n",
    "                tokens = [t.lemma_ for t in sp_txt]\n",
    "\n",
    "                # Remove stop words\n",
    "                tokens = [t for t in tokens if t not in stopwords]\n",
    "\n",
    "                # Deal with URLs and links by getting rid of any numbers and values after underscores\n",
    "                # Keep underscore to differentiate links from the word 'URL'\n",
    "                tokens_underscore = [t.split('_')[0]+'_' for t in tokens if t.__contains__('_')]\n",
    "                tokens_other = [t for t in tokens if not t.__contains__('_')]\n",
    "                tokens = tokens_underscore + tokens_other\n",
    "                \n",
    "                # Remove other url markers and single underscore tokens\n",
    "                tokens = [t for t in tokens if t!='_' and not t.__contains__('http90url')]\n",
    "\n",
    "                # Append to all tokens list\n",
    "                all_tokens += set(tokens)\n",
    "\n",
    "                # Store\n",
    "                df.loc[i, col] = ' '. join(tokens)\n",
    "\n",
    "        if remove_single == True:\n",
    "            # Procedure to remove all tokens that only appear in one row to reduce dimensionality\n",
    "            tokens_keep = [t for t in set(all_tokens) if all_tokens.count(t) > 1]\n",
    "\n",
    "            for i in df.index:\n",
    "\n",
    "                txt = df[col][i]\n",
    "\n",
    "                if txt==txt:\n",
    "                    tokens = txt.split()\n",
    "\n",
    "                    # Include only tokens which appear at least twice\n",
    "                    tokens = [t for t in tokens if t in tokens_keep]\n",
    "\n",
    "                    # Join tokens back into a string ready for tf-idf vectorisation\n",
    "                    df.loc[i, col] = ' '.join(tokens)\n",
    "\n",
    "    # Return dataframe with cleaned text\n",
    "    return df"
   ]
  },
  {
   "cell_type": "markdown",
   "id": "053dab98",
   "metadata": {
    "id": "053dab98"
   },
   "source": [
    "Get text columns:"
   ]
  },
  {
   "cell_type": "code",
   "execution_count": null,
   "id": "95b51a22",
   "metadata": {
    "id": "95b51a22"
   },
   "outputs": [],
   "source": [
    "text_cols = ['title', 'company_profile', 'description', 'requirements', 'benefits']\n",
    "\n",
    "train_text = train_npp[text_cols]"
   ]
  },
  {
   "cell_type": "code",
   "execution_count": null,
   "id": "433b9527",
   "metadata": {
    "id": "433b9527"
   },
   "outputs": [],
   "source": [
    "train_text_clean = clean_text(train_text.copy(), text_cols)"
   ]
  },
  {
   "cell_type": "code",
   "execution_count": null,
   "id": "68832c7b",
   "metadata": {
    "id": "68832c7b"
   },
   "outputs": [],
   "source": [
    "# Save as processing takes a long time\n",
    "train_text_clean.to_csv('train_text_clean.csv')"
   ]
  },
  {
   "cell_type": "code",
   "execution_count": 4,
   "id": "953fa050",
   "metadata": {
    "id": "953fa050",
    "outputId": "e64af0a2-eda5-4194-ed23-7f9039b8543c"
   },
   "outputs": [
    {
     "data": {
      "text/html": [
       "<div>\n",
       "<style scoped>\n",
       "    .dataframe tbody tr th:only-of-type {\n",
       "        vertical-align: middle;\n",
       "    }\n",
       "\n",
       "    .dataframe tbody tr th {\n",
       "        vertical-align: top;\n",
       "    }\n",
       "\n",
       "    .dataframe thead th {\n",
       "        text-align: right;\n",
       "    }\n",
       "</style>\n",
       "<table border=\"1\" class=\"dataframe\">\n",
       "  <thead>\n",
       "    <tr style=\"text-align: right;\">\n",
       "      <th></th>\n",
       "      <th>title</th>\n",
       "      <th>company_profile</th>\n",
       "      <th>description</th>\n",
       "      <th>requirements</th>\n",
       "      <th>benefits</th>\n",
       "    </tr>\n",
       "  </thead>\n",
       "  <tbody>\n",
       "    <tr>\n",
       "      <th>0</th>\n",
       "      <td>english teacher abroad</td>\n",
       "      <td>help teacher safe amp secure job abroad</td>\n",
       "      <td>url_ play kid pay   love travel   job asia1500...</td>\n",
       "      <td>university degree require   tefl   tesol   cel...</td>\n",
       "      <td>job description</td>\n",
       "    </tr>\n",
       "    <tr>\n",
       "      <th>1</th>\n",
       "      <td>sale manager</td>\n",
       "      <td>NaN</td>\n",
       "      <td>url_ contentful apifirst content management pl...</td>\n",
       "      <td>successful history selling software ideally sa...</td>\n",
       "      <td>web change interactive revolution work cutting...</td>\n",
       "    </tr>\n",
       "    <tr>\n",
       "      <th>2</th>\n",
       "      <td>title sale representative</td>\n",
       "      <td>email_ phone_ phone_ network closing service  ...</td>\n",
       "      <td>sanchezphone_ network closing services inc   s...</td>\n",
       "      <td>experienced candiate onlya successful candid...</td>\n",
       "      <td>provide fun rewarding atmosphere employee supp...</td>\n",
       "    </tr>\n",
       "    <tr>\n",
       "      <th>3</th>\n",
       "      <td>php   lamp   magento   symfony   zend developer</td>\n",
       "      <td>wedo collection niched ecommerce store aim des...</td>\n",
       "      <td>referral bonus offer 500 successful placemen...</td>\n",
       "      <td>qualificationsstrong commercial programming ex...</td>\n",
       "      <td>benefit   product discount   great environment...</td>\n",
       "    </tr>\n",
       "    <tr>\n",
       "      <th>4</th>\n",
       "      <td>inside sale specialist western region</td>\n",
       "      <td>posx rapidly grow pointofsale hardware manufac...</td>\n",
       "      <td>url_ posx rapidly grow pointofsale hardware ma...</td>\n",
       "      <td>qualificationsstrong interest sale customer se...</td>\n",
       "      <td>pay 32   52k depend experience performanceheal...</td>\n",
       "    </tr>\n",
       "  </tbody>\n",
       "</table>\n",
       "</div>"
      ],
      "text/plain": [
       "                                             title  \\\n",
       "0                           english teacher abroad   \n",
       "1                                     sale manager   \n",
       "2                        title sale representative   \n",
       "3  php   lamp   magento   symfony   zend developer   \n",
       "4            inside sale specialist western region   \n",
       "\n",
       "                                     company_profile  \\\n",
       "0            help teacher safe amp secure job abroad   \n",
       "1                                                NaN   \n",
       "2  email_ phone_ phone_ network closing service  ...   \n",
       "3  wedo collection niched ecommerce store aim des...   \n",
       "4  posx rapidly grow pointofsale hardware manufac...   \n",
       "\n",
       "                                         description  \\\n",
       "0  url_ play kid pay   love travel   job asia1500...   \n",
       "1  url_ contentful apifirst content management pl...   \n",
       "2  sanchezphone_ network closing services inc   s...   \n",
       "3    referral bonus offer 500 successful placemen...   \n",
       "4  url_ posx rapidly grow pointofsale hardware ma...   \n",
       "\n",
       "                                        requirements  \\\n",
       "0  university degree require   tefl   tesol   cel...   \n",
       "1  successful history selling software ideally sa...   \n",
       "2    experienced candiate onlya successful candid...   \n",
       "3  qualificationsstrong commercial programming ex...   \n",
       "4  qualificationsstrong interest sale customer se...   \n",
       "\n",
       "                                            benefits  \n",
       "0                                    job description  \n",
       "1  web change interactive revolution work cutting...  \n",
       "2  provide fun rewarding atmosphere employee supp...  \n",
       "3  benefit   product discount   great environment...  \n",
       "4  pay 32   52k depend experience performanceheal...  "
      ]
     },
     "execution_count": 4,
     "metadata": {},
     "output_type": "execute_result"
    }
   ],
   "source": [
    "train_text_clean = pd.read_csv('train_text_clean.csv', index_col=0)\n",
    "\n",
    "train_text_clean.head()"
   ]
  },
  {
   "cell_type": "markdown",
   "id": "751a35aa",
   "metadata": {
    "id": "751a35aa"
   },
   "source": [
    "We can now see the difference between the original and cleaned text:"
   ]
  },
  {
   "cell_type": "code",
   "execution_count": null,
   "id": "bd97fdd9",
   "metadata": {
    "id": "bd97fdd9",
    "outputId": "a7c4a802-1161-4dc6-d3ad-302beada5bbf"
   },
   "outputs": [
    {
     "data": {
      "text/html": [
       "<div>\n",
       "<style scoped>\n",
       "    .dataframe tbody tr th:only-of-type {\n",
       "        vertical-align: middle;\n",
       "    }\n",
       "\n",
       "    .dataframe tbody tr th {\n",
       "        vertical-align: top;\n",
       "    }\n",
       "\n",
       "    .dataframe thead th {\n",
       "        text-align: right;\n",
       "    }\n",
       "</style>\n",
       "<table border=\"1\" class=\"dataframe\">\n",
       "  <thead>\n",
       "    <tr style=\"text-align: right;\">\n",
       "      <th></th>\n",
       "      <th>title</th>\n",
       "      <th>company_profile</th>\n",
       "      <th>description</th>\n",
       "      <th>requirements</th>\n",
       "      <th>benefits</th>\n",
       "    </tr>\n",
       "  </thead>\n",
       "  <tbody>\n",
       "    <tr>\n",
       "      <th>0</th>\n",
       "      <td>English Teacher Abroad</td>\n",
       "      <td>We help teachers get safe &amp;amp; secure jobs ab...</td>\n",
       "      <td>Play with kids, get paid for it Love travel? J...</td>\n",
       "      <td>University degree required. TEFL / TESOL / CEL...</td>\n",
       "      <td>See job description</td>\n",
       "    </tr>\n",
       "    <tr>\n",
       "      <th>1</th>\n",
       "      <td>Sales Manager</td>\n",
       "      <td>NaN</td>\n",
       "      <td>Contentful (#URL_0252efddcbc4b8f51969fca7b0545...</td>\n",
       "      <td>Successful history selling software (ideally S...</td>\n",
       "      <td>The Web is changing and becoming more interact...</td>\n",
       "    </tr>\n",
       "    <tr>\n",
       "      <th>2</th>\n",
       "      <td>Title Sales Representative</td>\n",
       "      <td>Network Closing Services has been serving Lend...</td>\n",
       "      <td>Network Closing Services, Inc., a full service...</td>\n",
       "      <td>**Experienced candiates only**A successful ca...</td>\n",
       "      <td>We provide a fun and rewarding atmosphere, our...</td>\n",
       "    </tr>\n",
       "    <tr>\n",
       "      <th>3</th>\n",
       "      <td>PHP / LAMP / Magento / Symfony / Zend Developer</td>\n",
       "      <td>Wedo is a collection of niched e-commerce stor...</td>\n",
       "      <td>** Referral Bonus **We're offering £500 for a ...</td>\n",
       "      <td>Qualifications:Strong commercial programming e...</td>\n",
       "      <td>Benefits: • Product discounts • A great enviro...</td>\n",
       "    </tr>\n",
       "    <tr>\n",
       "      <th>4</th>\n",
       "      <td>Inside Sales Specialist Western Region</td>\n",
       "      <td>POS-X is a rapidly growing point-of-sale hardw...</td>\n",
       "      <td>POS-X is a rapidly growing point-of-sale hardw...</td>\n",
       "      <td>QualificationsStrong interest in a sales and c...</td>\n",
       "      <td>Pay $32 - $52k, Depending on experience and pe...</td>\n",
       "    </tr>\n",
       "  </tbody>\n",
       "</table>\n",
       "</div>"
      ],
      "text/plain": [
       "                                              title  \\\n",
       "0                            English Teacher Abroad   \n",
       "1                                     Sales Manager   \n",
       "2                        Title Sales Representative   \n",
       "3  PHP / LAMP / Magento / Symfony / Zend Developer    \n",
       "4            Inside Sales Specialist Western Region   \n",
       "\n",
       "                                     company_profile  \\\n",
       "0  We help teachers get safe &amp; secure jobs ab...   \n",
       "1                                                NaN   \n",
       "2  Network Closing Services has been serving Lend...   \n",
       "3  Wedo is a collection of niched e-commerce stor...   \n",
       "4  POS-X is a rapidly growing point-of-sale hardw...   \n",
       "\n",
       "                                         description  \\\n",
       "0  Play with kids, get paid for it Love travel? J...   \n",
       "1  Contentful (#URL_0252efddcbc4b8f51969fca7b0545...   \n",
       "2  Network Closing Services, Inc., a full service...   \n",
       "3  ** Referral Bonus **We're offering £500 for a ...   \n",
       "4  POS-X is a rapidly growing point-of-sale hardw...   \n",
       "\n",
       "                                        requirements  \\\n",
       "0  University degree required. TEFL / TESOL / CEL...   \n",
       "1  Successful history selling software (ideally S...   \n",
       "2   **Experienced candiates only**A successful ca...   \n",
       "3  Qualifications:Strong commercial programming e...   \n",
       "4  QualificationsStrong interest in a sales and c...   \n",
       "\n",
       "                                            benefits  \n",
       "0                                See job description  \n",
       "1  The Web is changing and becoming more interact...  \n",
       "2  We provide a fun and rewarding atmosphere, our...  \n",
       "3  Benefits: • Product discounts • A great enviro...  \n",
       "4  Pay $32 - $52k, Depending on experience and pe...  "
      ]
     },
     "execution_count": 338,
     "metadata": {},
     "output_type": "execute_result"
    }
   ],
   "source": [
    "train_text.head()"
   ]
  },
  {
   "cell_type": "code",
   "execution_count": null,
   "id": "88289688",
   "metadata": {
    "id": "88289688",
    "outputId": "1b0e6b8c-3146-4f06-ff35-de5fb45b0a76"
   },
   "outputs": [
    {
     "data": {
      "text/html": [
       "<div>\n",
       "<style scoped>\n",
       "    .dataframe tbody tr th:only-of-type {\n",
       "        vertical-align: middle;\n",
       "    }\n",
       "\n",
       "    .dataframe tbody tr th {\n",
       "        vertical-align: top;\n",
       "    }\n",
       "\n",
       "    .dataframe thead th {\n",
       "        text-align: right;\n",
       "    }\n",
       "</style>\n",
       "<table border=\"1\" class=\"dataframe\">\n",
       "  <thead>\n",
       "    <tr style=\"text-align: right;\">\n",
       "      <th></th>\n",
       "      <th>title</th>\n",
       "      <th>company_profile</th>\n",
       "      <th>description</th>\n",
       "      <th>requirements</th>\n",
       "      <th>benefits</th>\n",
       "    </tr>\n",
       "  </thead>\n",
       "  <tbody>\n",
       "    <tr>\n",
       "      <th>0</th>\n",
       "      <td>english teacher abroad</td>\n",
       "      <td>help teacher safe amp secure job abroad</td>\n",
       "      <td>url_ play kid pay   love travel   job asia1500...</td>\n",
       "      <td>university degree require   tefl   tesol   cel...</td>\n",
       "      <td>job description</td>\n",
       "    </tr>\n",
       "    <tr>\n",
       "      <th>1</th>\n",
       "      <td>sale manager</td>\n",
       "      <td>NaN</td>\n",
       "      <td>url_ contentful apifirst content management pl...</td>\n",
       "      <td>successful history selling software ideally sa...</td>\n",
       "      <td>web change interactive revolution work cutting...</td>\n",
       "    </tr>\n",
       "    <tr>\n",
       "      <th>2</th>\n",
       "      <td>title sale representative</td>\n",
       "      <td>email_ phone_ phone_ network closing service  ...</td>\n",
       "      <td>sanchezphone_ network closing services inc   s...</td>\n",
       "      <td>experienced candiate onlya successful candid...</td>\n",
       "      <td>provide fun rewarding atmosphere employee supp...</td>\n",
       "    </tr>\n",
       "    <tr>\n",
       "      <th>3</th>\n",
       "      <td>php   lamp   magento   symfony   zend developer</td>\n",
       "      <td>wedo collection niched ecommerce store aim des...</td>\n",
       "      <td>referral bonus offer 500 successful placemen...</td>\n",
       "      <td>qualificationsstrong commercial programming ex...</td>\n",
       "      <td>benefit   product discount   great environment...</td>\n",
       "    </tr>\n",
       "    <tr>\n",
       "      <th>4</th>\n",
       "      <td>inside sale specialist western region</td>\n",
       "      <td>posx rapidly grow pointofsale hardware manufac...</td>\n",
       "      <td>url_ posx rapidly grow pointofsale hardware ma...</td>\n",
       "      <td>qualificationsstrong interest sale customer se...</td>\n",
       "      <td>pay 32   52k depend experience performanceheal...</td>\n",
       "    </tr>\n",
       "  </tbody>\n",
       "</table>\n",
       "</div>"
      ],
      "text/plain": [
       "                                             title  \\\n",
       "0                           english teacher abroad   \n",
       "1                                     sale manager   \n",
       "2                        title sale representative   \n",
       "3  php   lamp   magento   symfony   zend developer   \n",
       "4            inside sale specialist western region   \n",
       "\n",
       "                                     company_profile  \\\n",
       "0            help teacher safe amp secure job abroad   \n",
       "1                                                NaN   \n",
       "2  email_ phone_ phone_ network closing service  ...   \n",
       "3  wedo collection niched ecommerce store aim des...   \n",
       "4  posx rapidly grow pointofsale hardware manufac...   \n",
       "\n",
       "                                         description  \\\n",
       "0  url_ play kid pay   love travel   job asia1500...   \n",
       "1  url_ contentful apifirst content management pl...   \n",
       "2  sanchezphone_ network closing services inc   s...   \n",
       "3    referral bonus offer 500 successful placemen...   \n",
       "4  url_ posx rapidly grow pointofsale hardware ma...   \n",
       "\n",
       "                                        requirements  \\\n",
       "0  university degree require   tefl   tesol   cel...   \n",
       "1  successful history selling software ideally sa...   \n",
       "2    experienced candiate onlya successful candid...   \n",
       "3  qualificationsstrong commercial programming ex...   \n",
       "4  qualificationsstrong interest sale customer se...   \n",
       "\n",
       "                                            benefits  \n",
       "0                                    job description  \n",
       "1  web change interactive revolution work cutting...  \n",
       "2  provide fun rewarding atmosphere employee supp...  \n",
       "3  benefit   product discount   great environment...  \n",
       "4  pay 32   52k depend experience performanceheal...  "
      ]
     },
     "execution_count": 339,
     "metadata": {},
     "output_type": "execute_result"
    }
   ],
   "source": [
    "train_text_clean.head()"
   ]
  },
  {
   "cell_type": "markdown",
   "id": "ea4a7774",
   "metadata": {
    "id": "ea4a7774"
   },
   "source": [
    "We can also explore the relative size of each text feature:"
   ]
  },
  {
   "cell_type": "code",
   "execution_count": null,
   "id": "899949e5",
   "metadata": {
    "id": "899949e5",
    "outputId": "47f79abd-9e90-4d1f-c663-77405e62c2fc"
   },
   "outputs": [
    {
     "name": "stdout",
     "output_type": "stream",
     "text": [
      "For title \n",
      "Total words: 42172 \n",
      "Unique words: 4201 \n",
      "\n",
      "For company_profile \n",
      "Total words: 670279 \n",
      "Unique words: 13023 \n",
      "\n",
      "For description \n",
      "Total words: 1306355 \n",
      "Unique words: 56661 \n",
      "\n",
      "For requirements \n",
      "Total words: 649606 \n",
      "Unique words: 45602 \n",
      "\n",
      "For benefits \n",
      "Total words: 235306 \n",
      "Unique words: 14382 \n",
      "\n"
     ]
    }
   ],
   "source": [
    "for col in train_text_clean:\n",
    "    all_words = []\n",
    "    for i in train_text_clean.index:\n",
    "        all_words += str(train_text_clean[col][i]).split()\n",
    "    print('For', col, '\\nTotal words:', len(all_words), '\\nUnique words:', len(set(all_words)), '\\n')"
   ]
  },
  {
   "cell_type": "markdown",
   "id": "ab1aaca9",
   "metadata": {},
   "source": [
    "### TF-IDF vectorisation\n",
    "\n",
    "While we will use word embeddings for neural networks, we will use the simpler Bag of Words representation of text for other models. However we can use a more advanced version of the Bag of Words model than a simple count vectoriser, and use TF-IDF vectorisation.\n",
    "\n",
    "To reduce dimensionsionality, we will combine the text of each job posting together and vectorise the single block of text."
   ]
  },
  {
   "cell_type": "code",
   "execution_count": 5,
   "id": "a565f90c",
   "metadata": {},
   "outputs": [
    {
     "data": {
      "text/html": [
       "<div>\n",
       "<style scoped>\n",
       "    .dataframe tbody tr th:only-of-type {\n",
       "        vertical-align: middle;\n",
       "    }\n",
       "\n",
       "    .dataframe tbody tr th {\n",
       "        vertical-align: top;\n",
       "    }\n",
       "\n",
       "    .dataframe thead th {\n",
       "        text-align: right;\n",
       "    }\n",
       "</style>\n",
       "<table border=\"1\" class=\"dataframe\">\n",
       "  <thead>\n",
       "    <tr style=\"text-align: right;\">\n",
       "      <th></th>\n",
       "      <th>title</th>\n",
       "      <th>company_profile</th>\n",
       "      <th>description</th>\n",
       "      <th>requirements</th>\n",
       "      <th>benefits</th>\n",
       "      <th>all_text</th>\n",
       "    </tr>\n",
       "  </thead>\n",
       "  <tbody>\n",
       "    <tr>\n",
       "      <th>0</th>\n",
       "      <td>english teacher abroad</td>\n",
       "      <td>help teacher safe amp secure job abroad</td>\n",
       "      <td>url_ play kid pay   love travel   job asia1500...</td>\n",
       "      <td>university degree require   tefl   tesol   cel...</td>\n",
       "      <td>job description</td>\n",
       "      <td>english teacher abroad help teacher safe amp ...</td>\n",
       "    </tr>\n",
       "    <tr>\n",
       "      <th>1</th>\n",
       "      <td>sale manager</td>\n",
       "      <td>NaN</td>\n",
       "      <td>url_ contentful apifirst content management pl...</td>\n",
       "      <td>successful history selling software ideally sa...</td>\n",
       "      <td>web change interactive revolution work cutting...</td>\n",
       "      <td>sale manager nan url_ contentful apifirst con...</td>\n",
       "    </tr>\n",
       "    <tr>\n",
       "      <th>2</th>\n",
       "      <td>title sale representative</td>\n",
       "      <td>email_ phone_ phone_ network closing service  ...</td>\n",
       "      <td>sanchezphone_ network closing services inc   s...</td>\n",
       "      <td>experienced candiate onlya successful candid...</td>\n",
       "      <td>provide fun rewarding atmosphere employee supp...</td>\n",
       "      <td>title sale representative email_ phone_ phone...</td>\n",
       "    </tr>\n",
       "    <tr>\n",
       "      <th>3</th>\n",
       "      <td>php   lamp   magento   symfony   zend developer</td>\n",
       "      <td>wedo collection niched ecommerce store aim des...</td>\n",
       "      <td>referral bonus offer 500 successful placemen...</td>\n",
       "      <td>qualificationsstrong commercial programming ex...</td>\n",
       "      <td>benefit   product discount   great environment...</td>\n",
       "      <td>php   lamp   magento   symfony   zend develop...</td>\n",
       "    </tr>\n",
       "    <tr>\n",
       "      <th>4</th>\n",
       "      <td>inside sale specialist western region</td>\n",
       "      <td>posx rapidly grow pointofsale hardware manufac...</td>\n",
       "      <td>url_ posx rapidly grow pointofsale hardware ma...</td>\n",
       "      <td>qualificationsstrong interest sale customer se...</td>\n",
       "      <td>pay 32   52k depend experience performanceheal...</td>\n",
       "      <td>inside sale specialist western region posx ra...</td>\n",
       "    </tr>\n",
       "  </tbody>\n",
       "</table>\n",
       "</div>"
      ],
      "text/plain": [
       "                                             title  \\\n",
       "0                           english teacher abroad   \n",
       "1                                     sale manager   \n",
       "2                        title sale representative   \n",
       "3  php   lamp   magento   symfony   zend developer   \n",
       "4            inside sale specialist western region   \n",
       "\n",
       "                                     company_profile  \\\n",
       "0            help teacher safe amp secure job abroad   \n",
       "1                                                NaN   \n",
       "2  email_ phone_ phone_ network closing service  ...   \n",
       "3  wedo collection niched ecommerce store aim des...   \n",
       "4  posx rapidly grow pointofsale hardware manufac...   \n",
       "\n",
       "                                         description  \\\n",
       "0  url_ play kid pay   love travel   job asia1500...   \n",
       "1  url_ contentful apifirst content management pl...   \n",
       "2  sanchezphone_ network closing services inc   s...   \n",
       "3    referral bonus offer 500 successful placemen...   \n",
       "4  url_ posx rapidly grow pointofsale hardware ma...   \n",
       "\n",
       "                                        requirements  \\\n",
       "0  university degree require   tefl   tesol   cel...   \n",
       "1  successful history selling software ideally sa...   \n",
       "2    experienced candiate onlya successful candid...   \n",
       "3  qualificationsstrong commercial programming ex...   \n",
       "4  qualificationsstrong interest sale customer se...   \n",
       "\n",
       "                                            benefits  \\\n",
       "0                                    job description   \n",
       "1  web change interactive revolution work cutting...   \n",
       "2  provide fun rewarding atmosphere employee supp...   \n",
       "3  benefit   product discount   great environment...   \n",
       "4  pay 32   52k depend experience performanceheal...   \n",
       "\n",
       "                                            all_text  \n",
       "0   english teacher abroad help teacher safe amp ...  \n",
       "1   sale manager nan url_ contentful apifirst con...  \n",
       "2   title sale representative email_ phone_ phone...  \n",
       "3   php   lamp   magento   symfony   zend develop...  \n",
       "4   inside sale specialist western region posx ra...  "
      ]
     },
     "execution_count": 5,
     "metadata": {},
     "output_type": "execute_result"
    }
   ],
   "source": [
    "train_text_clean['all_text'] = ''\n",
    "\n",
    "for i in train_text_clean.index:\n",
    "    txt = ''\n",
    "    for c in ['title', 'company_profile', 'description', 'requirements', 'benefits']:\n",
    "        txt += ' ' + str(train_text_clean[c][i])\n",
    "    train_text_clean.loc[i, 'all_text'] = txt\n",
    "    \n",
    "train_text_clean.head()"
   ]
  },
  {
   "cell_type": "code",
   "execution_count": 6,
   "id": "2bc3760e",
   "metadata": {},
   "outputs": [],
   "source": [
    "# Will only consider the 1000 most frequent terms\n",
    "vectorizer = TfidfVectorizer(max_features=1000)\n",
    "train_text_tfidf = vectorizer.fit_transform(train_text_clean['all_text'])"
   ]
  },
  {
   "cell_type": "code",
   "execution_count": 7,
   "id": "45f61e45",
   "metadata": {},
   "outputs": [
    {
     "data": {
      "text/html": [
       "<div>\n",
       "<style scoped>\n",
       "    .dataframe tbody tr th:only-of-type {\n",
       "        vertical-align: middle;\n",
       "    }\n",
       "\n",
       "    .dataframe tbody tr th {\n",
       "        vertical-align: top;\n",
       "    }\n",
       "\n",
       "    .dataframe thead th {\n",
       "        text-align: right;\n",
       "    }\n",
       "</style>\n",
       "<table border=\"1\" class=\"dataframe\">\n",
       "  <thead>\n",
       "    <tr style=\"text-align: right;\">\n",
       "      <th></th>\n",
       "      <th>10</th>\n",
       "      <th>100</th>\n",
       "      <th>12</th>\n",
       "      <th>1500</th>\n",
       "      <th>20</th>\n",
       "      <th>200</th>\n",
       "      <th>2014</th>\n",
       "      <th>30</th>\n",
       "      <th>40</th>\n",
       "      <th>401k</th>\n",
       "      <th>...</th>\n",
       "      <th>workplace</th>\n",
       "      <th>world</th>\n",
       "      <th>worldclass</th>\n",
       "      <th>worldwide</th>\n",
       "      <th>write</th>\n",
       "      <th>writing</th>\n",
       "      <th>year</th>\n",
       "      <th>york</th>\n",
       "      <th>young</th>\n",
       "      <th>και</th>\n",
       "    </tr>\n",
       "  </thead>\n",
       "  <tbody>\n",
       "    <tr>\n",
       "      <th>0</th>\n",
       "      <td>0.0</td>\n",
       "      <td>0.0</td>\n",
       "      <td>0.0</td>\n",
       "      <td>0.0</td>\n",
       "      <td>0.0</td>\n",
       "      <td>0.186433</td>\n",
       "      <td>0.0</td>\n",
       "      <td>0.0</td>\n",
       "      <td>0.000000</td>\n",
       "      <td>0.0</td>\n",
       "      <td>...</td>\n",
       "      <td>0.00000</td>\n",
       "      <td>0.000000</td>\n",
       "      <td>0.0</td>\n",
       "      <td>0.0</td>\n",
       "      <td>0.000000</td>\n",
       "      <td>0.0</td>\n",
       "      <td>0.000000</td>\n",
       "      <td>0.0</td>\n",
       "      <td>0.0</td>\n",
       "      <td>0.0</td>\n",
       "    </tr>\n",
       "    <tr>\n",
       "      <th>1</th>\n",
       "      <td>0.0</td>\n",
       "      <td>0.0</td>\n",
       "      <td>0.0</td>\n",
       "      <td>0.0</td>\n",
       "      <td>0.0</td>\n",
       "      <td>0.000000</td>\n",
       "      <td>0.0</td>\n",
       "      <td>0.0</td>\n",
       "      <td>0.000000</td>\n",
       "      <td>0.0</td>\n",
       "      <td>...</td>\n",
       "      <td>0.08013</td>\n",
       "      <td>0.043195</td>\n",
       "      <td>0.0</td>\n",
       "      <td>0.0</td>\n",
       "      <td>0.041034</td>\n",
       "      <td>0.0</td>\n",
       "      <td>0.000000</td>\n",
       "      <td>0.0</td>\n",
       "      <td>0.0</td>\n",
       "      <td>0.0</td>\n",
       "    </tr>\n",
       "    <tr>\n",
       "      <th>2</th>\n",
       "      <td>0.0</td>\n",
       "      <td>0.0</td>\n",
       "      <td>0.0</td>\n",
       "      <td>0.0</td>\n",
       "      <td>0.0</td>\n",
       "      <td>0.000000</td>\n",
       "      <td>0.0</td>\n",
       "      <td>0.0</td>\n",
       "      <td>0.000000</td>\n",
       "      <td>0.0</td>\n",
       "      <td>...</td>\n",
       "      <td>0.00000</td>\n",
       "      <td>0.000000</td>\n",
       "      <td>0.0</td>\n",
       "      <td>0.0</td>\n",
       "      <td>0.000000</td>\n",
       "      <td>0.0</td>\n",
       "      <td>0.000000</td>\n",
       "      <td>0.0</td>\n",
       "      <td>0.0</td>\n",
       "      <td>0.0</td>\n",
       "    </tr>\n",
       "    <tr>\n",
       "      <th>3</th>\n",
       "      <td>0.0</td>\n",
       "      <td>0.0</td>\n",
       "      <td>0.0</td>\n",
       "      <td>0.0</td>\n",
       "      <td>0.0</td>\n",
       "      <td>0.000000</td>\n",
       "      <td>0.0</td>\n",
       "      <td>0.0</td>\n",
       "      <td>0.000000</td>\n",
       "      <td>0.0</td>\n",
       "      <td>...</td>\n",
       "      <td>0.00000</td>\n",
       "      <td>0.000000</td>\n",
       "      <td>0.0</td>\n",
       "      <td>0.0</td>\n",
       "      <td>0.038359</td>\n",
       "      <td>0.0</td>\n",
       "      <td>0.027109</td>\n",
       "      <td>0.0</td>\n",
       "      <td>0.0</td>\n",
       "      <td>0.0</td>\n",
       "    </tr>\n",
       "    <tr>\n",
       "      <th>4</th>\n",
       "      <td>0.0</td>\n",
       "      <td>0.0</td>\n",
       "      <td>0.0</td>\n",
       "      <td>0.0</td>\n",
       "      <td>0.0</td>\n",
       "      <td>0.000000</td>\n",
       "      <td>0.0</td>\n",
       "      <td>0.0</td>\n",
       "      <td>0.078354</td>\n",
       "      <td>0.0</td>\n",
       "      <td>...</td>\n",
       "      <td>0.00000</td>\n",
       "      <td>0.000000</td>\n",
       "      <td>0.0</td>\n",
       "      <td>0.0</td>\n",
       "      <td>0.038588</td>\n",
       "      <td>0.0</td>\n",
       "      <td>0.027271</td>\n",
       "      <td>0.0</td>\n",
       "      <td>0.0</td>\n",
       "      <td>0.0</td>\n",
       "    </tr>\n",
       "  </tbody>\n",
       "</table>\n",
       "<p>5 rows × 1000 columns</p>\n",
       "</div>"
      ],
      "text/plain": [
       "    10  100   12  1500   20       200  2014   30        40  401k  ...  \\\n",
       "0  0.0  0.0  0.0   0.0  0.0  0.186433   0.0  0.0  0.000000   0.0  ...   \n",
       "1  0.0  0.0  0.0   0.0  0.0  0.000000   0.0  0.0  0.000000   0.0  ...   \n",
       "2  0.0  0.0  0.0   0.0  0.0  0.000000   0.0  0.0  0.000000   0.0  ...   \n",
       "3  0.0  0.0  0.0   0.0  0.0  0.000000   0.0  0.0  0.000000   0.0  ...   \n",
       "4  0.0  0.0  0.0   0.0  0.0  0.000000   0.0  0.0  0.078354   0.0  ...   \n",
       "\n",
       "   workplace     world  worldclass  worldwide     write  writing      year  \\\n",
       "0    0.00000  0.000000         0.0        0.0  0.000000      0.0  0.000000   \n",
       "1    0.08013  0.043195         0.0        0.0  0.041034      0.0  0.000000   \n",
       "2    0.00000  0.000000         0.0        0.0  0.000000      0.0  0.000000   \n",
       "3    0.00000  0.000000         0.0        0.0  0.038359      0.0  0.027109   \n",
       "4    0.00000  0.000000         0.0        0.0  0.038588      0.0  0.027271   \n",
       "\n",
       "   york  young  και  \n",
       "0   0.0    0.0  0.0  \n",
       "1   0.0    0.0  0.0  \n",
       "2   0.0    0.0  0.0  \n",
       "3   0.0    0.0  0.0  \n",
       "4   0.0    0.0  0.0  \n",
       "\n",
       "[5 rows x 1000 columns]"
      ]
     },
     "execution_count": 7,
     "metadata": {},
     "output_type": "execute_result"
    }
   ],
   "source": [
    "train_tfidf= pd.DataFrame(columns=vectorizer.get_feature_names_out(), data=train_text_tfidf.toarray())\n",
    "\n",
    "train_tfidf.head()"
   ]
  },
  {
   "cell_type": "markdown",
   "id": "072680c3",
   "metadata": {
    "id": "072680c3"
   },
   "source": [
    "## Test data \n",
    "\n",
    "Clean the test text data also:"
   ]
  },
  {
   "cell_type": "code",
   "execution_count": null,
   "id": "2d21fd96",
   "metadata": {
    "id": "2d21fd96"
   },
   "outputs": [],
   "source": [
    "test_text = test_npp[text_cols]"
   ]
  },
  {
   "cell_type": "code",
   "execution_count": null,
   "id": "19999e16",
   "metadata": {
    "id": "19999e16"
   },
   "outputs": [],
   "source": [
    "test_text_clean = clean_text(test_text.copy(), text_cols)"
   ]
  },
  {
   "cell_type": "code",
   "execution_count": null,
   "id": "959dbca5",
   "metadata": {
    "id": "959dbca5"
   },
   "outputs": [],
   "source": [
    "# Save as processing takes a long time\n",
    "test_text_clean.to_csv('test_text_clean.csv')"
   ]
  },
  {
   "cell_type": "code",
   "execution_count": 8,
   "id": "207a5c5b",
   "metadata": {
    "id": "207a5c5b",
    "outputId": "6b78f248-ed41-48bd-d74a-c1e3a5cb1311"
   },
   "outputs": [
    {
     "data": {
      "text/html": [
       "<div>\n",
       "<style scoped>\n",
       "    .dataframe tbody tr th:only-of-type {\n",
       "        vertical-align: middle;\n",
       "    }\n",
       "\n",
       "    .dataframe tbody tr th {\n",
       "        vertical-align: top;\n",
       "    }\n",
       "\n",
       "    .dataframe thead th {\n",
       "        text-align: right;\n",
       "    }\n",
       "</style>\n",
       "<table border=\"1\" class=\"dataframe\">\n",
       "  <thead>\n",
       "    <tr style=\"text-align: right;\">\n",
       "      <th></th>\n",
       "      <th>title</th>\n",
       "      <th>company_profile</th>\n",
       "      <th>description</th>\n",
       "      <th>requirements</th>\n",
       "      <th>benefits</th>\n",
       "    </tr>\n",
       "  </thead>\n",
       "  <tbody>\n",
       "    <tr>\n",
       "      <th>0</th>\n",
       "      <td>inside sale development rep</td>\n",
       "      <td>curvo lab exciting fund startup determined cha...</td>\n",
       "      <td>curvo lab exciting early stage fund startup de...</td>\n",
       "      <td>experienceurl_ requirementsa great desire lear...</td>\n",
       "      <td>employee benefit ability participate stock opt...</td>\n",
       "    </tr>\n",
       "    <tr>\n",
       "      <th>1</th>\n",
       "      <td>end developer</td>\n",
       "      <td>squiz world lead web solution company   design...</td>\n",
       "      <td>live breathe frontend development   passionate...</td>\n",
       "      <td>NaN</td>\n",
       "      <td>NaN</td>\n",
       "    </tr>\n",
       "    <tr>\n",
       "      <th>2</th>\n",
       "      <td>production qa technician   time</td>\n",
       "      <td>30 year experience industry mercer food provid...</td>\n",
       "      <td>job title quality assurance technician   timed...</td>\n",
       "      <td>primary duty responsibilities1   confirm plant...</td>\n",
       "      <td>NaN</td>\n",
       "    </tr>\n",
       "    <tr>\n",
       "      <th>3</th>\n",
       "      <td>account director</td>\n",
       "      <td>evh fashion lifestyle design luxury communicat...</td>\n",
       "      <td>australia fast grow fashion luxury lifestyle a...</td>\n",
       "      <td>excellent write communication presentation ski...</td>\n",
       "      <td>NaN</td>\n",
       "    </tr>\n",
       "    <tr>\n",
       "      <th>4</th>\n",
       "      <td>optician union square</td>\n",
       "      <td>magnify life progressive   inspire   honest de...</td>\n",
       "      <td>jin optician nt glass   create extraordinary e...</td>\n",
       "      <td>licensing certificationvalid work permit unite...</td>\n",
       "      <td>NaN</td>\n",
       "    </tr>\n",
       "  </tbody>\n",
       "</table>\n",
       "</div>"
      ],
      "text/plain": [
       "                             title  \\\n",
       "0      inside sale development rep   \n",
       "1                    end developer   \n",
       "2  production qa technician   time   \n",
       "3                 account director   \n",
       "4            optician union square   \n",
       "\n",
       "                                     company_profile  \\\n",
       "0  curvo lab exciting fund startup determined cha...   \n",
       "1  squiz world lead web solution company   design...   \n",
       "2  30 year experience industry mercer food provid...   \n",
       "3  evh fashion lifestyle design luxury communicat...   \n",
       "4  magnify life progressive   inspire   honest de...   \n",
       "\n",
       "                                         description  \\\n",
       "0  curvo lab exciting early stage fund startup de...   \n",
       "1  live breathe frontend development   passionate...   \n",
       "2  job title quality assurance technician   timed...   \n",
       "3  australia fast grow fashion luxury lifestyle a...   \n",
       "4  jin optician nt glass   create extraordinary e...   \n",
       "\n",
       "                                        requirements  \\\n",
       "0  experienceurl_ requirementsa great desire lear...   \n",
       "1                                                NaN   \n",
       "2  primary duty responsibilities1   confirm plant...   \n",
       "3  excellent write communication presentation ski...   \n",
       "4  licensing certificationvalid work permit unite...   \n",
       "\n",
       "                                            benefits  \n",
       "0  employee benefit ability participate stock opt...  \n",
       "1                                                NaN  \n",
       "2                                                NaN  \n",
       "3                                                NaN  \n",
       "4                                                NaN  "
      ]
     },
     "execution_count": 8,
     "metadata": {},
     "output_type": "execute_result"
    }
   ],
   "source": [
    "test_text_clean = pd.read_csv('test_text_clean.csv', index_col=0)\n",
    "\n",
    "test_text_clean.head()"
   ]
  },
  {
   "cell_type": "code",
   "execution_count": 9,
   "id": "480ff9a0",
   "metadata": {},
   "outputs": [],
   "source": [
    "test_text_clean['all_text'] = ''\n",
    "\n",
    "for i in test_text_clean.index:\n",
    "    txt = ''\n",
    "    for c in ['title', 'company_profile', 'description', 'requirements', 'benefits']:\n",
    "        txt += ' ' + str(test_text_clean[c][i])\n",
    "    test_text_clean.loc[i, 'all_text'] = txt"
   ]
  },
  {
   "cell_type": "code",
   "execution_count": 10,
   "id": "0215a6a1",
   "metadata": {},
   "outputs": [],
   "source": [
    "test_text_tfidf = vectorizer.transform(test_text_clean['all_text'])\n",
    "test_tfidf= pd.DataFrame(columns=vectorizer.get_feature_names_out(), data=test_text_tfidf.toarray())"
   ]
  },
  {
   "cell_type": "markdown",
   "id": "64d30969",
   "metadata": {
    "id": "64d30969"
   },
   "source": [
    "# Feature selection / dimension reduction\n",
    "\n",
    "## Correlation\n",
    "\n",
    "### Binary and categorical"
   ]
  },
  {
   "cell_type": "code",
   "execution_count": null,
   "id": "2f15ed8e",
   "metadata": {
    "id": "2f15ed8e",
    "outputId": "725653ae-67e0-4517-a933-06f025b61d6e"
   },
   "outputs": [
    {
     "data": {
      "text/plain": [
       "203"
      ]
     },
     "execution_count": 146,
     "metadata": {},
     "output_type": "execute_result"
    }
   ],
   "source": [
    "len(train_bcs.columns)"
   ]
  },
  {
   "cell_type": "code",
   "execution_count": null,
   "id": "7ed5567b",
   "metadata": {
    "id": "7ed5567b"
   },
   "outputs": [],
   "source": [
    "corr_bcs = train_bcs.corr()"
   ]
  },
  {
   "cell_type": "markdown",
   "id": "3c9b9475",
   "metadata": {
    "id": "3c9b9475"
   },
   "source": [
    "Features most correlated with the target variable, which we notice align with some of the trends we saw earlier during data exportation:"
   ]
  },
  {
   "cell_type": "code",
   "execution_count": null,
   "id": "bfbf8e36",
   "metadata": {
    "id": "bfbf8e36",
    "outputId": "674d92a1-5b9a-407d-864b-52bb234b4623"
   },
   "outputs": [
    {
     "data": {
      "text/html": [
       "<div>\n",
       "<style scoped>\n",
       "    .dataframe tbody tr th:only-of-type {\n",
       "        vertical-align: middle;\n",
       "    }\n",
       "\n",
       "    .dataframe tbody tr th {\n",
       "        vertical-align: top;\n",
       "    }\n",
       "\n",
       "    .dataframe thead th {\n",
       "        text-align: right;\n",
       "    }\n",
       "</style>\n",
       "<table border=\"1\" class=\"dataframe\">\n",
       "  <thead>\n",
       "    <tr style=\"text-align: right;\">\n",
       "      <th></th>\n",
       "      <th>fraudulent</th>\n",
       "    </tr>\n",
       "  </thead>\n",
       "  <tbody>\n",
       "    <tr>\n",
       "      <th>fraudulent</th>\n",
       "      <td>1.000000</td>\n",
       "    </tr>\n",
       "    <tr>\n",
       "      <th>has_company_logo</th>\n",
       "      <td>0.268434</td>\n",
       "    </tr>\n",
       "    <tr>\n",
       "      <th>industry_Oil &amp; Energy</th>\n",
       "      <td>0.176570</td>\n",
       "    </tr>\n",
       "    <tr>\n",
       "      <th>industry_Accounting</th>\n",
       "      <td>0.140544</td>\n",
       "    </tr>\n",
       "    <tr>\n",
       "      <th>required_education_Some High School Coursework</th>\n",
       "      <td>0.134616</td>\n",
       "    </tr>\n",
       "    <tr>\n",
       "      <th>function_Administrative</th>\n",
       "      <td>0.129798</td>\n",
       "    </tr>\n",
       "    <tr>\n",
       "      <th>required_education_Bachelor's Degree</th>\n",
       "      <td>0.089300</td>\n",
       "    </tr>\n",
       "    <tr>\n",
       "      <th>has_questions</th>\n",
       "      <td>0.084781</td>\n",
       "    </tr>\n",
       "    <tr>\n",
       "      <th>industry_Leisure, Travel &amp; Tourism</th>\n",
       "      <td>0.065265</td>\n",
       "    </tr>\n",
       "    <tr>\n",
       "      <th>industry_Computer Software</th>\n",
       "      <td>0.058748</td>\n",
       "    </tr>\n",
       "    <tr>\n",
       "      <th>required_education_High School or equivalent</th>\n",
       "      <td>0.058411</td>\n",
       "    </tr>\n",
       "    <tr>\n",
       "      <th>industry_Internet</th>\n",
       "      <td>0.056383</td>\n",
       "    </tr>\n",
       "    <tr>\n",
       "      <th>industry_Computer Networking</th>\n",
       "      <td>0.054918</td>\n",
       "    </tr>\n",
       "    <tr>\n",
       "      <th>sr_exists</th>\n",
       "      <td>0.053707</td>\n",
       "    </tr>\n",
       "    <tr>\n",
       "      <th>required_experience_Associate</th>\n",
       "      <td>0.052877</td>\n",
       "    </tr>\n",
       "  </tbody>\n",
       "</table>\n",
       "</div>"
      ],
      "text/plain": [
       "                                                fraudulent\n",
       "fraudulent                                        1.000000\n",
       "has_company_logo                                  0.268434\n",
       "industry_Oil & Energy                             0.176570\n",
       "industry_Accounting                               0.140544\n",
       "required_education_Some High School Coursework    0.134616\n",
       "function_Administrative                           0.129798\n",
       "required_education_Bachelor's Degree              0.089300\n",
       "has_questions                                     0.084781\n",
       "industry_Leisure, Travel & Tourism                0.065265\n",
       "industry_Computer Software                        0.058748\n",
       "required_education_High School or equivalent      0.058411\n",
       "industry_Internet                                 0.056383\n",
       "industry_Computer Networking                      0.054918\n",
       "sr_exists                                         0.053707\n",
       "required_experience_Associate                     0.052877"
      ]
     },
     "execution_count": 148,
     "metadata": {},
     "output_type": "execute_result"
    }
   ],
   "source": [
    "corr_bcs[['fraudulent']].abs().sort_values('fraudulent', ascending=False).head(15)"
   ]
  },
  {
   "cell_type": "markdown",
   "id": "66b20711",
   "metadata": {
    "id": "66b20711"
   },
   "source": [
    "Features with an absolute correlation of over 0.5 with each other:"
   ]
  },
  {
   "cell_type": "code",
   "execution_count": null,
   "id": "651ce526",
   "metadata": {
    "id": "651ce526"
   },
   "outputs": [],
   "source": [
    "high_corrs = pd.DataFrame(columns=['Feat A', 'Feat B', 'Correlation'])\n",
    "complete_feats = []\n",
    "\n",
    "# Only predictive features\n",
    "corr_bcs_feat = corr_bcs.drop('fraudulent', axis=1)\n",
    "\n",
    "for i in corr_bcs_feat.index:\n",
    "    for c in corr_bcs_feat.columns:\n",
    "        if i!=c and (c not in complete_feats):\n",
    "            if abs(corr_bcs_feat[c][i]) > 0.5:\n",
    "                high_corrs = high_corrs.append({'Feat A': i, 'Feat B':c, 'Correlation': corr_bcs_feat[c][i]}, \n",
    "                                               ignore_index=True)\n",
    "            \n",
    "    complete_feats.append(i)"
   ]
  },
  {
   "cell_type": "code",
   "execution_count": null,
   "id": "38ead765",
   "metadata": {
    "id": "38ead765",
    "outputId": "444a6f92-fe83-468b-9c49-153a10097cfc"
   },
   "outputs": [
    {
     "data": {
      "text/html": [
       "<div>\n",
       "<style scoped>\n",
       "    .dataframe tbody tr th:only-of-type {\n",
       "        vertical-align: middle;\n",
       "    }\n",
       "\n",
       "    .dataframe tbody tr th {\n",
       "        vertical-align: top;\n",
       "    }\n",
       "\n",
       "    .dataframe thead th {\n",
       "        text-align: right;\n",
       "    }\n",
       "</style>\n",
       "<table border=\"1\" class=\"dataframe\">\n",
       "  <thead>\n",
       "    <tr style=\"text-align: right;\">\n",
       "      <th></th>\n",
       "      <th>Feat A</th>\n",
       "      <th>Feat B</th>\n",
       "      <th>Correlation</th>\n",
       "    </tr>\n",
       "  </thead>\n",
       "  <tbody>\n",
       "    <tr>\n",
       "      <th>3</th>\n",
       "      <td>employment_type_nan</td>\n",
       "      <td>industry_nan</td>\n",
       "      <td>0.702473</td>\n",
       "    </tr>\n",
       "    <tr>\n",
       "      <th>7</th>\n",
       "      <td>required_experience_nan</td>\n",
       "      <td>function_nan</td>\n",
       "      <td>0.638434</td>\n",
       "    </tr>\n",
       "    <tr>\n",
       "      <th>0</th>\n",
       "      <td>employment_type_Contract</td>\n",
       "      <td>industry_Education Management</td>\n",
       "      <td>0.625896</td>\n",
       "    </tr>\n",
       "    <tr>\n",
       "      <th>6</th>\n",
       "      <td>required_experience_nan</td>\n",
       "      <td>industry_nan</td>\n",
       "      <td>0.602012</td>\n",
       "    </tr>\n",
       "    <tr>\n",
       "      <th>5</th>\n",
       "      <td>required_experience_nan</td>\n",
       "      <td>required_education_nan</td>\n",
       "      <td>0.597580</td>\n",
       "    </tr>\n",
       "    <tr>\n",
       "      <th>12</th>\n",
       "      <td>industry_Public Relations and Communications</td>\n",
       "      <td>function_Public Relations</td>\n",
       "      <td>0.585700</td>\n",
       "    </tr>\n",
       "    <tr>\n",
       "      <th>13</th>\n",
       "      <td>industry_nan</td>\n",
       "      <td>function_nan</td>\n",
       "      <td>0.579305</td>\n",
       "    </tr>\n",
       "    <tr>\n",
       "      <th>10</th>\n",
       "      <td>required_education_nan</td>\n",
       "      <td>function_nan</td>\n",
       "      <td>0.550060</td>\n",
       "    </tr>\n",
       "    <tr>\n",
       "      <th>11</th>\n",
       "      <td>industry_Fishery</td>\n",
       "      <td>function_Science</td>\n",
       "      <td>0.547569</td>\n",
       "    </tr>\n",
       "    <tr>\n",
       "      <th>2</th>\n",
       "      <td>employment_type_nan</td>\n",
       "      <td>required_experience_nan</td>\n",
       "      <td>0.543112</td>\n",
       "    </tr>\n",
       "    <tr>\n",
       "      <th>9</th>\n",
       "      <td>required_education_nan</td>\n",
       "      <td>industry_nan</td>\n",
       "      <td>0.541003</td>\n",
       "    </tr>\n",
       "    <tr>\n",
       "      <th>4</th>\n",
       "      <td>employment_type_nan</td>\n",
       "      <td>function_nan</td>\n",
       "      <td>0.518299</td>\n",
       "    </tr>\n",
       "    <tr>\n",
       "      <th>8</th>\n",
       "      <td>required_education_Bachelor's Degree</td>\n",
       "      <td>required_education_nan</td>\n",
       "      <td>-0.583067</td>\n",
       "    </tr>\n",
       "    <tr>\n",
       "      <th>1</th>\n",
       "      <td>employment_type_Full-time</td>\n",
       "      <td>employment_type_nan</td>\n",
       "      <td>-0.674115</td>\n",
       "    </tr>\n",
       "  </tbody>\n",
       "</table>\n",
       "</div>"
      ],
      "text/plain": [
       "                                          Feat A  \\\n",
       "3                            employment_type_nan   \n",
       "7                        required_experience_nan   \n",
       "0                       employment_type_Contract   \n",
       "6                        required_experience_nan   \n",
       "5                        required_experience_nan   \n",
       "12  industry_Public Relations and Communications   \n",
       "13                                  industry_nan   \n",
       "10                        required_education_nan   \n",
       "11                              industry_Fishery   \n",
       "2                            employment_type_nan   \n",
       "9                         required_education_nan   \n",
       "4                            employment_type_nan   \n",
       "8           required_education_Bachelor's Degree   \n",
       "1                      employment_type_Full-time   \n",
       "\n",
       "                           Feat B  Correlation  \n",
       "3                    industry_nan     0.702473  \n",
       "7                    function_nan     0.638434  \n",
       "0   industry_Education Management     0.625896  \n",
       "6                    industry_nan     0.602012  \n",
       "5          required_education_nan     0.597580  \n",
       "12      function_Public Relations     0.585700  \n",
       "13                   function_nan     0.579305  \n",
       "10                   function_nan     0.550060  \n",
       "11               function_Science     0.547569  \n",
       "2         required_experience_nan     0.543112  \n",
       "9                    industry_nan     0.541003  \n",
       "4                    function_nan     0.518299  \n",
       "8          required_education_nan    -0.583067  \n",
       "1             employment_type_nan    -0.674115  "
      ]
     },
     "execution_count": 150,
     "metadata": {},
     "output_type": "execute_result"
    }
   ],
   "source": [
    "high_corrs.sort_values('Correlation', ascending=False)"
   ]
  },
  {
   "cell_type": "markdown",
   "id": "65889389",
   "metadata": {
    "id": "65889389"
   },
   "source": [
    "We see that mostly high correlation exists with missing data, but no correlations are so high that we can remove fields on the basis of high correlation."
   ]
  },
  {
   "cell_type": "markdown",
   "id": "807cd155",
   "metadata": {
    "id": "807cd155"
   },
   "source": [
    "### Location"
   ]
  },
  {
   "cell_type": "code",
   "execution_count": null,
   "id": "5b6773b0",
   "metadata": {
    "id": "5b6773b0",
    "outputId": "c27c9278-8f1f-4f62-e69c-6eabfcc05d39"
   },
   "outputs": [
    {
     "data": {
      "text/html": [
       "<div>\n",
       "<style scoped>\n",
       "    .dataframe tbody tr th:only-of-type {\n",
       "        vertical-align: middle;\n",
       "    }\n",
       "\n",
       "    .dataframe tbody tr th {\n",
       "        vertical-align: top;\n",
       "    }\n",
       "\n",
       "    .dataframe thead th {\n",
       "        text-align: right;\n",
       "    }\n",
       "</style>\n",
       "<table border=\"1\" class=\"dataframe\">\n",
       "  <thead>\n",
       "    <tr style=\"text-align: right;\">\n",
       "      <th></th>\n",
       "      <th>DU</th>\n",
       "      <th>PH</th>\n",
       "      <th>Tel Aviv</th>\n",
       "      <th>Columbus</th>\n",
       "      <th>LND</th>\n",
       "      <th>El Segundo</th>\n",
       "      <th>Nashville</th>\n",
       "      <th>37</th>\n",
       "      <th>Birmingham</th>\n",
       "      <th>Miami</th>\n",
       "      <th>...</th>\n",
       "      <th>QLD</th>\n",
       "      <th>Stockholm</th>\n",
       "      <th>London</th>\n",
       "      <th>Houston</th>\n",
       "      <th>FI</th>\n",
       "      <th>NYK</th>\n",
       "      <th>Jersey City</th>\n",
       "      <th>PT</th>\n",
       "      <th>Chamberi | Madrid</th>\n",
       "      <th>fraudulent</th>\n",
       "    </tr>\n",
       "  </thead>\n",
       "  <tbody>\n",
       "    <tr>\n",
       "      <th>0</th>\n",
       "      <td>0</td>\n",
       "      <td>0</td>\n",
       "      <td>0</td>\n",
       "      <td>0</td>\n",
       "      <td>0</td>\n",
       "      <td>0</td>\n",
       "      <td>0</td>\n",
       "      <td>0</td>\n",
       "      <td>0</td>\n",
       "      <td>0</td>\n",
       "      <td>...</td>\n",
       "      <td>0</td>\n",
       "      <td>0</td>\n",
       "      <td>0</td>\n",
       "      <td>0</td>\n",
       "      <td>0</td>\n",
       "      <td>0</td>\n",
       "      <td>0</td>\n",
       "      <td>0</td>\n",
       "      <td>0</td>\n",
       "      <td>0</td>\n",
       "    </tr>\n",
       "    <tr>\n",
       "      <th>1</th>\n",
       "      <td>0</td>\n",
       "      <td>0</td>\n",
       "      <td>0</td>\n",
       "      <td>0</td>\n",
       "      <td>0</td>\n",
       "      <td>0</td>\n",
       "      <td>0</td>\n",
       "      <td>0</td>\n",
       "      <td>0</td>\n",
       "      <td>0</td>\n",
       "      <td>...</td>\n",
       "      <td>0</td>\n",
       "      <td>0</td>\n",
       "      <td>0</td>\n",
       "      <td>0</td>\n",
       "      <td>0</td>\n",
       "      <td>0</td>\n",
       "      <td>0</td>\n",
       "      <td>0</td>\n",
       "      <td>0</td>\n",
       "      <td>0</td>\n",
       "    </tr>\n",
       "    <tr>\n",
       "      <th>2</th>\n",
       "      <td>0</td>\n",
       "      <td>0</td>\n",
       "      <td>0</td>\n",
       "      <td>0</td>\n",
       "      <td>0</td>\n",
       "      <td>0</td>\n",
       "      <td>0</td>\n",
       "      <td>0</td>\n",
       "      <td>0</td>\n",
       "      <td>0</td>\n",
       "      <td>...</td>\n",
       "      <td>0</td>\n",
       "      <td>0</td>\n",
       "      <td>0</td>\n",
       "      <td>0</td>\n",
       "      <td>0</td>\n",
       "      <td>0</td>\n",
       "      <td>0</td>\n",
       "      <td>0</td>\n",
       "      <td>0</td>\n",
       "      <td>0</td>\n",
       "    </tr>\n",
       "    <tr>\n",
       "      <th>3</th>\n",
       "      <td>0</td>\n",
       "      <td>0</td>\n",
       "      <td>0</td>\n",
       "      <td>0</td>\n",
       "      <td>1</td>\n",
       "      <td>0</td>\n",
       "      <td>0</td>\n",
       "      <td>0</td>\n",
       "      <td>0</td>\n",
       "      <td>0</td>\n",
       "      <td>...</td>\n",
       "      <td>0</td>\n",
       "      <td>0</td>\n",
       "      <td>1</td>\n",
       "      <td>0</td>\n",
       "      <td>0</td>\n",
       "      <td>0</td>\n",
       "      <td>0</td>\n",
       "      <td>0</td>\n",
       "      <td>0</td>\n",
       "      <td>0</td>\n",
       "    </tr>\n",
       "    <tr>\n",
       "      <th>4</th>\n",
       "      <td>0</td>\n",
       "      <td>0</td>\n",
       "      <td>0</td>\n",
       "      <td>0</td>\n",
       "      <td>0</td>\n",
       "      <td>0</td>\n",
       "      <td>0</td>\n",
       "      <td>0</td>\n",
       "      <td>0</td>\n",
       "      <td>0</td>\n",
       "      <td>...</td>\n",
       "      <td>0</td>\n",
       "      <td>0</td>\n",
       "      <td>0</td>\n",
       "      <td>0</td>\n",
       "      <td>0</td>\n",
       "      <td>0</td>\n",
       "      <td>0</td>\n",
       "      <td>0</td>\n",
       "      <td>0</td>\n",
       "      <td>0</td>\n",
       "    </tr>\n",
       "  </tbody>\n",
       "</table>\n",
       "<p>5 rows × 312 columns</p>\n",
       "</div>"
      ],
      "text/plain": [
       "   DU  PH  Tel Aviv  Columbus  LND  El Segundo  Nashville  37  Birmingham  \\\n",
       "0   0   0         0         0    0           0          0   0           0   \n",
       "1   0   0         0         0    0           0          0   0           0   \n",
       "2   0   0         0         0    0           0          0   0           0   \n",
       "3   0   0         0         0    1           0          0   0           0   \n",
       "4   0   0         0         0    0           0          0   0           0   \n",
       "\n",
       "   Miami  ...  QLD  Stockholm  London  Houston  FI  NYK  Jersey City  PT  \\\n",
       "0      0  ...    0          0       0        0   0    0            0   0   \n",
       "1      0  ...    0          0       0        0   0    0            0   0   \n",
       "2      0  ...    0          0       0        0   0    0            0   0   \n",
       "3      0  ...    0          0       1        0   0    0            0   0   \n",
       "4      0  ...    0          0       0        0   0    0            0   0   \n",
       "\n",
       "   Chamberi | Madrid  fraudulent  \n",
       "0                  0           0  \n",
       "1                  0           0  \n",
       "2                  0           0  \n",
       "3                  0           0  \n",
       "4                  0           0  \n",
       "\n",
       "[5 rows x 312 columns]"
      ]
     },
     "execution_count": 151,
     "metadata": {},
     "output_type": "execute_result"
    }
   ],
   "source": [
    "train_locs_fr = train_locs.join(train_npp[['fraudulent']])\n",
    "\n",
    "train_locs_fr.head()"
   ]
  },
  {
   "cell_type": "code",
   "execution_count": null,
   "id": "d9baac39",
   "metadata": {
    "id": "d9baac39"
   },
   "outputs": [],
   "source": [
    "corr_locs = train_locs_fr.corr()"
   ]
  },
  {
   "cell_type": "code",
   "execution_count": null,
   "id": "48415edd",
   "metadata": {
    "id": "48415edd",
    "outputId": "6cf077b5-5b16-4c46-deba-c1a9a6325791"
   },
   "outputs": [
    {
     "data": {
      "text/html": [
       "<div>\n",
       "<style scoped>\n",
       "    .dataframe tbody tr th:only-of-type {\n",
       "        vertical-align: middle;\n",
       "    }\n",
       "\n",
       "    .dataframe tbody tr th {\n",
       "        vertical-align: top;\n",
       "    }\n",
       "\n",
       "    .dataframe thead th {\n",
       "        text-align: right;\n",
       "    }\n",
       "</style>\n",
       "<table border=\"1\" class=\"dataframe\">\n",
       "  <thead>\n",
       "    <tr style=\"text-align: right;\">\n",
       "      <th></th>\n",
       "      <th>fraudulent</th>\n",
       "    </tr>\n",
       "  </thead>\n",
       "  <tbody>\n",
       "    <tr>\n",
       "      <th>fraudulent</th>\n",
       "      <td>1.000000</td>\n",
       "    </tr>\n",
       "    <tr>\n",
       "      <th>Bakersfield</th>\n",
       "      <td>0.172860</td>\n",
       "    </tr>\n",
       "    <tr>\n",
       "      <th>Houston</th>\n",
       "      <td>0.156592</td>\n",
       "    </tr>\n",
       "    <tr>\n",
       "      <th>AUSTIN</th>\n",
       "      <td>0.148352</td>\n",
       "    </tr>\n",
       "    <tr>\n",
       "      <th>San Mateo</th>\n",
       "      <td>0.129630</td>\n",
       "    </tr>\n",
       "    <tr>\n",
       "      <th>Sydney</th>\n",
       "      <td>0.114119</td>\n",
       "    </tr>\n",
       "    <tr>\n",
       "      <th>TX</th>\n",
       "      <td>0.113498</td>\n",
       "    </tr>\n",
       "    <tr>\n",
       "      <th>US</th>\n",
       "      <td>0.110641</td>\n",
       "    </tr>\n",
       "    <tr>\n",
       "      <th>MD</th>\n",
       "      <td>0.103060</td>\n",
       "    </tr>\n",
       "    <tr>\n",
       "      <th>NSW</th>\n",
       "      <td>0.093415</td>\n",
       "    </tr>\n",
       "    <tr>\n",
       "      <th>AU</th>\n",
       "      <td>0.074769</td>\n",
       "    </tr>\n",
       "    <tr>\n",
       "      <th>Baltimore</th>\n",
       "      <td>0.072606</td>\n",
       "    </tr>\n",
       "    <tr>\n",
       "      <th>GB</th>\n",
       "      <td>0.068464</td>\n",
       "    </tr>\n",
       "    <tr>\n",
       "      <th>MY</th>\n",
       "      <td>0.067496</td>\n",
       "    </tr>\n",
       "    <tr>\n",
       "      <th>San Jose</th>\n",
       "      <td>0.066366</td>\n",
       "    </tr>\n",
       "  </tbody>\n",
       "</table>\n",
       "</div>"
      ],
      "text/plain": [
       "             fraudulent\n",
       "fraudulent     1.000000\n",
       "Bakersfield    0.172860\n",
       "Houston        0.156592\n",
       "AUSTIN         0.148352\n",
       "San Mateo      0.129630\n",
       "Sydney         0.114119\n",
       "TX             0.113498\n",
       "US             0.110641\n",
       "MD             0.103060\n",
       "NSW            0.093415\n",
       "AU             0.074769\n",
       "Baltimore      0.072606\n",
       "GB             0.068464\n",
       "MY             0.067496\n",
       "San Jose       0.066366"
      ]
     },
     "execution_count": 153,
     "metadata": {},
     "output_type": "execute_result"
    }
   ],
   "source": [
    "corr_locs[['fraudulent']].abs().sort_values('fraudulent', ascending=False).head(15)"
   ]
  },
  {
   "cell_type": "markdown",
   "id": "72059e09",
   "metadata": {
    "id": "72059e09"
   },
   "source": [
    "Features with an absolute correlation of over 0.9 with each other:"
   ]
  },
  {
   "cell_type": "code",
   "execution_count": null,
   "id": "e4ee2697",
   "metadata": {
    "id": "e4ee2697"
   },
   "outputs": [],
   "source": [
    "high_corrs_locs = pd.DataFrame(columns=['Loc A', 'Loc B', 'Correlation'])\n",
    "complete_locs = []\n",
    "\n",
    "# Only predictive features\n",
    "corr_locs_only = corr_locs.drop('fraudulent', axis=1)\n",
    "\n",
    "for i in corr_locs_only.index:\n",
    "    for c in corr_locs_only.columns:\n",
    "        if i!=c and (c not in complete_locs):\n",
    "            if abs(corr_locs_only[c][i]) > 0.9:\n",
    "                high_corrs_locs = high_corrs_locs.append({'Loc A': i, 'Loc B':c, 'Correlation': corr_locs_only[c][i]}, \n",
    "                                               ignore_index=True)\n",
    "            \n",
    "    complete_locs.append(i)"
   ]
  },
  {
   "cell_type": "code",
   "execution_count": null,
   "id": "0cf0a9e0",
   "metadata": {
    "id": "0cf0a9e0",
    "outputId": "8b0c93e5-c429-40d8-8c0c-aa864b10f3ce"
   },
   "outputs": [
    {
     "data": {
      "text/html": [
       "<div>\n",
       "<style scoped>\n",
       "    .dataframe tbody tr th:only-of-type {\n",
       "        vertical-align: middle;\n",
       "    }\n",
       "\n",
       "    .dataframe tbody tr th {\n",
       "        vertical-align: top;\n",
       "    }\n",
       "\n",
       "    .dataframe thead th {\n",
       "        text-align: right;\n",
       "    }\n",
       "</style>\n",
       "<table border=\"1\" class=\"dataframe\">\n",
       "  <thead>\n",
       "    <tr style=\"text-align: right;\">\n",
       "      <th></th>\n",
       "      <th>Loc A</th>\n",
       "      <th>Loc B</th>\n",
       "      <th>Correlation</th>\n",
       "    </tr>\n",
       "  </thead>\n",
       "  <tbody>\n",
       "    <tr>\n",
       "      <th>8</th>\n",
       "      <td>Valencia</td>\n",
       "      <td>VC</td>\n",
       "      <td>1.000000</td>\n",
       "    </tr>\n",
       "    <tr>\n",
       "      <th>6</th>\n",
       "      <td>EE</td>\n",
       "      <td>Tallinn</td>\n",
       "      <td>0.956497</td>\n",
       "    </tr>\n",
       "    <tr>\n",
       "      <th>7</th>\n",
       "      <td>Washington</td>\n",
       "      <td>DC</td>\n",
       "      <td>0.954637</td>\n",
       "    </tr>\n",
       "    <tr>\n",
       "      <th>0</th>\n",
       "      <td>37</td>\n",
       "      <td>EE</td>\n",
       "      <td>0.938542</td>\n",
       "    </tr>\n",
       "    <tr>\n",
       "      <th>3</th>\n",
       "      <td>J</td>\n",
       "      <td>Paris</td>\n",
       "      <td>0.927434</td>\n",
       "    </tr>\n",
       "    <tr>\n",
       "      <th>2</th>\n",
       "      <td>Montreal</td>\n",
       "      <td>QC</td>\n",
       "      <td>0.921844</td>\n",
       "    </tr>\n",
       "    <tr>\n",
       "      <th>4</th>\n",
       "      <td>Melbourne</td>\n",
       "      <td>VIC</td>\n",
       "      <td>0.920032</td>\n",
       "    </tr>\n",
       "    <tr>\n",
       "      <th>5</th>\n",
       "      <td>NZ</td>\n",
       "      <td>N</td>\n",
       "      <td>0.914282</td>\n",
       "    </tr>\n",
       "    <tr>\n",
       "      <th>1</th>\n",
       "      <td>37</td>\n",
       "      <td>Tallinn</td>\n",
       "      <td>0.905422</td>\n",
       "    </tr>\n",
       "  </tbody>\n",
       "</table>\n",
       "</div>"
      ],
      "text/plain": [
       "        Loc A    Loc B  Correlation\n",
       "8    Valencia       VC     1.000000\n",
       "6          EE  Tallinn     0.956497\n",
       "7  Washington       DC     0.954637\n",
       "0          37       EE     0.938542\n",
       "3           J    Paris     0.927434\n",
       "2    Montreal       QC     0.921844\n",
       "4   Melbourne      VIC     0.920032\n",
       "5          NZ        N     0.914282\n",
       "1          37  Tallinn     0.905422"
      ]
     },
     "execution_count": 155,
     "metadata": {},
     "output_type": "execute_result"
    }
   ],
   "source": [
    "high_corrs_locs.sort_values('Correlation', ascending=False)"
   ]
  },
  {
   "cell_type": "markdown",
   "id": "14947923",
   "metadata": {
    "id": "14947923"
   },
   "source": [
    "We have some highly correlated location features. Where two locations are highly correlated, we will drop the one which appears least in the data:"
   ]
  },
  {
   "cell_type": "code",
   "execution_count": null,
   "id": "ccfbfcba",
   "metadata": {
    "id": "ccfbfcba"
   },
   "outputs": [],
   "source": [
    "# Drop one location between highly correlated variables - drop the one which appears least in the data\n",
    "drop_locs = []\n",
    "\n",
    "for i in high_corrs_locs.index:\n",
    "    locA = high_corrs_locs['Loc A'][i]\n",
    "    locB = high_corrs_locs['Loc B'][i]\n",
    "    locA_count = train_locs[locA].sum()\n",
    "    locB_count = train_locs[locB].sum()\n",
    "    if locA_count <= locB_count:\n",
    "        drop_locs.append(locA)\n",
    "    else:\n",
    "        drop_locs.append(locB)"
   ]
  },
  {
   "cell_type": "code",
   "execution_count": null,
   "id": "af3c6452",
   "metadata": {
    "id": "af3c6452"
   },
   "outputs": [],
   "source": [
    "# Reduced dimension\n",
    "train_locs_rd = train_locs.drop(drop_locs, axis = 1)"
   ]
  },
  {
   "cell_type": "markdown",
   "id": "7c9c3925",
   "metadata": {
    "id": "7c9c3925"
   },
   "source": [
    "## Chi-squared\n",
    "\n",
    "### Binary and categorical\n",
    "\n",
    "We calculate the chi-squared statistic and p-values. We will keep variables which have a p-value of 0.05 or less, corresponding to a 95% confidence that the variable is correlated with the target."
   ]
  },
  {
   "cell_type": "code",
   "execution_count": null,
   "id": "f59909f4",
   "metadata": {
    "id": "f59909f4"
   },
   "outputs": [],
   "source": [
    "bcs_chi2, bcs_pvals = chi2(train_bcs.drop('fraudulent', axis=1), train_bcs[['fraudulent']])"
   ]
  },
  {
   "cell_type": "code",
   "execution_count": null,
   "id": "799c1c7e",
   "metadata": {
    "id": "799c1c7e"
   },
   "outputs": [],
   "source": [
    "c = 0\n",
    "sig_chi2_bcs = []\n",
    "notsig_chi2_bcs = []\n",
    "\n",
    "for i in bcs_pvals:\n",
    "    if i <= 0.05:\n",
    "        sig_chi2_bcs.append(train_bcs.drop('fraudulent', axis=1).columns[c])\n",
    "    else:\n",
    "        notsig_chi2_bcs.append(train_bcs.drop('fraudulent', axis=1).columns[c])\n",
    "    c += 1"
   ]
  },
  {
   "cell_type": "markdown",
   "id": "0572b124",
   "metadata": {
    "id": "0572b124"
   },
   "source": [
    "We can see we can reduce the dimensions of the binary and categorical variables by about a quarter:"
   ]
  },
  {
   "cell_type": "code",
   "execution_count": null,
   "id": "2d0edd74",
   "metadata": {
    "id": "2d0edd74",
    "outputId": "91b027ed-4e92-461f-ef68-afccca2c5817"
   },
   "outputs": [
    {
     "data": {
      "text/plain": [
       "52"
      ]
     },
     "execution_count": 160,
     "metadata": {},
     "output_type": "execute_result"
    }
   ],
   "source": [
    "len(sig_chi2_bcs)"
   ]
  },
  {
   "cell_type": "code",
   "execution_count": null,
   "id": "ab1dfe39",
   "metadata": {
    "id": "ab1dfe39",
    "outputId": "aa09b10f-b25b-4fdc-cfd0-8b3db8d27a45"
   },
   "outputs": [
    {
     "data": {
      "text/plain": [
       "150"
      ]
     },
     "execution_count": 161,
     "metadata": {},
     "output_type": "execute_result"
    }
   ],
   "source": [
    "len(notsig_chi2_bcs)"
   ]
  },
  {
   "cell_type": "code",
   "execution_count": null,
   "id": "d2ce748c",
   "metadata": {
    "id": "d2ce748c"
   },
   "outputs": [],
   "source": [
    "# Reduced dimension dataframe\n",
    "train_bcs_rd = train_bcs.drop(notsig_chi2_bcs, axis=1)"
   ]
  },
  {
   "cell_type": "markdown",
   "id": "621d4904",
   "metadata": {
    "id": "621d4904"
   },
   "source": [
    "### Location\n",
    "\n",
    "As with binary and categorical values, keep only features with a chi-squared p-value of 0.05 or less:"
   ]
  },
  {
   "cell_type": "code",
   "execution_count": null,
   "id": "ab452fee",
   "metadata": {
    "id": "ab452fee"
   },
   "outputs": [],
   "source": [
    "locs_chi2, locs_pvals = chi2(train_locs_rd, train_locs_fr[['fraudulent']])"
   ]
  },
  {
   "cell_type": "code",
   "execution_count": null,
   "id": "e0b51464",
   "metadata": {
    "id": "e0b51464"
   },
   "outputs": [],
   "source": [
    "c = 0\n",
    "sig_chi2_locs = []\n",
    "notsig_chi2_locs = []\n",
    "\n",
    "for i in locs_pvals:\n",
    "    if i <= 0.05:\n",
    "        sig_chi2_locs.append(train_locs_rd.columns[c])\n",
    "    else:\n",
    "        notsig_chi2_locs.append(train_locs_rd.columns[c])\n",
    "    c += 1"
   ]
  },
  {
   "cell_type": "code",
   "execution_count": null,
   "id": "50039016",
   "metadata": {
    "id": "50039016",
    "outputId": "072d69c0-176f-470f-d9fc-f7db9d59b8ba"
   },
   "outputs": [
    {
     "data": {
      "text/plain": [
       "48"
      ]
     },
     "execution_count": 165,
     "metadata": {},
     "output_type": "execute_result"
    }
   ],
   "source": [
    "len(sig_chi2_locs)"
   ]
  },
  {
   "cell_type": "code",
   "execution_count": null,
   "id": "889f1220",
   "metadata": {
    "id": "889f1220",
    "outputId": "783424d7-7de2-4e2f-856c-b9a88436eec4"
   },
   "outputs": [
    {
     "data": {
      "text/plain": [
       "255"
      ]
     },
     "execution_count": 166,
     "metadata": {},
     "output_type": "execute_result"
    }
   ],
   "source": [
    "len(notsig_chi2_locs)"
   ]
  },
  {
   "cell_type": "code",
   "execution_count": null,
   "id": "67ef22da",
   "metadata": {
    "id": "67ef22da"
   },
   "outputs": [],
   "source": [
    "# Reduced dimension\n",
    "train_locs_rd = train_locs_rd.drop(notsig_chi2_locs, axis = 1)"
   ]
  },
  {
   "cell_type": "markdown",
   "id": "f7c81968",
   "metadata": {
    "id": "f7c81968"
   },
   "source": [
    "## Combine processed data\n",
    "\n",
    "For neural networks, text and non-text data will be separate inputs. We prepare a dataframe with non-text data:"
   ]
  },
  {
   "cell_type": "code",
   "execution_count": null,
   "id": "ab5d3b1c",
   "metadata": {
    "id": "ab5d3b1c"
   },
   "outputs": [],
   "source": [
    "train_nt = train_bcs_rd.join(train_locs_rd)"
   ]
  },
  {
   "cell_type": "markdown",
   "id": "72909a4e",
   "metadata": {
    "id": "72909a4e"
   },
   "source": [
    "## Process non-text test data "
   ]
  },
  {
   "cell_type": "code",
   "execution_count": null,
   "id": "8769bdd3",
   "metadata": {
    "id": "8769bdd3",
    "outputId": "5d0ad8d9-2eb9-47f9-f1e5-0ab593ef9837",
    "scrolled": false
   },
   "outputs": [
    {
     "name": "stderr",
     "output_type": "stream",
     "text": [
      "<ipython-input-169-cd880ae08a3b>:6: SettingWithCopyWarning: \n",
      "A value is trying to be set on a copy of a slice from a DataFrame.\n",
      "Try using .loc[row_indexer,col_indexer] = value instead\n",
      "\n",
      "See the caveats in the documentation: https://pandas.pydata.org/pandas-docs/stable/user_guide/indexing.html#returning-a-view-versus-a-copy\n",
      "  test_sr['sr_exists'] = [int(type(sr) != float) for sr in test_sr['salary_range']]\n",
      "C:\\Users\\Masters\\anaconda3\\lib\\site-packages\\pandas\\core\\indexing.py:1720: SettingWithCopyWarning: \n",
      "A value is trying to be set on a copy of a slice from a DataFrame.\n",
      "Try using .loc[row_indexer,col_indexer] = value instead\n",
      "\n",
      "See the caveats in the documentation: https://pandas.pydata.org/pandas-docs/stable/user_guide/indexing.html#returning-a-view-versus-a-copy\n",
      "  self._setitem_single_column(loc, value, pi)\n"
     ]
    }
   ],
   "source": [
    "# Process binary, categorical data\n",
    "test_bin = test_npp[bin_vars]\n",
    "test_cat = test_npp[cat_vars]\n",
    "test_cat_oh = onehotcats(test_cat)\n",
    "test_sr = test_npp[['salary_range']]\n",
    "test_sr['sr_exists'] = [int(type(sr) != float) for sr in test_sr['salary_range']]\n",
    "test_bcs = test_bin.join(test_cat_oh).join(test_sr[['sr_exists']])\n",
    "\n",
    "# Drop non-significant features\n",
    "test_bcs_rd = test_bcs.drop([c for c in notsig_chi2_bcs if c in test_bcs.columns], axis=1)\n",
    "\n",
    "# Process location data and drop non-significant features\n",
    "test_locs = onehotloc(test_npp)\n",
    "locs_drop_test = [c for c in drop_locs if c in test_locs.columns] + [c for c in notsig_chi2_locs if c in test_locs.columns]\n",
    "test_locs_rd = test_locs.drop(locs_drop_test, axis = 1)\n",
    "\n",
    "# Combine into one dataset\n",
    "test_nt = test_bcs_rd.join(test_locs_rd)\n",
    "\n",
    "# Drop any columns not in the train dataset\n",
    "not_in_train = [c for c in test_nt.columns if c not in train_nt.columns]\n",
    "if len(not_in_train) > 1:\n",
    "    test_nt = test_nt.drop(not_in_train, axis=1)\n",
    "    \n",
    "# Add any columns in train not yet in test - data not seen in test but need the same number of columns\n",
    "not_in_test = [c for c in train_nt.columns if c not in test_nt.columns]\n",
    "# If float type, all values 0.0, if int type, all values 0\n",
    "for c in not_in_test:\n",
    "    if train_nt[c].dtype == float:\n",
    "        test_nt[c] = 0.0\n",
    "    else:\n",
    "        test_nt[c] = 0\n",
    "        \n",
    "# Finally, we want to ensure the test and train dataframe columns are in the same order\n",
    "test_nt = test_nt.reindex(columns=train_nt.columns)"
   ]
  },
  {
   "cell_type": "markdown",
   "id": "f007a339",
   "metadata": {
    "id": "f007a339"
   },
   "source": [
    "Now we see the test and train non-text datasets have the same columns:"
   ]
  },
  {
   "cell_type": "code",
   "execution_count": null,
   "id": "8471425c",
   "metadata": {
    "id": "8471425c",
    "outputId": "f54c996a-89be-4fdf-9293-8cff3c03c93c"
   },
   "outputs": [
    {
     "data": {
      "text/plain": [
       "(12516, 101)"
      ]
     },
     "execution_count": 469,
     "metadata": {},
     "output_type": "execute_result"
    }
   ],
   "source": [
    "train_nt.shape"
   ]
  },
  {
   "cell_type": "code",
   "execution_count": null,
   "id": "a6293ef2",
   "metadata": {
    "id": "a6293ef2",
    "outputId": "0a5be1c8-f625-44db-b8bb-80a8896f6a2c"
   },
   "outputs": [
    {
     "data": {
      "text/plain": [
       "(5364, 101)"
      ]
     },
     "execution_count": 470,
     "metadata": {},
     "output_type": "execute_result"
    }
   ],
   "source": [
    "test_nt.shape"
   ]
  },
  {
   "cell_type": "code",
   "execution_count": null,
   "id": "d93496cd",
   "metadata": {
    "id": "d93496cd",
    "outputId": "9fdc7460-30e1-4cb3-8555-f59c5e602662"
   },
   "outputs": [
    {
     "data": {
      "text/plain": [
       "array([ True,  True,  True,  True,  True,  True,  True,  True,  True,\n",
       "        True,  True,  True,  True,  True,  True,  True,  True,  True,\n",
       "        True,  True,  True,  True,  True,  True,  True,  True,  True,\n",
       "        True,  True,  True,  True,  True,  True,  True,  True,  True,\n",
       "        True,  True,  True,  True,  True,  True,  True,  True,  True,\n",
       "        True,  True,  True,  True,  True,  True,  True,  True,  True,\n",
       "        True,  True,  True,  True,  True,  True,  True,  True,  True,\n",
       "        True,  True,  True,  True,  True,  True,  True,  True,  True,\n",
       "        True,  True,  True,  True,  True,  True,  True,  True,  True,\n",
       "        True,  True,  True,  True,  True,  True,  True,  True,  True,\n",
       "        True,  True,  True,  True,  True,  True,  True,  True,  True,\n",
       "        True,  True])"
      ]
     },
     "execution_count": 471,
     "metadata": {},
     "output_type": "execute_result"
    }
   ],
   "source": [
    "test_nt.columns == train_nt.columns"
   ]
  },
  {
   "cell_type": "code",
   "execution_count": 34,
   "id": "df5b80e1",
   "metadata": {
    "executionInfo": {
     "elapsed": 42,
     "status": "ok",
     "timestamp": 1652116247849,
     "user": {
      "displayName": "Alexandra Stepanenko",
      "userId": "09067281291667623362"
     },
     "user_tz": -60
    },
    "id": "271a8825"
   },
   "outputs": [],
   "source": [
    "# Save progess\n",
    "train_nt.to_csv('train_nt.csv')\n",
    "test_nt.to_csv('test_nt.csv')"
   ]
  },
  {
   "cell_type": "code",
   "execution_count": 11,
   "id": "6db7297b",
   "metadata": {},
   "outputs": [
    {
     "data": {
      "text/html": [
       "<div>\n",
       "<style scoped>\n",
       "    .dataframe tbody tr th:only-of-type {\n",
       "        vertical-align: middle;\n",
       "    }\n",
       "\n",
       "    .dataframe tbody tr th {\n",
       "        vertical-align: top;\n",
       "    }\n",
       "\n",
       "    .dataframe thead th {\n",
       "        text-align: right;\n",
       "    }\n",
       "</style>\n",
       "<table border=\"1\" class=\"dataframe\">\n",
       "  <thead>\n",
       "    <tr style=\"text-align: right;\">\n",
       "      <th></th>\n",
       "      <th>telecommuting</th>\n",
       "      <th>has_company_logo</th>\n",
       "      <th>has_questions</th>\n",
       "      <th>fraudulent</th>\n",
       "      <th>employment_type_Contract</th>\n",
       "      <th>employment_type_Full-time</th>\n",
       "      <th>employment_type_Part-time</th>\n",
       "      <th>employment_type_Temporary</th>\n",
       "      <th>employment_type_nan</th>\n",
       "      <th>required_experience_Associate</th>\n",
       "      <th>...</th>\n",
       "      <th>DE</th>\n",
       "      <th>AUSTIN</th>\n",
       "      <th>Brooklyn</th>\n",
       "      <th>Sydney</th>\n",
       "      <th>Omaha</th>\n",
       "      <th>I</th>\n",
       "      <th>NZ</th>\n",
       "      <th>NSW</th>\n",
       "      <th>San Francisco</th>\n",
       "      <th>GA</th>\n",
       "    </tr>\n",
       "  </thead>\n",
       "  <tbody>\n",
       "    <tr>\n",
       "      <th>0</th>\n",
       "      <td>0</td>\n",
       "      <td>1</td>\n",
       "      <td>1</td>\n",
       "      <td>0</td>\n",
       "      <td>1.0</td>\n",
       "      <td>0.0</td>\n",
       "      <td>0.0</td>\n",
       "      <td>0.0</td>\n",
       "      <td>0.0</td>\n",
       "      <td>0.0</td>\n",
       "      <td>...</td>\n",
       "      <td>0</td>\n",
       "      <td>0</td>\n",
       "      <td>0</td>\n",
       "      <td>0</td>\n",
       "      <td>0</td>\n",
       "      <td>0</td>\n",
       "      <td>0</td>\n",
       "      <td>0</td>\n",
       "      <td>0</td>\n",
       "      <td>0</td>\n",
       "    </tr>\n",
       "    <tr>\n",
       "      <th>1</th>\n",
       "      <td>0</td>\n",
       "      <td>1</td>\n",
       "      <td>1</td>\n",
       "      <td>0</td>\n",
       "      <td>0.0</td>\n",
       "      <td>1.0</td>\n",
       "      <td>0.0</td>\n",
       "      <td>0.0</td>\n",
       "      <td>0.0</td>\n",
       "      <td>0.0</td>\n",
       "      <td>...</td>\n",
       "      <td>1</td>\n",
       "      <td>0</td>\n",
       "      <td>0</td>\n",
       "      <td>0</td>\n",
       "      <td>0</td>\n",
       "      <td>0</td>\n",
       "      <td>0</td>\n",
       "      <td>0</td>\n",
       "      <td>0</td>\n",
       "      <td>0</td>\n",
       "    </tr>\n",
       "    <tr>\n",
       "      <th>2</th>\n",
       "      <td>0</td>\n",
       "      <td>1</td>\n",
       "      <td>1</td>\n",
       "      <td>0</td>\n",
       "      <td>0.0</td>\n",
       "      <td>1.0</td>\n",
       "      <td>0.0</td>\n",
       "      <td>0.0</td>\n",
       "      <td>0.0</td>\n",
       "      <td>0.0</td>\n",
       "      <td>...</td>\n",
       "      <td>0</td>\n",
       "      <td>0</td>\n",
       "      <td>0</td>\n",
       "      <td>0</td>\n",
       "      <td>0</td>\n",
       "      <td>0</td>\n",
       "      <td>0</td>\n",
       "      <td>0</td>\n",
       "      <td>0</td>\n",
       "      <td>0</td>\n",
       "    </tr>\n",
       "    <tr>\n",
       "      <th>3</th>\n",
       "      <td>0</td>\n",
       "      <td>1</td>\n",
       "      <td>1</td>\n",
       "      <td>0</td>\n",
       "      <td>0.0</td>\n",
       "      <td>1.0</td>\n",
       "      <td>0.0</td>\n",
       "      <td>0.0</td>\n",
       "      <td>0.0</td>\n",
       "      <td>0.0</td>\n",
       "      <td>...</td>\n",
       "      <td>0</td>\n",
       "      <td>0</td>\n",
       "      <td>0</td>\n",
       "      <td>0</td>\n",
       "      <td>0</td>\n",
       "      <td>0</td>\n",
       "      <td>0</td>\n",
       "      <td>0</td>\n",
       "      <td>0</td>\n",
       "      <td>0</td>\n",
       "    </tr>\n",
       "    <tr>\n",
       "      <th>4</th>\n",
       "      <td>0</td>\n",
       "      <td>1</td>\n",
       "      <td>1</td>\n",
       "      <td>0</td>\n",
       "      <td>0.0</td>\n",
       "      <td>1.0</td>\n",
       "      <td>0.0</td>\n",
       "      <td>0.0</td>\n",
       "      <td>0.0</td>\n",
       "      <td>1.0</td>\n",
       "      <td>...</td>\n",
       "      <td>0</td>\n",
       "      <td>0</td>\n",
       "      <td>0</td>\n",
       "      <td>0</td>\n",
       "      <td>0</td>\n",
       "      <td>0</td>\n",
       "      <td>0</td>\n",
       "      <td>0</td>\n",
       "      <td>0</td>\n",
       "      <td>0</td>\n",
       "    </tr>\n",
       "  </tbody>\n",
       "</table>\n",
       "<p>5 rows × 101 columns</p>\n",
       "</div>"
      ],
      "text/plain": [
       "   telecommuting  has_company_logo  has_questions  fraudulent  \\\n",
       "0              0                 1              1           0   \n",
       "1              0                 1              1           0   \n",
       "2              0                 1              1           0   \n",
       "3              0                 1              1           0   \n",
       "4              0                 1              1           0   \n",
       "\n",
       "   employment_type_Contract  employment_type_Full-time  \\\n",
       "0                       1.0                        0.0   \n",
       "1                       0.0                        1.0   \n",
       "2                       0.0                        1.0   \n",
       "3                       0.0                        1.0   \n",
       "4                       0.0                        1.0   \n",
       "\n",
       "   employment_type_Part-time  employment_type_Temporary  employment_type_nan  \\\n",
       "0                        0.0                        0.0                  0.0   \n",
       "1                        0.0                        0.0                  0.0   \n",
       "2                        0.0                        0.0                  0.0   \n",
       "3                        0.0                        0.0                  0.0   \n",
       "4                        0.0                        0.0                  0.0   \n",
       "\n",
       "   required_experience_Associate  ...  DE  AUSTIN  Brooklyn  Sydney  Omaha  I  \\\n",
       "0                            0.0  ...   0       0         0       0      0  0   \n",
       "1                            0.0  ...   1       0         0       0      0  0   \n",
       "2                            0.0  ...   0       0         0       0      0  0   \n",
       "3                            0.0  ...   0       0         0       0      0  0   \n",
       "4                            1.0  ...   0       0         0       0      0  0   \n",
       "\n",
       "   NZ  NSW  San Francisco  GA  \n",
       "0   0    0              0   0  \n",
       "1   0    0              0   0  \n",
       "2   0    0              0   0  \n",
       "3   0    0              0   0  \n",
       "4   0    0              0   0  \n",
       "\n",
       "[5 rows x 101 columns]"
      ]
     },
     "execution_count": 11,
     "metadata": {},
     "output_type": "execute_result"
    }
   ],
   "source": [
    "# Reload\n",
    "train_nt = pd.read_csv('train_nt.csv', index_col=0)\n",
    "test_nt = pd.read_csv('test_nt.csv', index_col=0)\n",
    "\n",
    "train_nt.head()"
   ]
  },
  {
   "cell_type": "markdown",
   "id": "da63243f",
   "metadata": {
    "id": "da63243f"
   },
   "source": [
    "# Word embeddings\n",
    "\n",
    "## Bigram detection\n",
    "\n",
    "We will use genism's Phrases to extract bigrams for text samples. We need to prepare a 'list of lists' to feed into Phrases. The first level of list is the samples, and the second level of list tokenised words for each sample. Phases will return both unigrams and bigrams, and we can get a genism 'list of lists' with both unigrams and unigrams for each sample to use as input into the models. To make sure we get the same bigrams for train and test, we will train Phrases on the text data, and then process both the train and text data with the Phases model immediately after. We also extract a genism Transformed corpus object which we will feed into word2vec to generate word embedding vectors."
   ]
  },
  {
   "cell_type": "code",
   "execution_count": null,
   "id": "180f7e88",
   "metadata": {
    "id": "180f7e88"
   },
   "outputs": [],
   "source": [
    "def get_bigrams(df_train, df_test, col, mc, thresh):\n",
    "    train_data = [str(df_train[col][i]).split() for i in df_train.index]\n",
    "    test_data = [str(df_test[col][i]).split() for i in df_test.index]\n",
    "    \n",
    "    # Higher threshold = fewer phrases\n",
    "    bigrams = Phrases(train_data, min_count=mc, threshold=thresh)\n",
    "    \n",
    "    # Create dataset with bigrams - train\n",
    "    bigrams_lst_train = [bigrams[train_data[i]] for i in range(len(train_data))]\n",
    "    # Create dataset with bigrams - test\n",
    "    bigrams_lst_test = [bigrams[test_data[i]] for i in range(len(test_data))]\n",
    "    \n",
    "    # genism Transformed corpus object to feed into word2vec\n",
    "    tc = bigrams[train_data]\n",
    "    \n",
    "    return (bigrams_lst_train), (bigrams_lst_test), tc"
   ]
  },
  {
   "cell_type": "markdown",
   "id": "bed8d9f2",
   "metadata": {
    "id": "bed8d9f2"
   },
   "source": [
    "The bigram min_count and threshold, and the word2vec vector size should vary by number of unique words for each text feature, which we can see below:"
   ]
  },
  {
   "cell_type": "code",
   "execution_count": null,
   "id": "4345203d",
   "metadata": {
    "id": "4345203d",
    "outputId": "0f18fde8-35cb-4e18-afd4-e545776150c9"
   },
   "outputs": [
    {
     "name": "stdout",
     "output_type": "stream",
     "text": [
      "title Unique words: 4201\n",
      "company_profile Unique words: 13023\n",
      "description Unique words: 56661\n",
      "requirements Unique words: 45602\n",
      "benefits Unique words: 14382\n"
     ]
    }
   ],
   "source": [
    "for col in train_text_clean:\n",
    "    all_words = []\n",
    "    for i in train_text_clean.index:\n",
    "        all_words += str(train_text_clean[col][i]).split()\n",
    "    print(col, 'Unique words:', len(set(all_words)))"
   ]
  },
  {
   "cell_type": "markdown",
   "id": "ebf5bfd9",
   "metadata": {
    "id": "ebf5bfd9"
   },
   "source": [
    "Now we have a list of lists for both the train and test data, as well as a transformed corpus object for each text feature:"
   ]
  },
  {
   "cell_type": "code",
   "execution_count": null,
   "id": "18aa5865",
   "metadata": {
    "id": "18aa5865"
   },
   "outputs": [],
   "source": [
    "train_desc_bgs, test_desc_bgs, desc_tc = get_bigrams(train_text_clean, test_text_clean, 'description', \n",
    "                                                     mc = 5, thresh = 1000)"
   ]
  },
  {
   "cell_type": "code",
   "execution_count": null,
   "id": "f1ab1ab9",
   "metadata": {
    "id": "f1ab1ab9"
   },
   "outputs": [],
   "source": [
    "train_title_bgs, test_title_bgs, title_tc = get_bigrams(train_text_clean, test_text_clean, 'title', \n",
    "                                                        mc = 2, thresh = 100)"
   ]
  },
  {
   "cell_type": "code",
   "execution_count": null,
   "id": "d8df4381",
   "metadata": {
    "id": "d8df4381"
   },
   "outputs": [],
   "source": [
    "train_cp_bgs, test_cp_bgs, cp_tc = get_bigrams(train_text_clean, test_text_clean, 'company_profile', \n",
    "                                               mc = 3, thresh = 3000)"
   ]
  },
  {
   "cell_type": "code",
   "execution_count": null,
   "id": "39287e54",
   "metadata": {
    "id": "39287e54"
   },
   "outputs": [],
   "source": [
    "train_reqs_bgs, test_reqs_bgs, reqs_tc = get_bigrams(train_text_clean, test_text_clean, 'requirements', \n",
    "                                                     mc = 5, thresh = 1000)"
   ]
  },
  {
   "cell_type": "code",
   "execution_count": null,
   "id": "e57cb453",
   "metadata": {
    "id": "e57cb453"
   },
   "outputs": [],
   "source": [
    "train_benefits_bgs, test_benefits_bgs, benefits_tc = get_bigrams(train_text_clean, test_text_clean, \n",
    "                                                                  'benefits', mc = 3, thresh = 300)"
   ]
  },
  {
   "cell_type": "markdown",
   "id": "6889ccb0",
   "metadata": {
    "id": "6889ccb0"
   },
   "source": [
    "## Converting text to integer sequences\n",
    "\n",
    "The format of text input into an embedding layer should be a sequence of integers. We will train the tokeniser on the training data and convert both the train and test data into a sequence of integers - any tokens in the test data not seen in the training data will be excluded in the integer sequences. The function below gets integer sequences of the train and test data, as well as the tokeniser word index (the map between the integer and the word) which we will need for creating the embedding layers of our neural networks later."
   ]
  },
  {
   "cell_type": "code",
   "execution_count": null,
   "id": "3d34ee60",
   "metadata": {
    "id": "3d34ee60"
   },
   "outputs": [],
   "source": [
    "def getIntSequences(train_data, test_data):\n",
    "    # Test and train data will be in list of lists format from bigram extraction\n",
    "    # Will need to be converted back to a single list of strings for each\n",
    "    train_lst = []\n",
    "    test_lst = []\n",
    "    max_len = 0\n",
    "    \n",
    "    for i in train_data:\n",
    "        train_lst.append(' '.join(i))\n",
    "        if len(i) > max_len:\n",
    "            max_len = len(i)\n",
    "        \n",
    "    for i in test_data:\n",
    "        test_lst.append(' '.join(i))\n",
    "    \n",
    "    # Keras tokeniser\n",
    "    tokenizer = Tokenizer()\n",
    "    \n",
    "    # Fit to training data\n",
    "    tokenizer.fit_on_texts(train_lst)\n",
    "    \n",
    "    # Get integer sequences\n",
    "    train_seqs = tokenizer.texts_to_sequences(train_lst)\n",
    "    test_seqs = tokenizer.texts_to_sequences(test_lst)\n",
    "    \n",
    "    # Finally, we need to pad the sequences so they are all the same length - the max length seen in the training data\n",
    "    train_seqs_pad = pad_sequences(train_seqs, maxlen=max_len)\n",
    "    test_seqs_pad = pad_sequences(test_seqs, maxlen=max_len)\n",
    "    \n",
    "    # Get word index\n",
    "    wi = tokenizer.word_index\n",
    "    \n",
    "    return (train_seqs_pad), (test_seqs_pad), wi"
   ]
  },
  {
   "cell_type": "code",
   "execution_count": null,
   "id": "995b8a4f",
   "metadata": {
    "id": "995b8a4f"
   },
   "outputs": [],
   "source": [
    "train_desc_is, test_desc_is, desc_wi = getIntSequences(train_desc_bgs, test_desc_bgs)"
   ]
  },
  {
   "cell_type": "code",
   "execution_count": null,
   "id": "2c87f3a3",
   "metadata": {
    "id": "2c87f3a3"
   },
   "outputs": [],
   "source": [
    "train_title_is, test_title_is, title_wi = getIntSequences(train_title_bgs, test_title_bgs)"
   ]
  },
  {
   "cell_type": "code",
   "execution_count": null,
   "id": "cdbbbbe4",
   "metadata": {
    "id": "cdbbbbe4"
   },
   "outputs": [],
   "source": [
    "train_cp_is, test_cp_is, cp_wi = getIntSequences(train_cp_bgs, test_cp_bgs)"
   ]
  },
  {
   "cell_type": "code",
   "execution_count": null,
   "id": "5dcd007b",
   "metadata": {
    "id": "5dcd007b"
   },
   "outputs": [],
   "source": [
    "train_reqs_is, test_reqs_is, reqs_wi = getIntSequences(train_reqs_bgs, test_reqs_bgs)"
   ]
  },
  {
   "cell_type": "code",
   "execution_count": null,
   "id": "93bd5302",
   "metadata": {
    "id": "93bd5302"
   },
   "outputs": [],
   "source": [
    "train_benefits_is, test_benefits_is, benefits_wi = getIntSequences(train_benefits_bgs, test_benefits_bgs)"
   ]
  },
  {
   "cell_type": "markdown",
   "id": "31d1bdd2",
   "metadata": {
    "id": "31d1bdd2"
   },
   "source": [
    "We can now see the text is in integer sequence format:"
   ]
  },
  {
   "cell_type": "code",
   "execution_count": null,
   "id": "04714bfd",
   "metadata": {
    "id": "04714bfd",
    "outputId": "931b44b9-ba3a-4fc8-bc01-ddff5cd85101"
   },
   "outputs": [
    {
     "data": {
      "text/plain": [
       "array([[   0,    0,    0,    0,    0,    0,    0,    0,    0,    0,    0,\n",
       "          82,    4,   24,   86],\n",
       "       [   0,    0,    0,    0,    0,    0,    0,    0,    0,    0,    0,\n",
       "           0,    0,   74,    2],\n",
       "       [   0,    0,    0,    0,    0,    0,    0,    0,    0,    0,    0,\n",
       "          84,   83,   48,   34],\n",
       "       [   0,    0,    0,    0,    0,    0,    0,    0,    0,    0,    0,\n",
       "           0,    0,   16,   21],\n",
       "       [   0,    0,    0,    0,    0,    0,    0,    0,    0,    0,    0,\n",
       "           0, 1605, 3803, 3804],\n",
       "       [   0,    0,    0,    0,    0,    0,    0,    0,    0,    0,    0,\n",
       "           0,    0,   23,  230]])"
      ]
     },
     "execution_count": 607,
     "metadata": {},
     "output_type": "execute_result"
    }
   ],
   "source": [
    "test_title_is[:6]"
   ]
  },
  {
   "cell_type": "markdown",
   "id": "6ded33be",
   "metadata": {
    "id": "6ded33be"
   },
   "source": [
    "## Sampling for class balancing\n",
    "\n",
    "Our classes are very imbalanced, which may cause issues in predicting the minority class well. We can resample the data to make the classes more balanced. We will use both undersampling (of the majority class) and oversampling (of the minority class) and investigate which works better for this dataset.\n",
    "\n",
    "### Data for neural networks\n",
    "\n",
    "We need to combine all the training data into one dataframe before under/over sampling."
   ]
  },
  {
   "cell_type": "code",
   "execution_count": null,
   "id": "c7c9d70e",
   "metadata": {
    "id": "c7c9d70e",
    "outputId": "413ab276-326a-4840-bfe3-91ef59b855b1"
   },
   "outputs": [
    {
     "data": {
      "text/html": [
       "<div>\n",
       "<style scoped>\n",
       "    .dataframe tbody tr th:only-of-type {\n",
       "        vertical-align: middle;\n",
       "    }\n",
       "\n",
       "    .dataframe tbody tr th {\n",
       "        vertical-align: top;\n",
       "    }\n",
       "\n",
       "    .dataframe thead th {\n",
       "        text-align: right;\n",
       "    }\n",
       "</style>\n",
       "<table border=\"1\" class=\"dataframe\">\n",
       "  <thead>\n",
       "    <tr style=\"text-align: right;\">\n",
       "      <th></th>\n",
       "      <th>desc_0</th>\n",
       "      <th>desc_1</th>\n",
       "      <th>desc_2</th>\n",
       "      <th>desc_3</th>\n",
       "      <th>desc_4</th>\n",
       "      <th>desc_5</th>\n",
       "      <th>desc_6</th>\n",
       "      <th>desc_7</th>\n",
       "      <th>desc_8</th>\n",
       "      <th>desc_9</th>\n",
       "      <th>...</th>\n",
       "      <th>desc_645</th>\n",
       "      <th>desc_646</th>\n",
       "      <th>desc_647</th>\n",
       "      <th>desc_648</th>\n",
       "      <th>desc_649</th>\n",
       "      <th>desc_650</th>\n",
       "      <th>desc_651</th>\n",
       "      <th>desc_652</th>\n",
       "      <th>desc_653</th>\n",
       "      <th>desc_654</th>\n",
       "    </tr>\n",
       "  </thead>\n",
       "  <tbody>\n",
       "    <tr>\n",
       "      <th>0</th>\n",
       "      <td>0</td>\n",
       "      <td>0</td>\n",
       "      <td>0</td>\n",
       "      <td>0</td>\n",
       "      <td>0</td>\n",
       "      <td>0</td>\n",
       "      <td>0</td>\n",
       "      <td>0</td>\n",
       "      <td>0</td>\n",
       "      <td>0</td>\n",
       "      <td>...</td>\n",
       "      <td>847</td>\n",
       "      <td>590</td>\n",
       "      <td>162</td>\n",
       "      <td>518</td>\n",
       "      <td>598</td>\n",
       "      <td>599</td>\n",
       "      <td>169</td>\n",
       "      <td>198</td>\n",
       "      <td>59</td>\n",
       "      <td>364</td>\n",
       "    </tr>\n",
       "    <tr>\n",
       "      <th>1</th>\n",
       "      <td>0</td>\n",
       "      <td>0</td>\n",
       "      <td>0</td>\n",
       "      <td>0</td>\n",
       "      <td>0</td>\n",
       "      <td>0</td>\n",
       "      <td>0</td>\n",
       "      <td>0</td>\n",
       "      <td>0</td>\n",
       "      <td>0</td>\n",
       "      <td>...</td>\n",
       "      <td>2</td>\n",
       "      <td>1</td>\n",
       "      <td>187</td>\n",
       "      <td>81</td>\n",
       "      <td>3</td>\n",
       "      <td>166</td>\n",
       "      <td>1023</td>\n",
       "      <td>21</td>\n",
       "      <td>71</td>\n",
       "      <td>42</td>\n",
       "    </tr>\n",
       "  </tbody>\n",
       "</table>\n",
       "<p>2 rows × 655 columns</p>\n",
       "</div>"
      ],
      "text/plain": [
       "   desc_0  desc_1  desc_2  desc_3  desc_4  desc_5  desc_6  desc_7  desc_8  \\\n",
       "0       0       0       0       0       0       0       0       0       0   \n",
       "1       0       0       0       0       0       0       0       0       0   \n",
       "\n",
       "   desc_9  ...  desc_645  desc_646  desc_647  desc_648  desc_649  desc_650  \\\n",
       "0       0  ...       847       590       162       518       598       599   \n",
       "1       0  ...         2         1       187        81         3       166   \n",
       "\n",
       "   desc_651  desc_652  desc_653  desc_654  \n",
       "0       169       198        59       364  \n",
       "1      1023        21        71        42  \n",
       "\n",
       "[2 rows x 655 columns]"
      ]
     },
     "execution_count": 179,
     "metadata": {},
     "output_type": "execute_result"
    }
   ],
   "source": [
    "train_desc_df = pd.DataFrame(train_desc_is).add_prefix('desc_')\n",
    "\n",
    "train_desc_df.head(2)"
   ]
  },
  {
   "cell_type": "code",
   "execution_count": null,
   "id": "c99ab63b",
   "metadata": {
    "id": "c99ab63b"
   },
   "outputs": [],
   "source": [
    "train_title_df = pd.DataFrame(train_title_is).add_prefix('title_')"
   ]
  },
  {
   "cell_type": "code",
   "execution_count": null,
   "id": "90a063ba",
   "metadata": {
    "id": "90a063ba"
   },
   "outputs": [],
   "source": [
    "train_cp_df = pd.DataFrame(train_cp_is).add_prefix('cp_')"
   ]
  },
  {
   "cell_type": "code",
   "execution_count": null,
   "id": "5679d065",
   "metadata": {
    "id": "5679d065"
   },
   "outputs": [],
   "source": [
    "train_reqs_df = pd.DataFrame(train_reqs_is).add_prefix('reqs_')"
   ]
  },
  {
   "cell_type": "code",
   "execution_count": null,
   "id": "e7615b08",
   "metadata": {
    "id": "e7615b08"
   },
   "outputs": [],
   "source": [
    "train_benefits_df = pd.DataFrame(train_benefits_is).add_prefix('benefits_')"
   ]
  },
  {
   "cell_type": "code",
   "execution_count": null,
   "id": "0e7bda4d",
   "metadata": {
    "id": "0e7bda4d"
   },
   "outputs": [],
   "source": [
    "full_train = train_nt.join(train_desc_df).join(train_title_df).join(train_cp_df).join(train_reqs_df).join(train_benefits_df)"
   ]
  },
  {
   "cell_type": "code",
   "execution_count": null,
   "id": "051ae80e",
   "metadata": {
    "id": "051ae80e",
    "outputId": "957470df-8718-4162-81e7-8508af3c88b7"
   },
   "outputs": [
    {
     "data": {
      "text/html": [
       "<div>\n",
       "<style scoped>\n",
       "    .dataframe tbody tr th:only-of-type {\n",
       "        vertical-align: middle;\n",
       "    }\n",
       "\n",
       "    .dataframe tbody tr th {\n",
       "        vertical-align: top;\n",
       "    }\n",
       "\n",
       "    .dataframe thead th {\n",
       "        text-align: right;\n",
       "    }\n",
       "</style>\n",
       "<table border=\"1\" class=\"dataframe\">\n",
       "  <thead>\n",
       "    <tr style=\"text-align: right;\">\n",
       "      <th></th>\n",
       "      <th>telecommuting</th>\n",
       "      <th>has_company_logo</th>\n",
       "      <th>has_questions</th>\n",
       "      <th>fraudulent</th>\n",
       "      <th>employment_type_Contract</th>\n",
       "      <th>employment_type_Full-time</th>\n",
       "      <th>employment_type_Part-time</th>\n",
       "      <th>employment_type_Temporary</th>\n",
       "      <th>employment_type_nan</th>\n",
       "      <th>required_experience_Associate</th>\n",
       "      <th>...</th>\n",
       "      <th>benefits_434</th>\n",
       "      <th>benefits_435</th>\n",
       "      <th>benefits_436</th>\n",
       "      <th>benefits_437</th>\n",
       "      <th>benefits_438</th>\n",
       "      <th>benefits_439</th>\n",
       "      <th>benefits_440</th>\n",
       "      <th>benefits_441</th>\n",
       "      <th>benefits_442</th>\n",
       "      <th>benefits_443</th>\n",
       "    </tr>\n",
       "  </thead>\n",
       "  <tbody>\n",
       "    <tr>\n",
       "      <th>0</th>\n",
       "      <td>0</td>\n",
       "      <td>1</td>\n",
       "      <td>1</td>\n",
       "      <td>0</td>\n",
       "      <td>1.0</td>\n",
       "      <td>0.0</td>\n",
       "      <td>0.0</td>\n",
       "      <td>0.0</td>\n",
       "      <td>0.0</td>\n",
       "      <td>0.0</td>\n",
       "      <td>...</td>\n",
       "      <td>0</td>\n",
       "      <td>0</td>\n",
       "      <td>0</td>\n",
       "      <td>0</td>\n",
       "      <td>0</td>\n",
       "      <td>0</td>\n",
       "      <td>0</td>\n",
       "      <td>0</td>\n",
       "      <td>25</td>\n",
       "      <td>56</td>\n",
       "    </tr>\n",
       "    <tr>\n",
       "      <th>1</th>\n",
       "      <td>0</td>\n",
       "      <td>1</td>\n",
       "      <td>1</td>\n",
       "      <td>0</td>\n",
       "      <td>0.0</td>\n",
       "      <td>1.0</td>\n",
       "      <td>0.0</td>\n",
       "      <td>0.0</td>\n",
       "      <td>0.0</td>\n",
       "      <td>0.0</td>\n",
       "      <td>...</td>\n",
       "      <td>18</td>\n",
       "      <td>53</td>\n",
       "      <td>242</td>\n",
       "      <td>154</td>\n",
       "      <td>284</td>\n",
       "      <td>435</td>\n",
       "      <td>6</td>\n",
       "      <td>10</td>\n",
       "      <td>67</td>\n",
       "      <td>51</td>\n",
       "    </tr>\n",
       "    <tr>\n",
       "      <th>2</th>\n",
       "      <td>0</td>\n",
       "      <td>1</td>\n",
       "      <td>1</td>\n",
       "      <td>0</td>\n",
       "      <td>0.0</td>\n",
       "      <td>1.0</td>\n",
       "      <td>0.0</td>\n",
       "      <td>0.0</td>\n",
       "      <td>0.0</td>\n",
       "      <td>0.0</td>\n",
       "      <td>...</td>\n",
       "      <td>566</td>\n",
       "      <td>3</td>\n",
       "      <td>1014</td>\n",
       "      <td>779</td>\n",
       "      <td>780</td>\n",
       "      <td>781</td>\n",
       "      <td>650</td>\n",
       "      <td>15</td>\n",
       "      <td>39</td>\n",
       "      <td>12</td>\n",
       "    </tr>\n",
       "    <tr>\n",
       "      <th>3</th>\n",
       "      <td>0</td>\n",
       "      <td>1</td>\n",
       "      <td>1</td>\n",
       "      <td>0</td>\n",
       "      <td>0.0</td>\n",
       "      <td>1.0</td>\n",
       "      <td>0.0</td>\n",
       "      <td>0.0</td>\n",
       "      <td>0.0</td>\n",
       "      <td>0.0</td>\n",
       "      <td>...</td>\n",
       "      <td>16</td>\n",
       "      <td>111</td>\n",
       "      <td>30</td>\n",
       "      <td>80</td>\n",
       "      <td>6092</td>\n",
       "      <td>5</td>\n",
       "      <td>195</td>\n",
       "      <td>215</td>\n",
       "      <td>154</td>\n",
       "      <td>427</td>\n",
       "    </tr>\n",
       "    <tr>\n",
       "      <th>4</th>\n",
       "      <td>0</td>\n",
       "      <td>1</td>\n",
       "      <td>1</td>\n",
       "      <td>0</td>\n",
       "      <td>0.0</td>\n",
       "      <td>1.0</td>\n",
       "      <td>0.0</td>\n",
       "      <td>0.0</td>\n",
       "      <td>0.0</td>\n",
       "      <td>1.0</td>\n",
       "      <td>...</td>\n",
       "      <td>22</td>\n",
       "      <td>8171</td>\n",
       "      <td>39</td>\n",
       "      <td>15</td>\n",
       "      <td>612</td>\n",
       "      <td>1756</td>\n",
       "      <td>275</td>\n",
       "      <td>8172</td>\n",
       "      <td>180</td>\n",
       "      <td>61</td>\n",
       "    </tr>\n",
       "  </tbody>\n",
       "</table>\n",
       "<p>5 rows × 2358 columns</p>\n",
       "</div>"
      ],
      "text/plain": [
       "   telecommuting  has_company_logo  has_questions  fraudulent  \\\n",
       "0              0                 1              1           0   \n",
       "1              0                 1              1           0   \n",
       "2              0                 1              1           0   \n",
       "3              0                 1              1           0   \n",
       "4              0                 1              1           0   \n",
       "\n",
       "   employment_type_Contract  employment_type_Full-time  \\\n",
       "0                       1.0                        0.0   \n",
       "1                       0.0                        1.0   \n",
       "2                       0.0                        1.0   \n",
       "3                       0.0                        1.0   \n",
       "4                       0.0                        1.0   \n",
       "\n",
       "   employment_type_Part-time  employment_type_Temporary  employment_type_nan  \\\n",
       "0                        0.0                        0.0                  0.0   \n",
       "1                        0.0                        0.0                  0.0   \n",
       "2                        0.0                        0.0                  0.0   \n",
       "3                        0.0                        0.0                  0.0   \n",
       "4                        0.0                        0.0                  0.0   \n",
       "\n",
       "   required_experience_Associate  ...  benefits_434  benefits_435  \\\n",
       "0                            0.0  ...             0             0   \n",
       "1                            0.0  ...            18            53   \n",
       "2                            0.0  ...           566             3   \n",
       "3                            0.0  ...            16           111   \n",
       "4                            1.0  ...            22          8171   \n",
       "\n",
       "   benefits_436  benefits_437  benefits_438  benefits_439  benefits_440  \\\n",
       "0             0             0             0             0             0   \n",
       "1           242           154           284           435             6   \n",
       "2          1014           779           780           781           650   \n",
       "3            30            80          6092             5           195   \n",
       "4            39            15           612          1756           275   \n",
       "\n",
       "   benefits_441  benefits_442  benefits_443  \n",
       "0             0            25            56  \n",
       "1            10            67            51  \n",
       "2            15            39            12  \n",
       "3           215           154           427  \n",
       "4          8172           180            61  \n",
       "\n",
       "[5 rows x 2358 columns]"
      ]
     },
     "execution_count": 189,
     "metadata": {},
     "output_type": "execute_result"
    }
   ],
   "source": [
    "full_train.head()"
   ]
  },
  {
   "cell_type": "code",
   "execution_count": null,
   "id": "66f337f9",
   "metadata": {
    "id": "66f337f9"
   },
   "outputs": [],
   "source": [
    "# Split into x and y\n",
    "full_train_x = full_train.drop('fraudulent', axis=1) \n",
    "full_train_y = full_train['fraudulent']"
   ]
  },
  {
   "cell_type": "code",
   "execution_count": null,
   "id": "0511d79f",
   "metadata": {
    "id": "0511d79f",
    "outputId": "e4c04b0c-3f4c-4a9c-87cc-8c7c755c9bcd"
   },
   "outputs": [
    {
     "data": {
      "text/plain": [
       "(12516, 2357)"
      ]
     },
     "execution_count": 193,
     "metadata": {},
     "output_type": "execute_result"
    }
   ],
   "source": [
    "full_train_x.shape"
   ]
  },
  {
   "cell_type": "markdown",
   "id": "829ee387",
   "metadata": {
    "id": "829ee387"
   },
   "source": [
    "#### Undersampling"
   ]
  },
  {
   "cell_type": "code",
   "execution_count": null,
   "id": "9d8117e9",
   "metadata": {
    "id": "9d8117e9"
   },
   "outputs": [],
   "source": [
    "rus = RandomUnderSampler(random_state=100)\n",
    "\n",
    "full_train_x_us, full_train_y_us = rus.fit_resample(full_train_x, full_train_y)"
   ]
  },
  {
   "cell_type": "code",
   "execution_count": null,
   "id": "64d3e95c",
   "metadata": {
    "id": "64d3e95c",
    "outputId": "fe145ba1-180b-4ead-c19c-c7d4ba0de4d5"
   },
   "outputs": [
    {
     "data": {
      "text/plain": [
       "(1212, 2357)"
      ]
     },
     "execution_count": 195,
     "metadata": {},
     "output_type": "execute_result"
    }
   ],
   "source": [
    "full_train_x_us.shape"
   ]
  },
  {
   "cell_type": "markdown",
   "id": "18caa2e1",
   "metadata": {
    "id": "18caa2e1"
   },
   "source": [
    "#### Oversampling"
   ]
  },
  {
   "cell_type": "code",
   "execution_count": null,
   "id": "cd32ed62",
   "metadata": {
    "id": "cd32ed62"
   },
   "outputs": [],
   "source": [
    "ros = RandomOverSampler(random_state=100)\n",
    "\n",
    "full_train_x_os, full_train_y_os = ros.fit_resample(full_train_x, full_train_y)"
   ]
  },
  {
   "cell_type": "code",
   "execution_count": null,
   "id": "d3d03ca6",
   "metadata": {
    "id": "d3d03ca6",
    "outputId": "d628e563-40d0-45f0-abaa-e9b5e4adf5b3"
   },
   "outputs": [
    {
     "data": {
      "text/plain": [
       "(23820, 2357)"
      ]
     },
     "execution_count": 192,
     "metadata": {},
     "output_type": "execute_result"
    }
   ],
   "source": [
    "full_train_x_os.shape"
   ]
  },
  {
   "cell_type": "markdown",
   "id": "e5404871",
   "metadata": {},
   "source": [
    "### Bag of words data\n",
    "\n",
    "Combine all the data:"
   ]
  },
  {
   "cell_type": "code",
   "execution_count": 12,
   "id": "7e07b589",
   "metadata": {},
   "outputs": [],
   "source": [
    "bow_train = train_nt.join(train_tfidf.add_prefix('tf_'))\n",
    "bow_test = test_nt.join(test_tfidf.add_prefix('tf_'))"
   ]
  },
  {
   "cell_type": "code",
   "execution_count": 13,
   "id": "d67cf3c1",
   "metadata": {
    "id": "66f337f9"
   },
   "outputs": [],
   "source": [
    "# Split into x and y\n",
    "bow_train_x = bow_train.drop('fraudulent', axis=1) \n",
    "bow_train_y = bow_train['fraudulent']"
   ]
  },
  {
   "cell_type": "markdown",
   "id": "71529803",
   "metadata": {
    "id": "829ee387"
   },
   "source": [
    "#### Undersampling"
   ]
  },
  {
   "cell_type": "code",
   "execution_count": 14,
   "id": "a3452583",
   "metadata": {
    "id": "9d8117e9"
   },
   "outputs": [],
   "source": [
    "rus = RandomUnderSampler(random_state=100)\n",
    "\n",
    "bow_train_x_us, bow_train_y_us = rus.fit_resample(bow_train_x, bow_train_y)"
   ]
  },
  {
   "cell_type": "markdown",
   "id": "2e520737",
   "metadata": {
    "id": "18caa2e1"
   },
   "source": [
    "#### Oversampling"
   ]
  },
  {
   "cell_type": "code",
   "execution_count": 15,
   "id": "bd19019f",
   "metadata": {
    "id": "cd32ed62"
   },
   "outputs": [],
   "source": [
    "ros = RandomOverSampler(random_state=100)\n",
    "\n",
    "bow_train_x_os, bow_train_y_os = rus.fit_resample(bow_train_x, bow_train_y)"
   ]
  },
  {
   "cell_type": "markdown",
   "id": "87c23de8",
   "metadata": {
    "id": "87c23de8"
   },
   "source": [
    "## Word2Vec\n",
    "\n",
    "Now we can create a word2vec object for the description feature:"
   ]
  },
  {
   "cell_type": "code",
   "execution_count": null,
   "id": "ccb3b6b2",
   "metadata": {
    "id": "ccb3b6b2"
   },
   "outputs": [],
   "source": [
    "# sg=1 means use skip-gram rather than continuous bag of words\n",
    "# Use min_count to exclude rare words which are usually typos or otherwise not predictive, to reduce dimensions\n",
    "w2v_desc = Word2Vec(desc_tc, min_count = 5, vector_size = 100, sg = 1, epochs = 30)"
   ]
  },
  {
   "cell_type": "code",
   "execution_count": null,
   "id": "80534247",
   "metadata": {
    "id": "80534247",
    "outputId": "4df37aa1-15c8-47e3-a49e-f37a20de7418"
   },
   "outputs": [
    {
     "name": "stdout",
     "output_type": "stream",
     "text": [
      "KeyedVectors<vector_size=100, 11283 keys>\n"
     ]
    }
   ],
   "source": [
    "print(w2v_desc.wv)"
   ]
  },
  {
   "cell_type": "markdown",
   "id": "07b97c4c",
   "metadata": {
    "id": "07b97c4c"
   },
   "source": [
    "We can now see the encoded representation of the word 'customer' (showing only the first 10 of 300 values):"
   ]
  },
  {
   "cell_type": "code",
   "execution_count": null,
   "id": "c454bdb0",
   "metadata": {
    "id": "c454bdb0",
    "outputId": "7bd1b2ce-01ba-4576-f46f-b3b9dbeadf68"
   },
   "outputs": [
    {
     "data": {
      "text/plain": [
       "array([-0.29557648, -0.402015  , -0.10946514, -0.15458967,  0.11554033,\n",
       "       -0.05182546, -0.17432185,  0.44088262, -0.70881873, -0.15578865],\n",
       "      dtype=float32)"
      ]
     },
     "execution_count": 349,
     "metadata": {},
     "output_type": "execute_result"
    }
   ],
   "source": [
    "w2v_desc.wv['customer'][:10]"
   ]
  },
  {
   "cell_type": "markdown",
   "id": "7430c1f0",
   "metadata": {
    "id": "7430c1f0"
   },
   "source": [
    "Each word has an index:"
   ]
  },
  {
   "cell_type": "code",
   "execution_count": null,
   "id": "7be60354",
   "metadata": {
    "id": "7be60354",
    "outputId": "d45d614a-9c67-4446-e3e9-8b892ee63cd1"
   },
   "outputs": [
    {
     "name": "stdout",
     "output_type": "stream",
     "text": [
      "0 work\n",
      "1 team\n",
      "2 customer\n",
      "3 service\n",
      "4 product\n",
      "5 business\n",
      "6 client\n",
      "7 experience\n",
      "8 company\n",
      "9 new\n",
      "10 sale\n",
      "11 look\n"
     ]
    }
   ],
   "source": [
    "for i, word in enumerate(w2v_desc.wv.index_to_key):\n",
    "    print(i, word)\n",
    "    if i > 10:\n",
    "        break"
   ]
  },
  {
   "cell_type": "markdown",
   "id": "285b369b",
   "metadata": {
    "id": "285b369b"
   },
   "source": [
    "Create word2vec models for the rest of the text features:"
   ]
  },
  {
   "cell_type": "code",
   "execution_count": null,
   "id": "0f070706",
   "metadata": {
    "id": "0f070706"
   },
   "outputs": [],
   "source": [
    "w2v_title = Word2Vec(title_tc, min_count = 2, vector_size = 10, sg = 1, epochs = 10)"
   ]
  },
  {
   "cell_type": "code",
   "execution_count": null,
   "id": "1efa6fdb",
   "metadata": {
    "id": "1efa6fdb"
   },
   "outputs": [],
   "source": [
    "w2v_cp = Word2Vec(cp_tc, min_count = 3, vector_size = 30, sg = 1, epochs = 20)"
   ]
  },
  {
   "cell_type": "code",
   "execution_count": null,
   "id": "c3120b43",
   "metadata": {
    "id": "c3120b43"
   },
   "outputs": [],
   "source": [
    "w2v_reqs = Word2Vec(reqs_tc, min_count = 2, vector_size = 100, sg = 1, epochs = 10)"
   ]
  },
  {
   "cell_type": "code",
   "execution_count": null,
   "id": "a491aa58",
   "metadata": {
    "id": "a491aa58"
   },
   "outputs": [],
   "source": [
    "w2v_benefits = Word2Vec(benefits_tc, min_count = 2, vector_size = 30, sg = 1, epochs = 10)"
   ]
  },
  {
   "cell_type": "markdown",
   "id": "1d33bc40",
   "metadata": {
    "id": "1d33bc40"
   },
   "source": [
    "Save word2vec models:"
   ]
  },
  {
   "cell_type": "code",
   "execution_count": null,
   "id": "6661f191",
   "metadata": {
    "id": "6661f191"
   },
   "outputs": [],
   "source": [
    "w2v_desc.save('w2v_desc.model')\n",
    "w2v_title.save('w2v_title.model')\n",
    "w2v_cp.save('w2v_cp.model')\n",
    "w2v_reqs.save('w2v_reqs.model')\n",
    "w2v_benefits.save('w2v_benefits.model')"
   ]
  },
  {
   "cell_type": "markdown",
   "id": "20f61021",
   "metadata": {
    "id": "20f61021"
   },
   "source": [
    "## Saving prepared data\n",
    "\n",
    "Let's save the dataframes and word indicies with pickle, ready to be uploaded and used as neural network input in Google Colab:"
   ]
  },
  {
   "cell_type": "code",
   "execution_count": null,
   "id": "4e2010d1",
   "metadata": {
    "id": "4e2010d1"
   },
   "outputs": [],
   "source": [
    "# Transform test sequences into dataframes\n",
    "test_desc_df = pd.DataFrame(test_desc_is)"
   ]
  },
  {
   "cell_type": "code",
   "execution_count": null,
   "id": "bddeb30a",
   "metadata": {
    "id": "bddeb30a"
   },
   "outputs": [],
   "source": [
    "test_title_df = pd.DataFrame(test_title_is)"
   ]
  },
  {
   "cell_type": "code",
   "execution_count": null,
   "id": "60bbb80b",
   "metadata": {
    "id": "60bbb80b"
   },
   "outputs": [],
   "source": [
    "test_cp_df = pd.DataFrame(test_cp_is)"
   ]
  },
  {
   "cell_type": "code",
   "execution_count": null,
   "id": "ea0a6410",
   "metadata": {
    "id": "ea0a6410"
   },
   "outputs": [],
   "source": [
    "test_reqs_df = pd.DataFrame(test_reqs_is)"
   ]
  },
  {
   "cell_type": "code",
   "execution_count": null,
   "id": "2c0af378",
   "metadata": {
    "id": "2c0af378"
   },
   "outputs": [],
   "source": [
    "test_benefits_df = pd.DataFrame(test_benefits_is)"
   ]
  },
  {
   "cell_type": "code",
   "execution_count": null,
   "id": "8e941182",
   "metadata": {
    "id": "8e941182"
   },
   "outputs": [],
   "source": [
    "with open('processed_data', 'wb') as f: \n",
    "    # Test dataframes\n",
    "    pickle.dump(test_nt, f) # target variable is in this dataframe\n",
    "    pickle.dump(test_desc_df, f)\n",
    "    pickle.dump(test_title_df, f)\n",
    "    pickle.dump(test_cp_df, f)\n",
    "    pickle.dump(test_reqs_df, f)\n",
    "    pickle.dump(test_benefits_df, f)\n",
    "    \n",
    "    # Word indicies\n",
    "    pickle.dump(desc_wi, f)\n",
    "    pickle.dump(title_wi, f)\n",
    "    pickle.dump(cp_wi, f)\n",
    "    pickle.dump(reqs_wi, f)\n",
    "    pickle.dump(benefits_wi, f)\n",
    "    \n",
    "    # Train datasets - undersampled, oversampled and original\n",
    "    pickle.dump(full_train_x, f)\n",
    "    pickle.dump(full_train_y, f)\n",
    "    pickle.dump(full_train_x_us, f)\n",
    "    pickle.dump(full_train_y_us, f)\n",
    "    pickle.dump(full_train_x_os, f)\n",
    "    pickle.dump(full_train_y_os, f)"
   ]
  },
  {
   "cell_type": "markdown",
   "id": "b3e93bfa",
   "metadata": {},
   "source": [
    "# Random Forest\n",
    "\n",
    "We will used random search cross-validation to fit Random forest models, using F1 as the scoring metric.\n",
    "\n",
    "First, unbalanced data:"
   ]
  },
  {
   "cell_type": "code",
   "execution_count": 25,
   "id": "011c24bf",
   "metadata": {},
   "outputs": [],
   "source": [
    "rf_class = RandomForestClassifier(random_state = 100, n_jobs = -1)\n",
    "\n",
    "# Define hyperparameter distributions for the model\n",
    "param_dists = {'bootstrap': [True, False], \n",
    "              'n_estimators': [50, 100, 150, 200, 250, 300, 350, 400, 450, 500],\n",
    "              'max_depth': [5, 10, 15, 20, None],\n",
    "              'min_samples_split': [2, 4, 8],\n",
    "              'min_samples_leaf': [1, 2, 4, 8]}\n",
    "\n",
    "# Search for best results over random hyperparameter choices\n",
    "rf_rscv = RandomizedSearchCV(rf_class, param_dists, n_iter=10, random_state = 100, scoring = 'f1')\n",
    "rf_search = rf_rscv.fit(bow_train_x, bow_train_y) "
   ]
  },
  {
   "cell_type": "code",
   "execution_count": 26,
   "id": "dabad71f",
   "metadata": {},
   "outputs": [
    {
     "name": "stdout",
     "output_type": "stream",
     "text": [
      "{'n_estimators': 400, 'min_samples_split': 2, 'min_samples_leaf': 2, 'max_depth': None, 'bootstrap': False}\n",
      "0.6924104213870199\n"
     ]
    }
   ],
   "source": [
    "print(rf_search.best_params_)\n",
    "print(rf_search.best_score_)"
   ]
  },
  {
   "cell_type": "markdown",
   "id": "7f4085d9",
   "metadata": {},
   "source": [
    "With undersampled data:"
   ]
  },
  {
   "cell_type": "code",
   "execution_count": 35,
   "id": "c06c4903",
   "metadata": {},
   "outputs": [],
   "source": [
    "rf_class = RandomForestClassifier(random_state = 100, n_jobs = -1)\n",
    "\n",
    "# Define hyperparameter distributions for the model\n",
    "param_dists = {'bootstrap': [True, False], \n",
    "              'n_estimators': [50, 100, 150, 200, 250, 300, 350, 400, 450, 500],\n",
    "              'max_depth': [5, 10, 15, 20, None],\n",
    "              'min_samples_split': [2, 4, 8],\n",
    "              'min_samples_leaf': [1, 2, 4, 8]}\n",
    "\n",
    "# Search for best results over random hyperparameter choices\n",
    "rf_rscv = RandomizedSearchCV(rf_class, param_dists, n_iter=10, random_state = 1, scoring = 'f1')\n",
    "rf_search = rf_rscv.fit(bow_train_x_us, bow_train_y_us) "
   ]
  },
  {
   "cell_type": "code",
   "execution_count": 36,
   "id": "e38edf9e",
   "metadata": {},
   "outputs": [
    {
     "name": "stdout",
     "output_type": "stream",
     "text": [
      "{'n_estimators': 350, 'min_samples_split': 4, 'min_samples_leaf': 1, 'max_depth': None, 'bootstrap': False}\n",
      "0.9282767054483612\n"
     ]
    }
   ],
   "source": [
    "print(rf_search.best_params_)\n",
    "print(rf_search.best_score_)"
   ]
  },
  {
   "cell_type": "markdown",
   "id": "6f442a9b",
   "metadata": {},
   "source": [
    "With oversampled data:"
   ]
  },
  {
   "cell_type": "code",
   "execution_count": 33,
   "id": "4b94c9af",
   "metadata": {},
   "outputs": [],
   "source": [
    "rf_class = RandomForestClassifier(random_state = 100, n_jobs = -1)\n",
    "\n",
    "# Define hyperparameter distributions for the model\n",
    "param_dists = {'bootstrap': [True, False], \n",
    "              'n_estimators': [50, 100, 150, 200, 250, 300, 350, 400, 450, 500],\n",
    "              'max_depth': [5, 10, 15, 20, None],\n",
    "              'min_samples_split': [2, 4, 8],\n",
    "              'min_samples_leaf': [1, 2, 4, 8]}\n",
    "\n",
    "# Search for best results over random hyperparameter choices\n",
    "rf_rscv = RandomizedSearchCV(rf_class, param_dists, n_iter=10, random_state = 10, scoring = 'f1')\n",
    "rf_search = rf_rscv.fit(bow_train_x_os, bow_train_y_os) "
   ]
  },
  {
   "cell_type": "code",
   "execution_count": 34,
   "id": "fd0ee37e",
   "metadata": {},
   "outputs": [
    {
     "name": "stdout",
     "output_type": "stream",
     "text": [
      "{'n_estimators': 400, 'min_samples_split': 4, 'min_samples_leaf': 1, 'max_depth': None, 'bootstrap': False}\n",
      "0.9281033199882758\n"
     ]
    }
   ],
   "source": [
    "print(rf_search.best_params_)\n",
    "print(rf_search.best_score_)"
   ]
  },
  {
   "cell_type": "markdown",
   "id": "725527a9",
   "metadata": {},
   "source": [
    "The unbalanced class data performed significantly worse on F1 scoring than the balanced datasets."
   ]
  },
  {
   "cell_type": "markdown",
   "id": "2caa0965",
   "metadata": {
    "id": "2caa0965"
   },
   "source": [
    "# Neural networks\n",
    "\n",
    "## Prepare data\n",
    "\n",
    "As neural networks can take a long time to run, I will be using a Google Colab GPU.\n",
    "\n",
    "We need to reload input data, tokensier word indicies and word2vec models within Google Colab. \n",
    "\n",
    "Reloading pickled dataframes and word incidies - pickle will read them in the same order we saved them:"
   ]
  },
  {
   "cell_type": "code",
   "execution_count": 1,
   "id": "noPbrYKTW2jR",
   "metadata": {
    "colab": {
     "base_uri": "https://localhost:8080/"
    },
    "executionInfo": {
     "elapsed": 21980,
     "status": "ok",
     "timestamp": 1652110760273,
     "user": {
      "displayName": "Alexandra Stepanenko",
      "userId": "09067281291667623362"
     },
     "user_tz": -60
    },
    "id": "noPbrYKTW2jR",
    "outputId": "b6f63446-d470-4aa7-d68e-ef9c9e4272c3"
   },
   "outputs": [
    {
     "name": "stdout",
     "output_type": "stream",
     "text": [
      "Mounted at /content/gdrive\n"
     ]
    }
   ],
   "source": [
    "# Mount drive for colab\n",
    "from google.colab import drive\n",
    "drive.mount('/content/gdrive')"
   ]
  },
  {
   "cell_type": "code",
   "execution_count": 4,
   "id": "dde713de",
   "metadata": {
    "executionInfo": {
     "elapsed": 4260,
     "status": "ok",
     "timestamp": 1652110788697,
     "user": {
      "displayName": "Alexandra Stepanenko",
      "userId": "09067281291667623362"
     },
     "user_tz": -60
    },
    "id": "dde713de"
   },
   "outputs": [],
   "source": [
    "with open('/content/gdrive/MyDrive/ML2/processed_data_w2v', 'rb') as f: \n",
    "    # Test dataframes\n",
    "    test_nt = pickle.load(f) # target variable is in this dataframe\n",
    "    test_desc_df = pickle.load(f)\n",
    "    test_title_df = pickle.load(f)\n",
    "    test_cp_df = pickle.load(f)\n",
    "    test_reqs_df = pickle.load(f)\n",
    "    test_benefits_df = pickle.load(f)\n",
    "    \n",
    "    # Word indicies\n",
    "    desc_wi = pickle.load(f)\n",
    "    title_wi = pickle.load(f)\n",
    "    cp_wi = pickle.load(f)\n",
    "    reqs_wi = pickle.load(f)\n",
    "    benefits_wi = pickle.load(f)\n",
    "    \n",
    "    # Train datasets - undersampled = pickle.load(oversampled and original\n",
    "    full_train_x = pickle.load(f)\n",
    "    full_train_y = pickle.load(f)\n",
    "    full_train_x_us = pickle.load(f)\n",
    "    full_train_y_us = pickle.load(f)\n",
    "    full_train_x_os = pickle.load(f)\n",
    "    full_train_y_os = pickle.load(f)\n",
    "\n",
    "    # Word2Vec models\n",
    "    w2v_desc = pickle.load(f)\n",
    "    w2v_title = pickle.load(f)\n",
    "    w2v_cp = pickle.load(f)\n",
    "    w2v_reqs = pickle.load(f)\n",
    "    w2v_benefits = pickle.load(f)"
   ]
  },
  {
   "cell_type": "markdown",
   "id": "ac46d74f",
   "metadata": {
    "id": "ac46d74f"
   },
   "source": [
    "### Create train and validation sets"
   ]
  },
  {
   "cell_type": "code",
   "execution_count": 80,
   "id": "4542130e",
   "metadata": {
    "executionInfo": {
     "elapsed": 240,
     "status": "ok",
     "timestamp": 1652110804660,
     "user": {
      "displayName": "Alexandra Stepanenko",
      "userId": "09067281291667623362"
     },
     "user_tz": -60
    },
    "id": "4542130e"
   },
   "outputs": [],
   "source": [
    "# Set random seeds for reproducible results\n",
    "\n",
    "# Numpy\n",
    "seed(100)\n",
    "# Tensorflow\n",
    "tf.random.set_seed(100)"
   ]
  },
  {
   "cell_type": "code",
   "execution_count": 81,
   "id": "74b1a55d",
   "metadata": {
    "executionInfo": {
     "elapsed": 5,
     "status": "ok",
     "timestamp": 1652110804857,
     "user": {
      "displayName": "Alexandra Stepanenko",
      "userId": "09067281291667623362"
     },
     "user_tz": -60
    },
    "id": "74b1a55d"
   },
   "outputs": [],
   "source": [
    "def createTrainValSets(train_x, train_y):\n",
    "    # Total number of training samples\n",
    "    total_train = len(train_x)\n",
    "\n",
    "    # Keep 20% of the data for validation\n",
    "    num_val = round(total_train/5)\n",
    "    num_train = total_train - num_val\n",
    "    \n",
    "    # Create array of indicies and shuffle\n",
    "    indices = np.arange(total_train)\n",
    "    np.random.shuffle(indices)\n",
    "    \n",
    "    # Split into train and val indicies\n",
    "    train_ind = indices[:num_train]\n",
    "    val_ind = indices[num_train:]\n",
    "    \n",
    "    # Split datasets\n",
    "    training_x = train_x.loc[train_ind]\n",
    "    training_y = train_y.loc[train_ind]\n",
    "    val_x = train_x.loc[val_ind]\n",
    "    val_y = train_y.loc[val_ind]\n",
    "    \n",
    "    # Split train data back into non-text and text features as will be separate inputs into neural networks\n",
    "    desc_train = training_x.loc[:, training_x.columns.str.startswith('desc')]\n",
    "    desc_val = val_x.loc[:, val_x.columns.str.startswith('desc')]\n",
    "    title_train = training_x.loc[:, training_x.columns.str.startswith('title')]\n",
    "    title_val = val_x.loc[:, val_x.columns.str.startswith('title')]\n",
    "    cp_train = training_x.loc[:, training_x.columns.str.startswith('cp')]\n",
    "    cp_val = val_x.loc[:, val_x.columns.str.startswith('cp')]\n",
    "    reqs_train = training_x.loc[:, training_x.columns.str.startswith('reqs')]\n",
    "    reqs_val = val_x.loc[:, val_x.columns.str.startswith('reqs')]\n",
    "    benefits_train = training_x.loc[:, training_x.columns.str.startswith('benefits')]\n",
    "    benefits_val = val_x.loc[:, val_x.columns.str.startswith('benefits')]    \n",
    "    nt_train = training_x.drop([c for c in training_x.columns if c.startswith('desc') or c.startswith('title') or c.startswith('cp') or c.startswith('reqs') or c.startswith('benefits')], axis=1)\n",
    "    nt_val = val_x.drop([c for c in val_x.columns if c.startswith('desc') or c.startswith('title') or c.startswith('cp') or c.startswith('reqs') or c.startswith('benefits')], axis=1)\n",
    "    \n",
    "    # Strip text columns of tags so only integers remain - ready for input into network\n",
    "    desc_train.columns = desc_train.columns.str.lstrip('desc_')\n",
    "    desc_val.columns = desc_val.columns.str.lstrip('desc_')\n",
    "    title_train.columns = title_train.columns.str.lstrip('title_')\n",
    "    title_val.columns = title_val.columns.str.lstrip('title_')\n",
    "    cp_train.columns = cp_train.columns.str.lstrip('cp_')\n",
    "    cp_val.columns = cp_val.columns.str.lstrip('cp_')\n",
    "    reqs_train.columns = reqs_train.columns.str.lstrip('reqs_')\n",
    "    reqs_val.columns = reqs_val.columns.str.lstrip('reqs_')\n",
    "    benefits_train.columns = benefits_train.columns.str.lstrip('benefits_')\n",
    "    benefits_val.columns = benefits_val.columns.str.lstrip('benefits_')\n",
    "    \n",
    "    return training_y, val_y, nt_train, nt_val, desc_train, desc_val, title_train, title_val, cp_train, cp_val, reqs_train, reqs_val, benefits_train, benefits_val"
   ]
  },
  {
   "cell_type": "markdown",
   "id": "55cca9e5",
   "metadata": {
    "id": "55cca9e5"
   },
   "source": [
    "Get data for original (unbalanced) set:"
   ]
  },
  {
   "cell_type": "code",
   "execution_count": 82,
   "id": "37062135",
   "metadata": {
    "executionInfo": {
     "elapsed": 187,
     "status": "ok",
     "timestamp": 1652110805041,
     "user": {
      "displayName": "Alexandra Stepanenko",
      "userId": "09067281291667623362"
     },
     "user_tz": -60
    },
    "id": "37062135"
   },
   "outputs": [],
   "source": [
    "train_y_ub, val_y_ub, nt_train_ub, nt_val_ub, desc_train_ub, desc_val_ub, title_train_ub, title_val_ub, cp_train_ub, cp_val_ub, reqs_train_ub, reqs_val_ub, benefits_train_ub, benefits_val_ub = createTrainValSets(full_train_x, full_train_y)"
   ]
  },
  {
   "cell_type": "markdown",
   "id": "c228c629",
   "metadata": {
    "id": "c228c629"
   },
   "source": [
    "Sets for undersampled data:"
   ]
  },
  {
   "cell_type": "code",
   "execution_count": 83,
   "id": "01682337",
   "metadata": {
    "executionInfo": {
     "elapsed": 5,
     "status": "ok",
     "timestamp": 1652110805042,
     "user": {
      "displayName": "Alexandra Stepanenko",
      "userId": "09067281291667623362"
     },
     "user_tz": -60
    },
    "id": "01682337"
   },
   "outputs": [],
   "source": [
    "train_y_us, val_y_us, nt_train_us, nt_val_us, desc_train_us, desc_val_us, title_train_us, title_val_us, cp_train_us, cp_val_us, reqs_train_us, reqs_val_us, benefits_train_us, benefits_val_us = createTrainValSets(full_train_x_us, full_train_y_us)"
   ]
  },
  {
   "cell_type": "markdown",
   "id": "c4f53981",
   "metadata": {
    "id": "c4f53981"
   },
   "source": [
    "Sets for oversampled data:"
   ]
  },
  {
   "cell_type": "code",
   "execution_count": 84,
   "id": "7fda397d",
   "metadata": {
    "executionInfo": {
     "elapsed": 203,
     "status": "ok",
     "timestamp": 1652110805418,
     "user": {
      "displayName": "Alexandra Stepanenko",
      "userId": "09067281291667623362"
     },
     "user_tz": -60
    },
    "id": "7fda397d"
   },
   "outputs": [],
   "source": [
    "train_y_os, val_y_os, nt_train_os, nt_val_os, desc_train_os, desc_val_os, title_train_os, title_val_os, cp_train_os, cp_val_os, reqs_train_os, reqs_val_os, benefits_train_os, benefits_val_os = createTrainValSets(full_train_x_os, full_train_y_os)"
   ]
  },
  {
   "cell_type": "markdown",
   "id": "8d3b62a7",
   "metadata": {
    "id": "8d3b62a7"
   },
   "source": [
    "## Create embedding matricies\n",
    "\n",
    "We will create an embedding matrix for each text feature, which we will set as the weights of the embedding layer corresponding to that feature.\n",
    "\n",
    "A function which returns the embedding matrix:"
   ]
  },
  {
   "cell_type": "code",
   "execution_count": 85,
   "id": "877ce27c",
   "metadata": {
    "executionInfo": {
     "elapsed": 187,
     "status": "ok",
     "timestamp": 1652110808671,
     "user": {
      "displayName": "Alexandra Stepanenko",
      "userId": "09067281291667623362"
     },
     "user_tz": -60
    },
    "id": "877ce27c"
   },
   "outputs": [],
   "source": [
    "def getEM(w2v_model, word_index):\n",
    "    ed = w2v_model.wv.vector_size\n",
    "    nt = len(word_index) + 1\n",
    "    em = np.zeros((nt, ed))\n",
    "    \n",
    "    for word, i in word_index.items():\n",
    "        # For each tokenised word, embedding vector if it exists in the word2vec model\n",
    "        try:\n",
    "            ev = w2v_model.wv[word]\n",
    "        except:\n",
    "            ev = None\n",
    "        if ev is not None:\n",
    "            em[i] = ev\n",
    "            \n",
    "    return em"
   ]
  },
  {
   "cell_type": "code",
   "execution_count": 86,
   "id": "a25c3759",
   "metadata": {
    "executionInfo": {
     "elapsed": 208,
     "status": "ok",
     "timestamp": 1652110809113,
     "user": {
      "displayName": "Alexandra Stepanenko",
      "userId": "09067281291667623362"
     },
     "user_tz": -60
    },
    "id": "a25c3759"
   },
   "outputs": [],
   "source": [
    "# Get embedding matricies for each feature\n",
    "em_desc = getEM(w2v_desc, desc_wi)\n",
    "em_title = getEM(w2v_title, title_wi)\n",
    "em_cp = getEM(w2v_cp, cp_wi)\n",
    "em_reqs = getEM(w2v_reqs, reqs_wi)\n",
    "em_benefits = getEM(w2v_benefits, benefits_wi)"
   ]
  },
  {
   "cell_type": "markdown",
   "id": "3bafdc83",
   "metadata": {
    "id": "3bafdc83"
   },
   "source": [
    "Variables required for adding embedding layers of correct sizes to neural networks:"
   ]
  },
  {
   "cell_type": "code",
   "execution_count": 87,
   "id": "ed4e46dc",
   "metadata": {
    "executionInfo": {
     "elapsed": 14,
     "status": "ok",
     "timestamp": 1652110809114,
     "user": {
      "displayName": "Alexandra Stepanenko",
      "userId": "09067281291667623362"
     },
     "user_tz": -60
    },
    "id": "ed4e46dc"
   },
   "outputs": [],
   "source": [
    "# Embedding dimensions \n",
    "ed_desc = w2v_desc.wv.vector_size\n",
    "ed_title = w2v_title.wv.vector_size\n",
    "ed_cp = w2v_cp.wv.vector_size\n",
    "ed_reqs = w2v_reqs.wv.vector_size\n",
    "ed_benefits = w2v_benefits.wv.vector_size"
   ]
  },
  {
   "cell_type": "code",
   "execution_count": 88,
   "id": "34e350ac",
   "metadata": {
    "executionInfo": {
     "elapsed": 14,
     "status": "ok",
     "timestamp": 1652110809115,
     "user": {
      "displayName": "Alexandra Stepanenko",
      "userId": "09067281291667623362"
     },
     "user_tz": -60
    },
    "id": "34e350ac"
   },
   "outputs": [],
   "source": [
    "# Number of tokens in word index\n",
    "nt_desc = len(desc_wi) + 1\n",
    "nt_title = len(title_wi) + 1\n",
    "nt_cp = len(cp_wi) + 1\n",
    "nt_reqs = len(reqs_wi) + 1\n",
    "nt_benefits = len(benefits_wi) + 1"
   ]
  },
  {
   "cell_type": "code",
   "execution_count": 89,
   "id": "c8ddc197",
   "metadata": {
    "executionInfo": {
     "elapsed": 13,
     "status": "ok",
     "timestamp": 1652110809116,
     "user": {
      "displayName": "Alexandra Stepanenko",
      "userId": "09067281291667623362"
     },
     "user_tz": -60
    },
    "id": "c8ddc197"
   },
   "outputs": [],
   "source": [
    "# Input length\n",
    "il_desc = len(desc_train_ub.columns)\n",
    "il_title = len(title_train_ub.columns)\n",
    "il_cp = len(cp_train_ub.columns)\n",
    "il_reqs = len(reqs_train_ub.columns)\n",
    "il_benefits = len(benefits_train_ub.columns)\n",
    "il_nt = len(nt_train_ub.columns)"
   ]
  },
  {
   "cell_type": "markdown",
   "id": "4a385266",
   "metadata": {
    "id": "4a385266"
   },
   "source": [
    "## Building models\n",
    "\n",
    "We will use tensorflow's functional API to build a model with 6 sets of inputs: the set of non-text data, and 5 text features, each of will have their own embedding. \n",
    "\n",
    "### First model"
   ]
  },
  {
   "cell_type": "code",
   "execution_count": 20,
   "id": "81ff115b",
   "metadata": {
    "colab": {
     "base_uri": "https://localhost:8080/"
    },
    "executionInfo": {
     "elapsed": 73868,
     "status": "ok",
     "timestamp": 1652110887620,
     "user": {
      "displayName": "Alexandra Stepanenko",
      "userId": "09067281291667623362"
     },
     "user_tz": -60
    },
    "id": "81ff115b",
    "outputId": "ac071f94-3b24-4bfc-883c-dcd23ff29b95"
   },
   "outputs": [
    {
     "name": "stdout",
     "output_type": "stream",
     "text": [
      "Model: \"model\"\n",
      "__________________________________________________________________________________________________\n",
      " Layer (type)                   Output Shape         Param #     Connected to                     \n",
      "==================================================================================================\n",
      " desc (InputLayer)              [(None, 655)]        0           []                               \n",
      "                                                                                                  \n",
      " title (InputLayer)             [(None, 15)]         0           []                               \n",
      "                                                                                                  \n",
      " cp (InputLayer)                [(None, 528)]        0           []                               \n",
      "                                                                                                  \n",
      " reqs (InputLayer)              [(None, 615)]        0           []                               \n",
      "                                                                                                  \n",
      " benefits (InputLayer)          [(None, 444)]        0           []                               \n",
      "                                                                                                  \n",
      " embedding (Embedding)          (None, 655, 100)     5665000     ['desc[0][0]']                   \n",
      "                                                                                                  \n",
      " embedding_1 (Embedding)        (None, 15, 10)       42020       ['title[0][0]']                  \n",
      "                                                                                                  \n",
      " embedding_2 (Embedding)        (None, 528, 30)      390630      ['cp[0][0]']                     \n",
      "                                                                                                  \n",
      " embedding_3 (Embedding)        (None, 615, 100)     4558500     ['reqs[0][0]']                   \n",
      "                                                                                                  \n",
      " embedding_4 (Embedding)        (None, 444, 30)      431430      ['benefits[0][0]']               \n",
      "                                                                                                  \n",
      " flatten (Flatten)              (None, 65500)        0           ['embedding[0][0]']              \n",
      "                                                                                                  \n",
      " flatten_1 (Flatten)            (None, 150)          0           ['embedding_1[0][0]']            \n",
      "                                                                                                  \n",
      " flatten_2 (Flatten)            (None, 15840)        0           ['embedding_2[0][0]']            \n",
      "                                                                                                  \n",
      " flatten_3 (Flatten)            (None, 61500)        0           ['embedding_3[0][0]']            \n",
      "                                                                                                  \n",
      " flatten_4 (Flatten)            (None, 13320)        0           ['embedding_4[0][0]']            \n",
      "                                                                                                  \n",
      " nontext (InputLayer)           [(None, 100)]        0           []                               \n",
      "                                                                                                  \n",
      " dense (Dense)                  (None, 32)           2096032     ['flatten[0][0]']                \n",
      "                                                                                                  \n",
      " dense_1 (Dense)                (None, 32)           4832        ['flatten_1[0][0]']              \n",
      "                                                                                                  \n",
      " dense_2 (Dense)                (None, 32)           506912      ['flatten_2[0][0]']              \n",
      "                                                                                                  \n",
      " dense_3 (Dense)                (None, 32)           1968032     ['flatten_3[0][0]']              \n",
      "                                                                                                  \n",
      " dense_4 (Dense)                (None, 32)           426272      ['flatten_4[0][0]']              \n",
      "                                                                                                  \n",
      " dense_5 (Dense)                (None, 32)           3232        ['nontext[0][0]']                \n",
      "                                                                                                  \n",
      " concatenate (Concatenate)      (None, 192)          0           ['dense[0][0]',                  \n",
      "                                                                  'dense_1[0][0]',                \n",
      "                                                                  'dense_2[0][0]',                \n",
      "                                                                  'dense_3[0][0]',                \n",
      "                                                                  'dense_4[0][0]',                \n",
      "                                                                  'dense_5[0][0]']                \n",
      "                                                                                                  \n",
      " dense_6 (Dense)                (None, 1)            193         ['concatenate[0][0]']            \n",
      "                                                                                                  \n",
      "==================================================================================================\n",
      "Total params: 16,093,085\n",
      "Trainable params: 5,005,505\n",
      "Non-trainable params: 11,087,580\n",
      "__________________________________________________________________________________________________\n"
     ]
    }
   ],
   "source": [
    "first_layer_size = 32\n",
    "\n",
    "# Text features: input into embedding layer, followed by a dense layer\n",
    "# Each text feature's embedding layer has it's own dimensions and embedding matrix\n",
    "# Embedding layers are set to not trainable as we have already defined weights given by word2vec\n",
    "desc_input = Input(shape=(il_desc), dtype='int32', name='desc')\n",
    "embedded_desc = layers.Embedding(nt_desc, ed_desc, input_length=il_desc,\n",
    "                                weights=[em_desc], trainable=False)(desc_input)\n",
    "flat_desc = layers.Flatten()(embedded_desc)\n",
    "dense_desc = layers.Dense(first_layer_size)(flat_desc)\n",
    "\n",
    "title_input = Input(shape=(il_title), dtype='int32', name='title')\n",
    "embedded_title = layers.Embedding(nt_title, ed_title, input_length=il_title,\n",
    "                                weights=[em_title], trainable=False)(title_input)\n",
    "flat_title = layers.Flatten()(embedded_title)\n",
    "dense_title = layers.Dense(first_layer_size)(flat_title)\n",
    "\n",
    "cp_input = Input(shape=(il_cp), dtype='int32', name='cp')\n",
    "embedded_cp = layers.Embedding(nt_cp, ed_cp, input_length=il_cp,\n",
    "                                weights=[em_cp], trainable=False)(cp_input)\n",
    "flat_cp = layers.Flatten()(embedded_cp)\n",
    "dense_cp = layers.Dense(first_layer_size)(flat_cp)\n",
    "\n",
    "reqs_input = Input(shape=(il_reqs), dtype='int32', name='reqs')\n",
    "embedded_reqs = layers.Embedding(nt_reqs, ed_reqs, input_length=il_reqs,\n",
    "                                weights=[em_reqs], trainable=False)(reqs_input)\n",
    "flat_reqs = layers.Flatten()(embedded_reqs)\n",
    "dense_reqs = layers.Dense(first_layer_size)(flat_reqs)\n",
    "\n",
    "benefits_input = Input(shape=(il_benefits), dtype='int32', name='benefits')\n",
    "embedded_benefits = layers.Embedding(nt_benefits, ed_benefits, input_length=il_benefits,\n",
    "                                weights=[em_benefits], trainable=False)(benefits_input)\n",
    "flat_benefits = layers.Flatten()(embedded_benefits)\n",
    "dense_benefits = layers.Dense(first_layer_size)(flat_benefits)\n",
    "\n",
    "# Non-text features: feed directly into first dense layer\n",
    "nontext_input = Input(shape=(il_nt), dtype='float64',name='nontext')\n",
    "dense_nontext = layers.Dense(first_layer_size)(nontext_input)\n",
    "\n",
    "# Concatenate\n",
    "concatenated = layers.concatenate([dense_desc, dense_title, dense_cp, dense_reqs, dense_benefits, dense_nontext], axis=-1)\n",
    "\n",
    "# Output layer\n",
    "output = layers.Dense(1, activation='sigmoid')(concatenated)\n",
    "\n",
    "# Define model\n",
    "model = Model([desc_input, title_input, cp_input, reqs_input, benefits_input, nontext_input], output)\n",
    "\n",
    "model.summary()"
   ]
  },
  {
   "cell_type": "markdown",
   "id": "aed02bf7",
   "metadata": {
    "id": "aed02bf7"
   },
   "source": [
    "### Defining different train and validation inputs depending on the set (unbalanced, oversampled, undersampled)"
   ]
  },
  {
   "cell_type": "code",
   "execution_count": 95,
   "id": "fe548f6c",
   "metadata": {
    "executionInfo": {
     "elapsed": 31,
     "status": "ok",
     "timestamp": 1652110887622,
     "user": {
      "displayName": "Alexandra Stepanenko",
      "userId": "09067281291667623362"
     },
     "user_tz": -60
    },
    "id": "fe548f6c"
   },
   "outputs": [],
   "source": [
    "# Unbalanced\n",
    "train_input_ub = {'desc': desc_train_ub, 'title': title_train_ub, 'cp': cp_train_ub, 'reqs': reqs_train_ub, \n",
    "                  'benefits': benefits_train_ub, 'nontext': nt_train_ub}\n",
    "val_input_ub = {'desc': desc_val_ub, 'title': title_val_ub, 'cp': cp_val_ub, 'reqs': reqs_val_ub, \n",
    "                'benefits': benefits_val_ub, 'nontext': nt_val_ub}"
   ]
  },
  {
   "cell_type": "code",
   "execution_count": 96,
   "id": "e61518b5",
   "metadata": {
    "executionInfo": {
     "elapsed": 29,
     "status": "ok",
     "timestamp": 1652110887624,
     "user": {
      "displayName": "Alexandra Stepanenko",
      "userId": "09067281291667623362"
     },
     "user_tz": -60
    },
    "id": "e61518b5"
   },
   "outputs": [],
   "source": [
    "# Undersampled\n",
    "train_input_us = {'desc': desc_train_us, 'title': title_train_us, 'cp': cp_train_us, 'reqs': reqs_train_us, \n",
    "                  'benefits': benefits_train_us, 'nontext': nt_train_us}\n",
    "val_input_us = {'desc': desc_val_us, 'title': title_val_us, 'cp': cp_val_us, 'reqs': reqs_val_us, \n",
    "                'benefits': benefits_val_us, 'nontext': nt_val_us}"
   ]
  },
  {
   "cell_type": "code",
   "execution_count": 97,
   "id": "b8aff8cf",
   "metadata": {
    "executionInfo": {
     "elapsed": 28,
     "status": "ok",
     "timestamp": 1652110887626,
     "user": {
      "displayName": "Alexandra Stepanenko",
      "userId": "09067281291667623362"
     },
     "user_tz": -60
    },
    "id": "b8aff8cf"
   },
   "outputs": [],
   "source": [
    "# Oversampled\n",
    "train_input_os = {'desc': desc_train_os, 'title': title_train_os, 'cp': cp_train_os, 'reqs': reqs_train_os, \n",
    "                  'benefits': benefits_train_os, 'nontext': nt_train_os}\n",
    "val_input_os = {'desc': desc_val_os, 'title': title_val_os, 'cp': cp_val_os, 'reqs': reqs_val_os, \n",
    "                'benefits': benefits_val_os, 'nontext': nt_val_os}"
   ]
  },
  {
   "cell_type": "markdown",
   "id": "75cae52a",
   "metadata": {
    "id": "75cae52a"
   },
   "source": [
    "### Defining model metrics"
   ]
  },
  {
   "cell_type": "code",
   "execution_count": 94,
   "id": "b983f8d3",
   "metadata": {
    "executionInfo": {
     "elapsed": 27,
     "status": "ok",
     "timestamp": 1652110887628,
     "user": {
      "displayName": "Alexandra Stepanenko",
      "userId": "09067281291667623362"
     },
     "user_tz": -60
    },
    "id": "b983f8d3"
   },
   "outputs": [],
   "source": [
    "model_metrics = [metrics.BinaryAccuracy(),\n",
    "                metrics.AUC(),\n",
    "                metrics.Precision(),\n",
    "                metrics.Recall(),\n",
    "                metrics.TruePositives(),\n",
    "                metrics.TrueNegatives(),\n",
    "                metrics.FalsePositives(),\n",
    "                metrics.FalseNegatives()]"
   ]
  },
  {
   "cell_type": "markdown",
   "id": "052537cf",
   "metadata": {
    "id": "052537cf"
   },
   "source": [
    "### Compiling and running first model\n",
    "\n",
    "We will used the unbalanced set:"
   ]
  },
  {
   "cell_type": "code",
   "execution_count": 25,
   "id": "40713077",
   "metadata": {
    "colab": {
     "base_uri": "https://localhost:8080/"
    },
    "executionInfo": {
     "elapsed": 85473,
     "status": "ok",
     "timestamp": 1652110973077,
     "user": {
      "displayName": "Alexandra Stepanenko",
      "userId": "09067281291667623362"
     },
     "user_tz": -60
    },
    "id": "40713077",
    "outputId": "5c7302f9-f4b4-4fd5-ebc6-1fa0f613114c"
   },
   "outputs": [
    {
     "name": "stdout",
     "output_type": "stream",
     "text": [
      "Epoch 1/10\n",
      "313/313 [==============================] - 14s 22ms/step - loss: 0.1872 - binary_accuracy: 0.9489 - auc: 0.7586 - precision: 0.0541 - recall: 0.0042 - true_positives: 2.0000 - true_negatives: 9499.0000 - false_positives: 35.0000 - false_negatives: 477.0000 - val_loss: 0.1465 - val_binary_accuracy: 0.9497 - val_auc: 0.8786 - val_precision: 1.0000 - val_recall: 0.0079 - val_true_positives: 1.0000 - val_true_negatives: 2376.0000 - val_false_positives: 0.0000e+00 - val_false_negatives: 126.0000\n",
      "Epoch 2/10\n",
      "313/313 [==============================] - 6s 18ms/step - loss: 0.1364 - binary_accuracy: 0.9548 - auc: 0.8800 - precision: 0.8421 - recall: 0.0668 - true_positives: 32.0000 - true_negatives: 9528.0000 - false_positives: 6.0000 - false_negatives: 447.0000 - val_loss: 0.1322 - val_binary_accuracy: 0.9541 - val_auc: 0.9057 - val_precision: 1.0000 - val_recall: 0.0945 - val_true_positives: 12.0000 - val_true_negatives: 2376.0000 - val_false_positives: 0.0000e+00 - val_false_negatives: 115.0000\n",
      "Epoch 3/10\n",
      "313/313 [==============================] - 7s 21ms/step - loss: 0.1294 - binary_accuracy: 0.9580 - auc: 0.8925 - precision: 0.7736 - recall: 0.1712 - true_positives: 82.0000 - true_negatives: 9510.0000 - false_positives: 24.0000 - false_negatives: 397.0000 - val_loss: 0.1274 - val_binary_accuracy: 0.9545 - val_auc: 0.9095 - val_precision: 0.7600 - val_recall: 0.1496 - val_true_positives: 19.0000 - val_true_negatives: 2370.0000 - val_false_positives: 6.0000 - val_false_negatives: 108.0000\n",
      "Epoch 4/10\n",
      "313/313 [==============================] - 7s 22ms/step - loss: 0.1281 - binary_accuracy: 0.9587 - auc: 0.8963 - precision: 0.7559 - recall: 0.2004 - true_positives: 96.0000 - true_negatives: 9503.0000 - false_positives: 31.0000 - false_negatives: 383.0000 - val_loss: 0.1256 - val_binary_accuracy: 0.9549 - val_auc: 0.9103 - val_precision: 0.7333 - val_recall: 0.1732 - val_true_positives: 22.0000 - val_true_negatives: 2368.0000 - val_false_positives: 8.0000 - val_false_negatives: 105.0000\n",
      "Epoch 5/10\n",
      "313/313 [==============================] - 6s 18ms/step - loss: 0.1272 - binary_accuracy: 0.9580 - auc: 0.8968 - precision: 0.7042 - recall: 0.2088 - true_positives: 100.0000 - true_negatives: 9492.0000 - false_positives: 42.0000 - false_negatives: 379.0000 - val_loss: 0.1253 - val_binary_accuracy: 0.9569 - val_auc: 0.9094 - val_precision: 0.7714 - val_recall: 0.2126 - val_true_positives: 27.0000 - val_true_negatives: 2368.0000 - val_false_positives: 8.0000 - val_false_negatives: 100.0000\n",
      "Epoch 6/10\n",
      "313/313 [==============================] - 6s 18ms/step - loss: 0.1264 - binary_accuracy: 0.9587 - auc: 0.9009 - precision: 0.7305 - recall: 0.2150 - true_positives: 103.0000 - true_negatives: 9496.0000 - false_positives: 38.0000 - false_negatives: 376.0000 - val_loss: 0.1244 - val_binary_accuracy: 0.9565 - val_auc: 0.9111 - val_precision: 0.7500 - val_recall: 0.2126 - val_true_positives: 27.0000 - val_true_negatives: 2367.0000 - val_false_positives: 9.0000 - val_false_negatives: 100.0000\n",
      "Epoch 7/10\n",
      "313/313 [==============================] - 6s 18ms/step - loss: 0.1263 - binary_accuracy: 0.9586 - auc: 0.8976 - precision: 0.7353 - recall: 0.2088 - true_positives: 100.0000 - true_negatives: 9498.0000 - false_positives: 36.0000 - false_negatives: 379.0000 - val_loss: 0.1241 - val_binary_accuracy: 0.9569 - val_auc: 0.9087 - val_precision: 0.7568 - val_recall: 0.2205 - val_true_positives: 28.0000 - val_true_negatives: 2367.0000 - val_false_positives: 9.0000 - val_false_negatives: 99.0000\n",
      "Epoch 8/10\n",
      "313/313 [==============================] - 6s 18ms/step - loss: 0.1260 - binary_accuracy: 0.9582 - auc: 0.9000 - precision: 0.6899 - recall: 0.2276 - true_positives: 109.0000 - true_negatives: 9485.0000 - false_positives: 49.0000 - false_negatives: 370.0000 - val_loss: 0.1251 - val_binary_accuracy: 0.9561 - val_auc: 0.9074 - val_precision: 0.7576 - val_recall: 0.1969 - val_true_positives: 25.0000 - val_true_negatives: 2368.0000 - val_false_positives: 8.0000 - val_false_negatives: 102.0000\n",
      "Epoch 9/10\n",
      "313/313 [==============================] - 6s 18ms/step - loss: 0.1262 - binary_accuracy: 0.9586 - auc: 0.8985 - precision: 0.7105 - recall: 0.2255 - true_positives: 108.0000 - true_negatives: 9490.0000 - false_positives: 44.0000 - false_negatives: 371.0000 - val_loss: 0.1248 - val_binary_accuracy: 0.9565 - val_auc: 0.9052 - val_precision: 0.7647 - val_recall: 0.2047 - val_true_positives: 26.0000 - val_true_negatives: 2368.0000 - val_false_positives: 8.0000 - val_false_negatives: 101.0000\n",
      "Epoch 10/10\n",
      "313/313 [==============================] - 6s 19ms/step - loss: 0.1258 - binary_accuracy: 0.9592 - auc: 0.8989 - precision: 0.7574 - recall: 0.2150 - true_positives: 103.0000 - true_negatives: 9501.0000 - false_positives: 33.0000 - false_negatives: 376.0000 - val_loss: 0.1233 - val_binary_accuracy: 0.9588 - val_auc: 0.9087 - val_precision: 0.7857 - val_recall: 0.2598 - val_true_positives: 33.0000 - val_true_negatives: 2367.0000 - val_false_positives: 9.0000 - val_false_negatives: 94.0000\n"
     ]
    }
   ],
   "source": [
    "model.compile(optimizer='rmsprop', loss='binary_crossentropy', metrics=model_metrics)\n",
    "history = model.fit(train_input_ub, train_y_ub, epochs=10, batch_size=32, validation_data=(val_input_ub, val_y_ub))"
   ]
  },
  {
   "cell_type": "markdown",
   "id": "c6e70285",
   "metadata": {
    "id": "c6e70285"
   },
   "source": [
    "### Hyperparamter tuning"
   ]
  },
  {
   "cell_type": "code",
   "execution_count": 28,
   "id": "ea595866",
   "metadata": {
    "executionInfo": {
     "elapsed": 605,
     "status": "ok",
     "timestamp": 1652110996219,
     "user": {
      "displayName": "Alexandra Stepanenko",
      "userId": "09067281291667623362"
     },
     "user_tz": -60
    },
    "id": "ea595866"
   },
   "outputs": [],
   "source": [
    "def buildRunModel(layer_size=32, reg_type=None, reg_amount=0, act='relu', dropout=False, do_amt=0, batch=16, lr=0.001,\n",
    "                 set_type='ub'):\n",
    "    \n",
    "    if reg_type == 'L1':\n",
    "        reg = regularizers.l1(reg_amount)\n",
    "    if reg_type == 'L2':\n",
    "        reg = regularizers.l2(reg_amount)\n",
    "    \n",
    "    \n",
    "    # Text features: input into embedding layer, followed by a dense layer\n",
    "    # Each text feature's embedding layer has it's own dimensions and embedding matrix\n",
    "    # Embedding layers are set to not trainable as we have already defined weights given by word2vec\n",
    "    desc_input = Input(shape=(il_desc), dtype='int32', name='desc')\n",
    "    embedded_desc = layers.Embedding(nt_desc, ed_desc, input_length=il_desc,\n",
    "                                    weights=[em_desc], trainable=False)(desc_input)\n",
    "    flat_desc = layers.Flatten()(embedded_desc)\n",
    "    if reg_type != None:\n",
    "        dense_desc = layers.Dense(layer_size, activation=act, kernel_regularizer=reg)(flat_desc)\n",
    "    else: \n",
    "        dense_desc = layers.Dense(layer_size, activation=act)(flat_desc)\n",
    "        \n",
    "        \n",
    "    title_input = Input(shape=(il_title), dtype='int32', name='title')\n",
    "    embedded_title = layers.Embedding(nt_title, ed_title, input_length=il_title,\n",
    "                                    weights=[em_title], trainable=False)(title_input)\n",
    "    flat_title = layers.Flatten()(embedded_title)\n",
    "    if reg_type != None:\n",
    "        dense_title = layers.Dense(layer_size, activation=act, kernel_regularizer=reg)(flat_title)\n",
    "    else: \n",
    "        dense_title = layers.Dense(layer_size, activation=act)(flat_title)\n",
    "        \n",
    "        \n",
    "    cp_input = Input(shape=(il_cp), dtype='int32', name='cp')\n",
    "    embedded_cp = layers.Embedding(nt_cp, ed_cp, input_length=il_cp,\n",
    "                                    weights=[em_cp], trainable=False)(cp_input)\n",
    "    flat_cp = layers.Flatten()(embedded_cp)\n",
    "    if reg_type != None:\n",
    "        dense_cp = layers.Dense(layer_size, activation=act, kernel_regularizer=reg)(flat_cp)\n",
    "    else: \n",
    "        dense_cp = layers.Dense(layer_size, activation=act)(flat_cp)\n",
    "\n",
    "        \n",
    "    reqs_input = Input(shape=(il_reqs), dtype='int32', name='reqs')\n",
    "    embedded_reqs = layers.Embedding(nt_reqs, ed_reqs, input_length=il_reqs,\n",
    "                                    weights=[em_reqs], trainable=False)(reqs_input)\n",
    "    flat_reqs = layers.Flatten()(embedded_reqs)\n",
    "    if reg_type != None:\n",
    "        dense_reqs = layers.Dense(layer_size, activation=act, kernel_regularizer=reg)(flat_reqs)\n",
    "    else: \n",
    "        dense_reqs = layers.Dense(layer_size, activation=act)(flat_reqs)\n",
    "\n",
    "        \n",
    "    benefits_input = Input(shape=(il_benefits), dtype='int32', name='benefits')\n",
    "    embedded_benefits = layers.Embedding(nt_benefits, ed_benefits, input_length=il_benefits,\n",
    "                                    weights=[em_benefits], trainable=False)(benefits_input)\n",
    "    flat_benefits = layers.Flatten()(embedded_benefits)\n",
    "    if reg_type != None:\n",
    "        dense_benefits = layers.Dense(layer_size, activation=act, kernel_regularizer=reg)(flat_benefits)\n",
    "    else: \n",
    "        dense_benefits = layers.Dense(layer_size, activation=act)(flat_benefits)\n",
    "\n",
    "        \n",
    "    # Non-text features: feed directly into first dense layer\n",
    "    nontext_input = Input(shape=(il_nt), dtype='float64',name='nontext')\n",
    "    if reg_type != None:\n",
    "        dense_nontext = layers.Dense(layer_size, activation=act, kernel_regularizer=reg)(nontext_input)\n",
    "    else: \n",
    "        dense_nontext = layers.Dense(layer_size, activation=act)(nontext_input)\n",
    "        \n",
    "        \n",
    "    # Add drop out\n",
    "    if dropout==True:\n",
    "        dropout_desc = layers.Dropout(do_amt)(dense_desc)\n",
    "        dropout_title = layers.Dropout(do_amt)(dense_title)\n",
    "        dropout_cp = layers.Dropout(do_amt)(dense_cp)\n",
    "        dropout_reqs = layers.Dropout(do_amt)(dense_reqs)\n",
    "        dropout_benefits = layers.Dropout(do_amt)(dense_benefits)\n",
    "        dropout_nontext = layers.Dropout(do_amt)(dense_nontext)\n",
    "        \n",
    "        concat_lst = [dropout_desc, dropout_title, dropout_cp, dropout_reqs, dropout_benefits, dropout_nontext]\n",
    "    else:\n",
    "        concat_lst = [dense_desc, dense_title, dense_cp, dense_reqs, dense_benefits, dense_nontext]\n",
    "\n",
    "        \n",
    "    # Concatenate\n",
    "    concatenated = layers.concatenate(concat_lst, axis=-1)\n",
    "\n",
    "    \n",
    "    # Output layer\n",
    "    output = layers.Dense(1, activation='sigmoid')(concatenated)\n",
    "\n",
    "    \n",
    "    # Define model\n",
    "    model = Model([desc_input, title_input, cp_input, reqs_input, benefits_input, nontext_input], output)\n",
    "    \n",
    "    # Compile\n",
    "    model.compile(optimizer=optimizers.RMSprop(learning_rate=lr), loss='binary_crossentropy', metrics=model_metrics)\n",
    "    \n",
    "    # Use selected dataset - define training and validation input and y \n",
    "    if set_type=='ub':\n",
    "        t_in = train_input_ub\n",
    "        t_y = train_y_ub\n",
    "        v_in = val_input_ub\n",
    "        v_y = val_y_ub\n",
    "    elif set_type=='us':\n",
    "        t_in = train_input_us\n",
    "        t_y = train_y_us\n",
    "        v_in = val_input_us\n",
    "        v_y = val_y_us\n",
    "    else:\n",
    "        t_in = train_input_os\n",
    "        t_y = train_y_os\n",
    "        v_in = val_input_os\n",
    "        v_y = val_y_os\n",
    "    \n",
    "    history = model.fit(t_in, t_y, epochs=100, batch_size=batch, validation_data=(v_in, v_y),\n",
    "                       callbacks=[EarlyStopping(monitor='val_loss', patience=3)], verbose=0)\n",
    "    \n",
    "    return history.history"
   ]
  },
  {
   "cell_type": "markdown",
   "id": "e18bd3b7",
   "metadata": {
    "id": "e18bd3b7"
   },
   "source": [
    "Trial 60 different models with random hyperparameter search:"
   ]
  },
  {
   "cell_type": "code",
   "execution_count": 32,
   "id": "c77e08e0",
   "metadata": {
    "colab": {
     "base_uri": "https://localhost:8080/"
    },
    "executionInfo": {
     "elapsed": 5077630,
     "status": "ok",
     "timestamp": 1652116247846,
     "user": {
      "displayName": "Alexandra Stepanenko",
      "userId": "09067281291667623362"
     },
     "user_tz": -60
    },
    "id": "c77e08e0",
    "outputId": "132b3e8e-6e49-451b-a21a-57121204966e",
    "scrolled": true
   },
   "outputs": [
    {
     "name": "stdout",
     "output_type": "stream",
     "text": [
      "Building model: index 0\n",
      "Building model: index 1\n",
      "Building model: index 2\n",
      "Building model: index 3\n",
      "Building model: index 4\n",
      "Building model: index 5\n",
      "Building model: index 6\n",
      "Building model: index 7\n",
      "Building model: index 8\n",
      "Building model: index 9\n",
      "Building model: index 10\n",
      "Building model: index 11\n",
      "Building model: index 12\n",
      "Building model: index 13\n",
      "Building model: index 14\n",
      "Building model: index 15\n",
      "Building model: index 16\n",
      "Building model: index 17\n",
      "Building model: index 18\n",
      "Building model: index 19\n",
      "Building model: index 20\n",
      "Building model: index 21\n",
      "Building model: index 22\n",
      "Building model: index 23\n",
      "Building model: index 24\n",
      "Building model: index 25\n",
      "Building model: index 26\n",
      "Building model: index 27\n",
      "Building model: index 28\n",
      "Building model: index 29\n",
      "Building model: index 30\n",
      "Building model: index 31\n",
      "Building model: index 32\n",
      "Building model: index 33\n",
      "Building model: index 34\n",
      "Building model: index 35\n",
      "Building model: index 36\n",
      "Building model: index 37\n",
      "Building model: index 38\n",
      "Building model: index 39\n",
      "Building model: index 40\n",
      "Building model: index 41\n",
      "Building model: index 42\n",
      "Building model: index 43\n",
      "Building model: index 44\n",
      "Building model: index 45\n",
      "Building model: index 46\n",
      "Building model: index 47\n",
      "Building model: index 48\n",
      "Building model: index 49\n",
      "Building model: index 50\n",
      "Building model: index 51\n",
      "Building model: index 52\n",
      "Building model: index 53\n",
      "Building model: index 54\n",
      "Building model: index 55\n",
      "Building model: index 56\n",
      "Building model: index 57\n",
      "Building model: index 58\n",
      "Building model: index 59\n"
     ]
    }
   ],
   "source": [
    "model_build = pd.DataFrame(columns=['ID', 'dataset', 'layer_size', 'reg_type', 'reg_amount', 'act', 'dropout', 'do_amt', \n",
    "                                    'batch', 'lr'])\n",
    "\n",
    "model_metric_epoch = pd.DataFrame(columns=['ID', 'Epoch', 'loss', 'binary_accuracy', 'auc', 'precision', 'recall', \n",
    "                                           'true_positives', 'true_negatives', 'false_positives', 'false_negatives',\n",
    "                                           'val_loss', 'val_binary_accuracy', 'val_auc', 'val_precision', 'val_recall',\n",
    "                                          'val_true_positives', 'val_true_negatives', 'val_false_positives', \n",
    "                                           'val_false_negatives'])\n",
    "\n",
    "for i in range(60):\n",
    "    print('Building model: index', i)\n",
    "    \n",
    "    # Pick hyperparameters in a random fashion\n",
    "    dataset = random.choice(['ub', 'us', 'os'])\n",
    "    layer_size= random.randint(5, 50)\n",
    "    act = random.choice(['relu', 'sigmoid', 'tanh'])\n",
    "    batch=random.randint(5, 100)\n",
    "    lr = random.uniform(0.0001, 0.01)\n",
    "    \n",
    "    reg_type = random.choice(['L1', 'L2', None])\n",
    "    if reg_type != None:\n",
    "        reg_amount=random.uniform(0.0001, 0.01)\n",
    "    else:\n",
    "        reg_amount = 0\n",
    "    \n",
    "    dropout = random.choice([True, False])\n",
    "    if dropout==True:\n",
    "        do_amt = random.uniform(0.001, 0.06)\n",
    "    else: \n",
    "        do_amt = 0\n",
    "        \n",
    "    # Add to model build tracking what models we have\n",
    "    model_build = model_build.append({'ID': i, 'dataset': dataset, 'layer_size': layer_size, 'reg_type': reg_type, \n",
    "                                      'reg_amount': reg_amount, 'act': act, 'dropout': dropout, 'do_amt': do_amt, \n",
    "                                      'batch': batch, 'lr': lr}, \n",
    "                                     ignore_index=True)\n",
    "        \n",
    "    # Run model and get history dict\n",
    "    hist_dict = buildRunModel(layer_size=layer_size, reg_type=reg_type, reg_amount=reg_amount, act=act, dropout=dropout, \n",
    "                              do_amt=do_amt, batch=batch, lr=lr, set_type=dataset)\n",
    "    \n",
    "    for e in range(len(hist_dict['loss'])):\n",
    "        model_metric_epoch = model_metric_epoch.append({'ID': int(i), 'Epoch': e+1}, ignore_index=True)\n",
    "        idx = len(model_metric_epoch) - 1\n",
    "        for metric in hist_dict:\n",
    "            try:\n",
    "                int(metric[-1])\n",
    "                try:\n",
    "                    int(metric[-2])\n",
    "                    try:\n",
    "                        int(metric[-3])\n",
    "                        metric_name = metric[:-4]\n",
    "                    except:\n",
    "                        metric_name = metric[:-3]\n",
    "                except:\n",
    "                    metric_name = metric[:-2]\n",
    "            except:\n",
    "                metric_name = metric\n",
    "            model_metric_epoch.loc[idx, metric_name] = hist_dict.get(metric)[e]"
   ]
  },
  {
   "cell_type": "code",
   "execution_count": 33,
   "id": "9778a2e7",
   "metadata": {
    "executionInfo": {
     "elapsed": 47,
     "status": "ok",
     "timestamp": 1652116247848,
     "user": {
      "displayName": "Alexandra Stepanenko",
      "userId": "09067281291667623362"
     },
     "user_tz": -60
    },
    "id": "9778a2e7"
   },
   "outputs": [],
   "source": [
    "model_build.to_csv('model_build.csv')"
   ]
  },
  {
   "cell_type": "code",
   "execution_count": 34,
   "id": "271a8825",
   "metadata": {
    "executionInfo": {
     "elapsed": 42,
     "status": "ok",
     "timestamp": 1652116247849,
     "user": {
      "displayName": "Alexandra Stepanenko",
      "userId": "09067281291667623362"
     },
     "user_tz": -60
    },
    "id": "271a8825"
   },
   "outputs": [],
   "source": [
    "model_metric_epoch.to_csv('model_metric_epoch.csv')"
   ]
  },
  {
   "cell_type": "markdown",
   "id": "4918d9dc",
   "metadata": {},
   "source": [
    "Switching back to Jupyter to look at results:"
   ]
  },
  {
   "cell_type": "code",
   "execution_count": 43,
   "id": "dfcc75cd",
   "metadata": {},
   "outputs": [],
   "source": [
    "model_build = pd.read_csv('model_build.csv', index_col=0)"
   ]
  },
  {
   "cell_type": "code",
   "execution_count": 44,
   "id": "02531895",
   "metadata": {
    "executionInfo": {
     "elapsed": 42,
     "status": "ok",
     "timestamp": 1652116247849,
     "user": {
      "displayName": "Alexandra Stepanenko",
      "userId": "09067281291667623362"
     },
     "user_tz": -60
    },
    "id": "271a8825"
   },
   "outputs": [],
   "source": [
    "model_metric_epoch = pd.read_csv('model_metric_epoch.csv', index_col=0)"
   ]
  },
  {
   "cell_type": "code",
   "execution_count": 45,
   "id": "b584d6df",
   "metadata": {
    "executionInfo": {
     "elapsed": 64,
     "status": "aborted",
     "timestamp": 1652108720042,
     "user": {
      "displayName": "Alexandra Stepanenko",
      "userId": "09067281291667623362"
     },
     "user_tz": -60
    },
    "id": "b584d6df"
   },
   "outputs": [
    {
     "data": {
      "text/html": [
       "<div>\n",
       "<style scoped>\n",
       "    .dataframe tbody tr th:only-of-type {\n",
       "        vertical-align: middle;\n",
       "    }\n",
       "\n",
       "    .dataframe tbody tr th {\n",
       "        vertical-align: top;\n",
       "    }\n",
       "\n",
       "    .dataframe thead th {\n",
       "        text-align: right;\n",
       "    }\n",
       "</style>\n",
       "<table border=\"1\" class=\"dataframe\">\n",
       "  <thead>\n",
       "    <tr style=\"text-align: right;\">\n",
       "      <th></th>\n",
       "      <th>ID</th>\n",
       "      <th>dataset</th>\n",
       "      <th>layer_size</th>\n",
       "      <th>reg_type</th>\n",
       "      <th>reg_amount</th>\n",
       "      <th>act</th>\n",
       "      <th>dropout</th>\n",
       "      <th>do_amt</th>\n",
       "      <th>batch</th>\n",
       "      <th>lr</th>\n",
       "    </tr>\n",
       "  </thead>\n",
       "  <tbody>\n",
       "    <tr>\n",
       "      <th>0</th>\n",
       "      <td>0</td>\n",
       "      <td>ub</td>\n",
       "      <td>38</td>\n",
       "      <td>NaN</td>\n",
       "      <td>0.000000</td>\n",
       "      <td>tanh</td>\n",
       "      <td>True</td>\n",
       "      <td>0.016359</td>\n",
       "      <td>83</td>\n",
       "      <td>0.002786</td>\n",
       "    </tr>\n",
       "    <tr>\n",
       "      <th>1</th>\n",
       "      <td>1</td>\n",
       "      <td>us</td>\n",
       "      <td>18</td>\n",
       "      <td>L1</td>\n",
       "      <td>0.004673</td>\n",
       "      <td>relu</td>\n",
       "      <td>False</td>\n",
       "      <td>0.000000</td>\n",
       "      <td>16</td>\n",
       "      <td>0.000265</td>\n",
       "    </tr>\n",
       "    <tr>\n",
       "      <th>2</th>\n",
       "      <td>2</td>\n",
       "      <td>ub</td>\n",
       "      <td>31</td>\n",
       "      <td>NaN</td>\n",
       "      <td>0.000000</td>\n",
       "      <td>tanh</td>\n",
       "      <td>False</td>\n",
       "      <td>0.000000</td>\n",
       "      <td>83</td>\n",
       "      <td>0.000201</td>\n",
       "    </tr>\n",
       "    <tr>\n",
       "      <th>3</th>\n",
       "      <td>3</td>\n",
       "      <td>os</td>\n",
       "      <td>31</td>\n",
       "      <td>NaN</td>\n",
       "      <td>0.000000</td>\n",
       "      <td>tanh</td>\n",
       "      <td>False</td>\n",
       "      <td>0.000000</td>\n",
       "      <td>49</td>\n",
       "      <td>0.002047</td>\n",
       "    </tr>\n",
       "    <tr>\n",
       "      <th>4</th>\n",
       "      <td>4</td>\n",
       "      <td>os</td>\n",
       "      <td>6</td>\n",
       "      <td>L2</td>\n",
       "      <td>0.004436</td>\n",
       "      <td>tanh</td>\n",
       "      <td>True</td>\n",
       "      <td>0.020800</td>\n",
       "      <td>100</td>\n",
       "      <td>0.003824</td>\n",
       "    </tr>\n",
       "  </tbody>\n",
       "</table>\n",
       "</div>"
      ],
      "text/plain": [
       "   ID dataset  layer_size reg_type  reg_amount   act  dropout    do_amt  \\\n",
       "0   0      ub          38      NaN    0.000000  tanh     True  0.016359   \n",
       "1   1      us          18       L1    0.004673  relu    False  0.000000   \n",
       "2   2      ub          31      NaN    0.000000  tanh    False  0.000000   \n",
       "3   3      os          31      NaN    0.000000  tanh    False  0.000000   \n",
       "4   4      os           6       L2    0.004436  tanh     True  0.020800   \n",
       "\n",
       "   batch        lr  \n",
       "0     83  0.002786  \n",
       "1     16  0.000265  \n",
       "2     83  0.000201  \n",
       "3     49  0.002047  \n",
       "4    100  0.003824  "
      ]
     },
     "execution_count": 45,
     "metadata": {},
     "output_type": "execute_result"
    }
   ],
   "source": [
    "model_build.head()"
   ]
  },
  {
   "cell_type": "markdown",
   "id": "bc08eac3",
   "metadata": {},
   "source": [
    "Looking at which models achieved the best metrics:"
   ]
  },
  {
   "cell_type": "code",
   "execution_count": 46,
   "id": "091b506f",
   "metadata": {},
   "outputs": [],
   "source": [
    "for i in model_build.index:\n",
    "    model_epochs = model_metric_epoch[model_metric_epoch['ID'] == float(i)]\n",
    "    model_build.loc[i, 'max_val_binary_accuracy'] = max(model_epochs['val_binary_accuracy'])\n",
    "    model_build.loc[i, 'max_val_auc'] = max(model_epochs['val_auc'])\n",
    "    model_build.loc[i, 'max_val_precision'] = max(model_epochs['val_precision'])\n",
    "    model_build.loc[i, 'max_val_recall'] = max(model_epochs['val_recall'])"
   ]
  },
  {
   "cell_type": "markdown",
   "id": "ca2b2ca0",
   "metadata": {},
   "source": [
    "In this case, we would judge which model was most successful based on the highest AUC score:"
   ]
  },
  {
   "cell_type": "code",
   "execution_count": 48,
   "id": "c80c372e",
   "metadata": {},
   "outputs": [
    {
     "data": {
      "text/html": [
       "<div>\n",
       "<style scoped>\n",
       "    .dataframe tbody tr th:only-of-type {\n",
       "        vertical-align: middle;\n",
       "    }\n",
       "\n",
       "    .dataframe tbody tr th {\n",
       "        vertical-align: top;\n",
       "    }\n",
       "\n",
       "    .dataframe thead th {\n",
       "        text-align: right;\n",
       "    }\n",
       "</style>\n",
       "<table border=\"1\" class=\"dataframe\">\n",
       "  <thead>\n",
       "    <tr style=\"text-align: right;\">\n",
       "      <th></th>\n",
       "      <th>ID</th>\n",
       "      <th>dataset</th>\n",
       "      <th>layer_size</th>\n",
       "      <th>reg_type</th>\n",
       "      <th>reg_amount</th>\n",
       "      <th>act</th>\n",
       "      <th>dropout</th>\n",
       "      <th>do_amt</th>\n",
       "      <th>batch</th>\n",
       "      <th>lr</th>\n",
       "      <th>max_val_binary_accuracy</th>\n",
       "      <th>max_val_auc</th>\n",
       "      <th>max_val_precision</th>\n",
       "      <th>max_val_recall</th>\n",
       "    </tr>\n",
       "  </thead>\n",
       "  <tbody>\n",
       "    <tr>\n",
       "      <th>37</th>\n",
       "      <td>37</td>\n",
       "      <td>os</td>\n",
       "      <td>37</td>\n",
       "      <td>NaN</td>\n",
       "      <td>0.000000</td>\n",
       "      <td>relu</td>\n",
       "      <td>False</td>\n",
       "      <td>0.000000</td>\n",
       "      <td>49</td>\n",
       "      <td>0.006925</td>\n",
       "      <td>0.956129</td>\n",
       "      <td>0.991163</td>\n",
       "      <td>0.956747</td>\n",
       "      <td>0.995708</td>\n",
       "    </tr>\n",
       "    <tr>\n",
       "      <th>15</th>\n",
       "      <td>15</td>\n",
       "      <td>os</td>\n",
       "      <td>37</td>\n",
       "      <td>NaN</td>\n",
       "      <td>0.000000</td>\n",
       "      <td>tanh</td>\n",
       "      <td>True</td>\n",
       "      <td>0.057518</td>\n",
       "      <td>99</td>\n",
       "      <td>0.005272</td>\n",
       "      <td>0.948573</td>\n",
       "      <td>0.988080</td>\n",
       "      <td>0.952962</td>\n",
       "      <td>0.998283</td>\n",
       "    </tr>\n",
       "    <tr>\n",
       "      <th>3</th>\n",
       "      <td>3</td>\n",
       "      <td>os</td>\n",
       "      <td>31</td>\n",
       "      <td>NaN</td>\n",
       "      <td>0.000000</td>\n",
       "      <td>tanh</td>\n",
       "      <td>False</td>\n",
       "      <td>0.000000</td>\n",
       "      <td>49</td>\n",
       "      <td>0.002047</td>\n",
       "      <td>0.953400</td>\n",
       "      <td>0.987952</td>\n",
       "      <td>0.953712</td>\n",
       "      <td>0.976395</td>\n",
       "    </tr>\n",
       "    <tr>\n",
       "      <th>55</th>\n",
       "      <td>55</td>\n",
       "      <td>os</td>\n",
       "      <td>17</td>\n",
       "      <td>NaN</td>\n",
       "      <td>0.000000</td>\n",
       "      <td>tanh</td>\n",
       "      <td>True</td>\n",
       "      <td>0.034553</td>\n",
       "      <td>91</td>\n",
       "      <td>0.004494</td>\n",
       "      <td>0.943115</td>\n",
       "      <td>0.984436</td>\n",
       "      <td>0.955856</td>\n",
       "      <td>0.971245</td>\n",
       "    </tr>\n",
       "    <tr>\n",
       "      <th>6</th>\n",
       "      <td>6</td>\n",
       "      <td>os</td>\n",
       "      <td>26</td>\n",
       "      <td>L1</td>\n",
       "      <td>0.000509</td>\n",
       "      <td>relu</td>\n",
       "      <td>False</td>\n",
       "      <td>0.000000</td>\n",
       "      <td>47</td>\n",
       "      <td>0.003181</td>\n",
       "      <td>0.922964</td>\n",
       "      <td>0.977327</td>\n",
       "      <td>0.939918</td>\n",
       "      <td>0.972532</td>\n",
       "    </tr>\n",
       "  </tbody>\n",
       "</table>\n",
       "</div>"
      ],
      "text/plain": [
       "    ID dataset  layer_size reg_type  reg_amount   act  dropout    do_amt  \\\n",
       "37  37      os          37      NaN    0.000000  relu    False  0.000000   \n",
       "15  15      os          37      NaN    0.000000  tanh     True  0.057518   \n",
       "3    3      os          31      NaN    0.000000  tanh    False  0.000000   \n",
       "55  55      os          17      NaN    0.000000  tanh     True  0.034553   \n",
       "6    6      os          26       L1    0.000509  relu    False  0.000000   \n",
       "\n",
       "    batch        lr  max_val_binary_accuracy  max_val_auc  max_val_precision  \\\n",
       "37     49  0.006925                 0.956129     0.991163           0.956747   \n",
       "15     99  0.005272                 0.948573     0.988080           0.952962   \n",
       "3      49  0.002047                 0.953400     0.987952           0.953712   \n",
       "55     91  0.004494                 0.943115     0.984436           0.955856   \n",
       "6      47  0.003181                 0.922964     0.977327           0.939918   \n",
       "\n",
       "    max_val_recall  \n",
       "37        0.995708  \n",
       "15        0.998283  \n",
       "3         0.976395  \n",
       "55        0.971245  \n",
       "6         0.972532  "
      ]
     },
     "execution_count": 48,
     "metadata": {},
     "output_type": "execute_result"
    }
   ],
   "source": [
    "model_build.sort_values('max_val_auc', ascending=False).head()"
   ]
  },
  {
   "cell_type": "code",
   "execution_count": 47,
   "id": "2098c805",
   "metadata": {},
   "outputs": [
    {
     "data": {
      "text/html": [
       "<div>\n",
       "<style scoped>\n",
       "    .dataframe tbody tr th:only-of-type {\n",
       "        vertical-align: middle;\n",
       "    }\n",
       "\n",
       "    .dataframe tbody tr th {\n",
       "        vertical-align: top;\n",
       "    }\n",
       "\n",
       "    .dataframe thead th {\n",
       "        text-align: right;\n",
       "    }\n",
       "</style>\n",
       "<table border=\"1\" class=\"dataframe\">\n",
       "  <thead>\n",
       "    <tr style=\"text-align: right;\">\n",
       "      <th></th>\n",
       "      <th>ID</th>\n",
       "      <th>dataset</th>\n",
       "      <th>layer_size</th>\n",
       "      <th>reg_type</th>\n",
       "      <th>reg_amount</th>\n",
       "      <th>act</th>\n",
       "      <th>dropout</th>\n",
       "      <th>do_amt</th>\n",
       "      <th>batch</th>\n",
       "      <th>lr</th>\n",
       "      <th>max_val_binary_accuracy</th>\n",
       "      <th>max_val_auc</th>\n",
       "      <th>max_val_precision</th>\n",
       "      <th>max_val_recall</th>\n",
       "    </tr>\n",
       "  </thead>\n",
       "  <tbody>\n",
       "    <tr>\n",
       "      <th>51</th>\n",
       "      <td>51</td>\n",
       "      <td>ub</td>\n",
       "      <td>41</td>\n",
       "      <td>NaN</td>\n",
       "      <td>0.0</td>\n",
       "      <td>relu</td>\n",
       "      <td>False</td>\n",
       "      <td>0.000000</td>\n",
       "      <td>29</td>\n",
       "      <td>0.006317</td>\n",
       "      <td>0.974431</td>\n",
       "      <td>0.949347</td>\n",
       "      <td>0.933333</td>\n",
       "      <td>0.598425</td>\n",
       "    </tr>\n",
       "    <tr>\n",
       "      <th>27</th>\n",
       "      <td>27</td>\n",
       "      <td>ub</td>\n",
       "      <td>8</td>\n",
       "      <td>NaN</td>\n",
       "      <td>0.0</td>\n",
       "      <td>sigmoid</td>\n",
       "      <td>True</td>\n",
       "      <td>0.010219</td>\n",
       "      <td>48</td>\n",
       "      <td>0.005722</td>\n",
       "      <td>0.970835</td>\n",
       "      <td>0.940506</td>\n",
       "      <td>1.000000</td>\n",
       "      <td>0.511811</td>\n",
       "    </tr>\n",
       "    <tr>\n",
       "      <th>0</th>\n",
       "      <td>0</td>\n",
       "      <td>ub</td>\n",
       "      <td>38</td>\n",
       "      <td>NaN</td>\n",
       "      <td>0.0</td>\n",
       "      <td>tanh</td>\n",
       "      <td>True</td>\n",
       "      <td>0.016359</td>\n",
       "      <td>83</td>\n",
       "      <td>0.002786</td>\n",
       "      <td>0.970436</td>\n",
       "      <td>0.948348</td>\n",
       "      <td>1.000000</td>\n",
       "      <td>0.488189</td>\n",
       "    </tr>\n",
       "    <tr>\n",
       "      <th>31</th>\n",
       "      <td>31</td>\n",
       "      <td>ub</td>\n",
       "      <td>8</td>\n",
       "      <td>NaN</td>\n",
       "      <td>0.0</td>\n",
       "      <td>sigmoid</td>\n",
       "      <td>False</td>\n",
       "      <td>0.000000</td>\n",
       "      <td>55</td>\n",
       "      <td>0.004310</td>\n",
       "      <td>0.968038</td>\n",
       "      <td>0.932637</td>\n",
       "      <td>1.000000</td>\n",
       "      <td>0.425197</td>\n",
       "    </tr>\n",
       "    <tr>\n",
       "      <th>2</th>\n",
       "      <td>2</td>\n",
       "      <td>ub</td>\n",
       "      <td>31</td>\n",
       "      <td>NaN</td>\n",
       "      <td>0.0</td>\n",
       "      <td>tanh</td>\n",
       "      <td>False</td>\n",
       "      <td>0.000000</td>\n",
       "      <td>83</td>\n",
       "      <td>0.000201</td>\n",
       "      <td>0.965242</td>\n",
       "      <td>0.937545</td>\n",
       "      <td>1.000000</td>\n",
       "      <td>0.362205</td>\n",
       "    </tr>\n",
       "  </tbody>\n",
       "</table>\n",
       "</div>"
      ],
      "text/plain": [
       "    ID dataset  layer_size reg_type  reg_amount      act  dropout    do_amt  \\\n",
       "51  51      ub          41      NaN         0.0     relu    False  0.000000   \n",
       "27  27      ub           8      NaN         0.0  sigmoid     True  0.010219   \n",
       "0    0      ub          38      NaN         0.0     tanh     True  0.016359   \n",
       "31  31      ub           8      NaN         0.0  sigmoid    False  0.000000   \n",
       "2    2      ub          31      NaN         0.0     tanh    False  0.000000   \n",
       "\n",
       "    batch        lr  max_val_binary_accuracy  max_val_auc  max_val_precision  \\\n",
       "51     29  0.006317                 0.974431     0.949347           0.933333   \n",
       "27     48  0.005722                 0.970835     0.940506           1.000000   \n",
       "0      83  0.002786                 0.970436     0.948348           1.000000   \n",
       "31     55  0.004310                 0.968038     0.932637           1.000000   \n",
       "2      83  0.000201                 0.965242     0.937545           1.000000   \n",
       "\n",
       "    max_val_recall  \n",
       "51        0.598425  \n",
       "27        0.511811  \n",
       "0         0.488189  \n",
       "31        0.425197  \n",
       "2         0.362205  "
      ]
     },
     "execution_count": 47,
     "metadata": {},
     "output_type": "execute_result"
    }
   ],
   "source": [
    "model_build.sort_values('max_val_binary_accuracy', ascending=False).head()"
   ]
  },
  {
   "cell_type": "code",
   "execution_count": 49,
   "id": "2d484e0e",
   "metadata": {},
   "outputs": [
    {
     "data": {
      "text/html": [
       "<div>\n",
       "<style scoped>\n",
       "    .dataframe tbody tr th:only-of-type {\n",
       "        vertical-align: middle;\n",
       "    }\n",
       "\n",
       "    .dataframe tbody tr th {\n",
       "        vertical-align: top;\n",
       "    }\n",
       "\n",
       "    .dataframe thead th {\n",
       "        text-align: right;\n",
       "    }\n",
       "</style>\n",
       "<table border=\"1\" class=\"dataframe\">\n",
       "  <thead>\n",
       "    <tr style=\"text-align: right;\">\n",
       "      <th></th>\n",
       "      <th>ID</th>\n",
       "      <th>dataset</th>\n",
       "      <th>layer_size</th>\n",
       "      <th>reg_type</th>\n",
       "      <th>reg_amount</th>\n",
       "      <th>act</th>\n",
       "      <th>dropout</th>\n",
       "      <th>do_amt</th>\n",
       "      <th>batch</th>\n",
       "      <th>lr</th>\n",
       "      <th>max_val_binary_accuracy</th>\n",
       "      <th>max_val_auc</th>\n",
       "      <th>max_val_precision</th>\n",
       "      <th>max_val_recall</th>\n",
       "    </tr>\n",
       "  </thead>\n",
       "  <tbody>\n",
       "    <tr>\n",
       "      <th>0</th>\n",
       "      <td>0</td>\n",
       "      <td>ub</td>\n",
       "      <td>38</td>\n",
       "      <td>NaN</td>\n",
       "      <td>0.000000</td>\n",
       "      <td>tanh</td>\n",
       "      <td>True</td>\n",
       "      <td>0.016359</td>\n",
       "      <td>83</td>\n",
       "      <td>0.002786</td>\n",
       "      <td>0.970436</td>\n",
       "      <td>0.948348</td>\n",
       "      <td>1.0</td>\n",
       "      <td>0.488189</td>\n",
       "    </tr>\n",
       "    <tr>\n",
       "      <th>13</th>\n",
       "      <td>13</td>\n",
       "      <td>ub</td>\n",
       "      <td>31</td>\n",
       "      <td>L2</td>\n",
       "      <td>0.002369</td>\n",
       "      <td>relu</td>\n",
       "      <td>True</td>\n",
       "      <td>0.034753</td>\n",
       "      <td>37</td>\n",
       "      <td>0.002059</td>\n",
       "      <td>0.958450</td>\n",
       "      <td>0.927762</td>\n",
       "      <td>1.0</td>\n",
       "      <td>0.228346</td>\n",
       "    </tr>\n",
       "    <tr>\n",
       "      <th>58</th>\n",
       "      <td>58</td>\n",
       "      <td>ub</td>\n",
       "      <td>21</td>\n",
       "      <td>L2</td>\n",
       "      <td>0.001009</td>\n",
       "      <td>relu</td>\n",
       "      <td>False</td>\n",
       "      <td>0.000000</td>\n",
       "      <td>84</td>\n",
       "      <td>0.000434</td>\n",
       "      <td>0.960847</td>\n",
       "      <td>0.938082</td>\n",
       "      <td>1.0</td>\n",
       "      <td>0.251969</td>\n",
       "    </tr>\n",
       "    <tr>\n",
       "      <th>44</th>\n",
       "      <td>44</td>\n",
       "      <td>ub</td>\n",
       "      <td>14</td>\n",
       "      <td>L1</td>\n",
       "      <td>0.001341</td>\n",
       "      <td>relu</td>\n",
       "      <td>False</td>\n",
       "      <td>0.000000</td>\n",
       "      <td>12</td>\n",
       "      <td>0.003928</td>\n",
       "      <td>0.950459</td>\n",
       "      <td>0.855764</td>\n",
       "      <td>1.0</td>\n",
       "      <td>0.023622</td>\n",
       "    </tr>\n",
       "    <tr>\n",
       "      <th>35</th>\n",
       "      <td>35</td>\n",
       "      <td>ub</td>\n",
       "      <td>22</td>\n",
       "      <td>L2</td>\n",
       "      <td>0.001195</td>\n",
       "      <td>tanh</td>\n",
       "      <td>False</td>\n",
       "      <td>0.000000</td>\n",
       "      <td>72</td>\n",
       "      <td>0.007537</td>\n",
       "      <td>0.958849</td>\n",
       "      <td>0.935997</td>\n",
       "      <td>1.0</td>\n",
       "      <td>0.267717</td>\n",
       "    </tr>\n",
       "  </tbody>\n",
       "</table>\n",
       "</div>"
      ],
      "text/plain": [
       "    ID dataset  layer_size reg_type  reg_amount   act  dropout    do_amt  \\\n",
       "0    0      ub          38      NaN    0.000000  tanh     True  0.016359   \n",
       "13  13      ub          31       L2    0.002369  relu     True  0.034753   \n",
       "58  58      ub          21       L2    0.001009  relu    False  0.000000   \n",
       "44  44      ub          14       L1    0.001341  relu    False  0.000000   \n",
       "35  35      ub          22       L2    0.001195  tanh    False  0.000000   \n",
       "\n",
       "    batch        lr  max_val_binary_accuracy  max_val_auc  max_val_precision  \\\n",
       "0      83  0.002786                 0.970436     0.948348                1.0   \n",
       "13     37  0.002059                 0.958450     0.927762                1.0   \n",
       "58     84  0.000434                 0.960847     0.938082                1.0   \n",
       "44     12  0.003928                 0.950459     0.855764                1.0   \n",
       "35     72  0.007537                 0.958849     0.935997                1.0   \n",
       "\n",
       "    max_val_recall  \n",
       "0         0.488189  \n",
       "13        0.228346  \n",
       "58        0.251969  \n",
       "44        0.023622  \n",
       "35        0.267717  "
      ]
     },
     "execution_count": 49,
     "metadata": {},
     "output_type": "execute_result"
    }
   ],
   "source": [
    "model_build.sort_values('max_val_precision', ascending=False).head()"
   ]
  },
  {
   "cell_type": "code",
   "execution_count": 50,
   "id": "200a25db",
   "metadata": {},
   "outputs": [
    {
     "data": {
      "text/html": [
       "<div>\n",
       "<style scoped>\n",
       "    .dataframe tbody tr th:only-of-type {\n",
       "        vertical-align: middle;\n",
       "    }\n",
       "\n",
       "    .dataframe tbody tr th {\n",
       "        vertical-align: top;\n",
       "    }\n",
       "\n",
       "    .dataframe thead th {\n",
       "        text-align: right;\n",
       "    }\n",
       "</style>\n",
       "<table border=\"1\" class=\"dataframe\">\n",
       "  <thead>\n",
       "    <tr style=\"text-align: right;\">\n",
       "      <th></th>\n",
       "      <th>ID</th>\n",
       "      <th>dataset</th>\n",
       "      <th>layer_size</th>\n",
       "      <th>reg_type</th>\n",
       "      <th>reg_amount</th>\n",
       "      <th>act</th>\n",
       "      <th>dropout</th>\n",
       "      <th>do_amt</th>\n",
       "      <th>batch</th>\n",
       "      <th>lr</th>\n",
       "      <th>max_val_binary_accuracy</th>\n",
       "      <th>max_val_auc</th>\n",
       "      <th>max_val_precision</th>\n",
       "      <th>max_val_recall</th>\n",
       "    </tr>\n",
       "  </thead>\n",
       "  <tbody>\n",
       "    <tr>\n",
       "      <th>46</th>\n",
       "      <td>46</td>\n",
       "      <td>os</td>\n",
       "      <td>22</td>\n",
       "      <td>L1</td>\n",
       "      <td>0.008607</td>\n",
       "      <td>sigmoid</td>\n",
       "      <td>True</td>\n",
       "      <td>0.007319</td>\n",
       "      <td>48</td>\n",
       "      <td>0.002549</td>\n",
       "      <td>0.510915</td>\n",
       "      <td>0.747802</td>\n",
       "      <td>0.489085</td>\n",
       "      <td>1.000000</td>\n",
       "    </tr>\n",
       "    <tr>\n",
       "      <th>57</th>\n",
       "      <td>57</td>\n",
       "      <td>us</td>\n",
       "      <td>21</td>\n",
       "      <td>L1</td>\n",
       "      <td>0.001354</td>\n",
       "      <td>sigmoid</td>\n",
       "      <td>False</td>\n",
       "      <td>0.000000</td>\n",
       "      <td>23</td>\n",
       "      <td>0.008175</td>\n",
       "      <td>0.785124</td>\n",
       "      <td>0.881147</td>\n",
       "      <td>0.940298</td>\n",
       "      <td>1.000000</td>\n",
       "    </tr>\n",
       "    <tr>\n",
       "      <th>5</th>\n",
       "      <td>5</td>\n",
       "      <td>us</td>\n",
       "      <td>18</td>\n",
       "      <td>L2</td>\n",
       "      <td>0.000723</td>\n",
       "      <td>sigmoid</td>\n",
       "      <td>True</td>\n",
       "      <td>0.008952</td>\n",
       "      <td>88</td>\n",
       "      <td>0.009902</td>\n",
       "      <td>0.838843</td>\n",
       "      <td>0.924760</td>\n",
       "      <td>1.000000</td>\n",
       "      <td>1.000000</td>\n",
       "    </tr>\n",
       "    <tr>\n",
       "      <th>19</th>\n",
       "      <td>19</td>\n",
       "      <td>us</td>\n",
       "      <td>49</td>\n",
       "      <td>L2</td>\n",
       "      <td>0.007523</td>\n",
       "      <td>sigmoid</td>\n",
       "      <td>False</td>\n",
       "      <td>0.000000</td>\n",
       "      <td>76</td>\n",
       "      <td>0.005015</td>\n",
       "      <td>0.636364</td>\n",
       "      <td>0.838324</td>\n",
       "      <td>0.600962</td>\n",
       "      <td>1.000000</td>\n",
       "    </tr>\n",
       "    <tr>\n",
       "      <th>15</th>\n",
       "      <td>15</td>\n",
       "      <td>os</td>\n",
       "      <td>37</td>\n",
       "      <td>NaN</td>\n",
       "      <td>0.000000</td>\n",
       "      <td>tanh</td>\n",
       "      <td>True</td>\n",
       "      <td>0.057518</td>\n",
       "      <td>99</td>\n",
       "      <td>0.005272</td>\n",
       "      <td>0.948573</td>\n",
       "      <td>0.988080</td>\n",
       "      <td>0.952962</td>\n",
       "      <td>0.998283</td>\n",
       "    </tr>\n",
       "  </tbody>\n",
       "</table>\n",
       "</div>"
      ],
      "text/plain": [
       "    ID dataset  layer_size reg_type  reg_amount      act  dropout    do_amt  \\\n",
       "46  46      os          22       L1    0.008607  sigmoid     True  0.007319   \n",
       "57  57      us          21       L1    0.001354  sigmoid    False  0.000000   \n",
       "5    5      us          18       L2    0.000723  sigmoid     True  0.008952   \n",
       "19  19      us          49       L2    0.007523  sigmoid    False  0.000000   \n",
       "15  15      os          37      NaN    0.000000     tanh     True  0.057518   \n",
       "\n",
       "    batch        lr  max_val_binary_accuracy  max_val_auc  max_val_precision  \\\n",
       "46     48  0.002549                 0.510915     0.747802           0.489085   \n",
       "57     23  0.008175                 0.785124     0.881147           0.940298   \n",
       "5      88  0.009902                 0.838843     0.924760           1.000000   \n",
       "19     76  0.005015                 0.636364     0.838324           0.600962   \n",
       "15     99  0.005272                 0.948573     0.988080           0.952962   \n",
       "\n",
       "    max_val_recall  \n",
       "46        1.000000  \n",
       "57        1.000000  \n",
       "5         1.000000  \n",
       "19        1.000000  \n",
       "15        0.998283  "
      ]
     },
     "execution_count": 50,
     "metadata": {},
     "output_type": "execute_result"
    }
   ],
   "source": [
    "model_build.sort_values('max_val_recall', ascending=False).head()"
   ]
  },
  {
   "cell_type": "markdown",
   "id": "b7e37945",
   "metadata": {},
   "source": [
    "Plotted:"
   ]
  },
  {
   "cell_type": "code",
   "execution_count": 52,
   "id": "80edc537",
   "metadata": {
    "scrolled": true
   },
   "outputs": [
    {
     "data": {
      "image/png": "[encoded data removed]",
      "text/plain": [
       "<Figure size 1152x360 with 1 Axes>"
      ]
     },
     "metadata": {
      "needs_background": "light"
     },
     "output_type": "display_data"
    }
   ],
   "source": [
    "plt.figure(figsize=(16,5))\n",
    "sns.kdeplot(data = model_build, x = 'max_val_auc', hue = 'dataset')\n",
    "plt.show()"
   ]
  },
  {
   "cell_type": "code",
   "execution_count": 51,
   "id": "05e273cf",
   "metadata": {},
   "outputs": [
    {
     "data": {
      "image/png": "[encoded data removed]",
      "text/plain": [
       "<Figure size 1152x360 with 1 Axes>"
      ]
     },
     "metadata": {
      "needs_background": "light"
     },
     "output_type": "display_data"
    }
   ],
   "source": [
    "plt.figure(figsize=(16,5))\n",
    "ax = sns.kdeplot(data = model_build, x = 'max_val_binary_accuracy', hue = 'dataset')\n",
    "plt.show()"
   ]
  },
  {
   "cell_type": "code",
   "execution_count": 53,
   "id": "d50ac332",
   "metadata": {},
   "outputs": [
    {
     "data": {
      "image/png": "[encoded data removed]",
      "text/plain": [
       "<Figure size 1152x360 with 1 Axes>"
      ]
     },
     "metadata": {
      "needs_background": "light"
     },
     "output_type": "display_data"
    }
   ],
   "source": [
    "plt.figure(figsize=(16,5))\n",
    "sns.kdeplot(data = model_build, x = 'max_val_precision', hue = 'dataset')\n",
    "plt.show()"
   ]
  },
  {
   "cell_type": "code",
   "execution_count": 54,
   "id": "06480c28",
   "metadata": {},
   "outputs": [
    {
     "data": {
      "image/png": "[encoded data removed]",
      "text/plain": [
       "<Figure size 1152x360 with 1 Axes>"
      ]
     },
     "metadata": {
      "needs_background": "light"
     },
     "output_type": "display_data"
    }
   ],
   "source": [
    "plt.figure(figsize=(16,5))\n",
    "sns.kdeplot(data = model_build, x = 'max_val_recall', hue = 'dataset')\n",
    "plt.show()"
   ]
  },
  {
   "cell_type": "code",
   "execution_count": 59,
   "id": "839d5eab",
   "metadata": {},
   "outputs": [
    {
     "data": {
      "image/png": "[encoded data removed]",
      "text/plain": [
       "<Figure size 1080x1080 with 4 Axes>"
      ]
     },
     "metadata": {
      "needs_background": "light"
     },
     "output_type": "display_data"
    }
   ],
   "source": [
    "fig = plt.figure(figsize=(15, 15))\n",
    "\n",
    "plt.subplot(2, 2, 1)\n",
    "ax = sns.kdeplot(data = model_build, x = 'max_val_auc', hue = 'dataset')\n",
    "ax.set_title('Maximum validation AUC', size=18)\n",
    "\n",
    "plt.subplot(2, 2, 2)\n",
    "ax = sns.kdeplot(data = model_build, x = 'max_val_binary_accuracy', hue = 'dataset')\n",
    "ax.set_title('Maximum validation binary accuracy', size=18)\n",
    "\n",
    "plt.subplot(2, 2, 3)\n",
    "ax = sns.kdeplot(data = model_build, x = 'max_val_precision', hue = 'dataset')\n",
    "ax.set_title('Maximum validation precision', size=18)\n",
    "\n",
    "plt.subplot(2, 2, 4)\n",
    "ax = sns.kdeplot(data = model_build, x = 'max_val_recall', hue = 'dataset')\n",
    "ax.set_title('Maximum validation recall', size=18)\n",
    "\n",
    "plt.show()"
   ]
  },
  {
   "cell_type": "markdown",
   "id": "08760a20",
   "metadata": {},
   "source": [
    "# Test data\n",
    "\n",
    "## Random Forest\n",
    "\n",
    "The model which achieved the highest F1 score had the parameters: {'n_estimators': 350, 'min_samples_split': 4, 'min_samples_leaf': 1, 'max_depth': None, 'bootstrap': False}"
   ]
  },
  {
   "cell_type": "code",
   "execution_count": 64,
   "id": "f2ff972b",
   "metadata": {},
   "outputs": [],
   "source": [
    "bow_test_x = bow_test.drop('fraudulent', axis=1)\n",
    "bow_test_y = bow_test['fraudulent']"
   ]
  },
  {
   "cell_type": "code",
   "execution_count": 65,
   "id": "8086d1d8",
   "metadata": {},
   "outputs": [],
   "source": [
    "rf_class = RandomForestClassifier(random_state = 100, n_jobs = -1, n_estimators=350, min_samples_split=4, \n",
    "                                  min_samples_leaf=1, bootstrap=False)\n",
    "\n",
    "# Fit the classifier\n",
    "rf_class.fit(bow_train_x_us, bow_train_y_us)\n",
    "\n",
    "# Predict the test data\n",
    "rf_preds = rf_class.predict(bow_test_x)"
   ]
  },
  {
   "cell_type": "code",
   "execution_count": 72,
   "id": "565c8512",
   "metadata": {},
   "outputs": [
    {
     "data": {
      "text/plain": [
       "array([[4765,  339],\n",
       "       [  19,  241]], dtype=int64)"
      ]
     },
     "execution_count": 72,
     "metadata": {},
     "output_type": "execute_result"
    }
   ],
   "source": [
    "confusion_matrix(bow_test_y, rf_preds)"
   ]
  },
  {
   "cell_type": "code",
   "execution_count": 75,
   "id": "4b9bc918",
   "metadata": {},
   "outputs": [
    {
     "data": {
      "text/plain": [
       "0.5738095238095238"
      ]
     },
     "execution_count": 75,
     "metadata": {},
     "output_type": "execute_result"
    }
   ],
   "source": [
    "f1_score(bow_test_y, rf_preds)"
   ]
  },
  {
   "cell_type": "code",
   "execution_count": 76,
   "id": "6cc4eb29",
   "metadata": {},
   "outputs": [
    {
     "data": {
      "text/plain": [
       "0.41551724137931034"
      ]
     },
     "execution_count": 76,
     "metadata": {},
     "output_type": "execute_result"
    }
   ],
   "source": [
    "precision_score(bow_test_y, rf_preds)"
   ]
  },
  {
   "cell_type": "code",
   "execution_count": 77,
   "id": "c7d49ba3",
   "metadata": {},
   "outputs": [
    {
     "data": {
      "text/plain": [
       "0.926923076923077"
      ]
     },
     "execution_count": 77,
     "metadata": {},
     "output_type": "execute_result"
    }
   ],
   "source": [
    "recall_score(bow_test_y, rf_preds)"
   ]
  },
  {
   "cell_type": "markdown",
   "id": "d11fa649",
   "metadata": {},
   "source": [
    "## Neural networks\n",
    "\n",
    "The model which achieved the highest AUC score was model 37:"
   ]
  },
  {
   "cell_type": "code",
   "execution_count": 56,
   "id": "3754f5a1",
   "metadata": {},
   "outputs": [
    {
     "data": {
      "text/plain": [
       "ID                               37\n",
       "dataset                          os\n",
       "layer_size                       37\n",
       "reg_type                        NaN\n",
       "reg_amount                      0.0\n",
       "act                            relu\n",
       "dropout                       False\n",
       "do_amt                          0.0\n",
       "batch                            49\n",
       "lr                         0.006925\n",
       "max_val_binary_accuracy    0.956129\n",
       "max_val_auc                0.991163\n",
       "max_val_precision          0.956747\n",
       "max_val_recall             0.995708\n",
       "Name: 37, dtype: object"
      ]
     },
     "execution_count": 56,
     "metadata": {},
     "output_type": "execute_result"
    }
   ],
   "source": [
    "model_build.iloc[37, :]"
   ]
  },
  {
   "cell_type": "markdown",
   "id": "3cad190c",
   "metadata": {},
   "source": [
    "Validation metrics were highest at epoch 13:"
   ]
  },
  {
   "cell_type": "code",
   "execution_count": 91,
   "id": "35cf6d68",
   "metadata": {},
   "outputs": [
    {
     "data": {
      "text/html": [
       "<div>\n",
       "<style scoped>\n",
       "    .dataframe tbody tr th:only-of-type {\n",
       "        vertical-align: middle;\n",
       "    }\n",
       "\n",
       "    .dataframe tbody tr th {\n",
       "        vertical-align: top;\n",
       "    }\n",
       "\n",
       "    .dataframe thead th {\n",
       "        text-align: right;\n",
       "    }\n",
       "</style>\n",
       "<table border=\"1\" class=\"dataframe\">\n",
       "  <thead>\n",
       "    <tr style=\"text-align: right;\">\n",
       "      <th></th>\n",
       "      <th>ID</th>\n",
       "      <th>Epoch</th>\n",
       "      <th>loss</th>\n",
       "      <th>binary_accuracy</th>\n",
       "      <th>auc</th>\n",
       "      <th>precision</th>\n",
       "      <th>recall</th>\n",
       "      <th>true_positives</th>\n",
       "      <th>true_negatives</th>\n",
       "      <th>false_positives</th>\n",
       "      <th>false_negatives</th>\n",
       "      <th>val_loss</th>\n",
       "      <th>val_binary_accuracy</th>\n",
       "      <th>val_auc</th>\n",
       "      <th>val_precision</th>\n",
       "      <th>val_recall</th>\n",
       "      <th>val_true_positives</th>\n",
       "      <th>val_true_negatives</th>\n",
       "      <th>val_false_positives</th>\n",
       "      <th>val_false_negatives</th>\n",
       "    </tr>\n",
       "  </thead>\n",
       "  <tbody>\n",
       "    <tr>\n",
       "      <th>955</th>\n",
       "      <td>37.0</td>\n",
       "      <td>1.0</td>\n",
       "      <td>0.287116</td>\n",
       "      <td>0.875567</td>\n",
       "      <td>0.945579</td>\n",
       "      <td>0.851706</td>\n",
       "      <td>0.909488</td>\n",
       "      <td>10832.0</td>\n",
       "      <td>10024.0</td>\n",
       "      <td>1886.0</td>\n",
       "      <td>1078.0</td>\n",
       "      <td>0.226745</td>\n",
       "      <td>0.903233</td>\n",
       "      <td>0.968049</td>\n",
       "      <td>0.897829</td>\n",
       "      <td>0.905150</td>\n",
       "      <td>2109.0</td>\n",
       "      <td>2194.0</td>\n",
       "      <td>240.0</td>\n",
       "      <td>221.0</td>\n",
       "    </tr>\n",
       "    <tr>\n",
       "      <th>956</th>\n",
       "      <td>37.0</td>\n",
       "      <td>2.0</td>\n",
       "      <td>0.209134</td>\n",
       "      <td>0.911262</td>\n",
       "      <td>0.972952</td>\n",
       "      <td>0.901149</td>\n",
       "      <td>0.924948</td>\n",
       "      <td>8861.0</td>\n",
       "      <td>8504.0</td>\n",
       "      <td>972.0</td>\n",
       "      <td>719.0</td>\n",
       "      <td>0.189681</td>\n",
       "      <td>0.926742</td>\n",
       "      <td>0.978083</td>\n",
       "      <td>0.903134</td>\n",
       "      <td>0.952361</td>\n",
       "      <td>2219.0</td>\n",
       "      <td>2196.0</td>\n",
       "      <td>238.0</td>\n",
       "      <td>111.0</td>\n",
       "    </tr>\n",
       "    <tr>\n",
       "      <th>957</th>\n",
       "      <td>37.0</td>\n",
       "      <td>3.0</td>\n",
       "      <td>0.178519</td>\n",
       "      <td>0.924643</td>\n",
       "      <td>0.979994</td>\n",
       "      <td>0.914833</td>\n",
       "      <td>0.937370</td>\n",
       "      <td>8980.0</td>\n",
       "      <td>8640.0</td>\n",
       "      <td>836.0</td>\n",
       "      <td>600.0</td>\n",
       "      <td>0.182085</td>\n",
       "      <td>0.923384</td>\n",
       "      <td>0.981267</td>\n",
       "      <td>0.942368</td>\n",
       "      <td>0.898283</td>\n",
       "      <td>2093.0</td>\n",
       "      <td>2306.0</td>\n",
       "      <td>128.0</td>\n",
       "      <td>237.0</td>\n",
       "    </tr>\n",
       "    <tr>\n",
       "      <th>958</th>\n",
       "      <td>37.0</td>\n",
       "      <td>4.0</td>\n",
       "      <td>0.159196</td>\n",
       "      <td>0.932200</td>\n",
       "      <td>0.983920</td>\n",
       "      <td>0.923982</td>\n",
       "      <td>0.942693</td>\n",
       "      <td>9031.0</td>\n",
       "      <td>8733.0</td>\n",
       "      <td>743.0</td>\n",
       "      <td>549.0</td>\n",
       "      <td>0.155965</td>\n",
       "      <td>0.938497</td>\n",
       "      <td>0.983796</td>\n",
       "      <td>0.911848</td>\n",
       "      <td>0.967811</td>\n",
       "      <td>2255.0</td>\n",
       "      <td>2216.0</td>\n",
       "      <td>218.0</td>\n",
       "      <td>75.0</td>\n",
       "    </tr>\n",
       "    <tr>\n",
       "      <th>959</th>\n",
       "      <td>37.0</td>\n",
       "      <td>5.0</td>\n",
       "      <td>0.144224</td>\n",
       "      <td>0.938182</td>\n",
       "      <td>0.986685</td>\n",
       "      <td>0.930342</td>\n",
       "      <td>0.948017</td>\n",
       "      <td>9082.0</td>\n",
       "      <td>8796.0</td>\n",
       "      <td>680.0</td>\n",
       "      <td>498.0</td>\n",
       "      <td>0.152031</td>\n",
       "      <td>0.934929</td>\n",
       "      <td>0.984348</td>\n",
       "      <td>0.917011</td>\n",
       "      <td>0.953219</td>\n",
       "      <td>2221.0</td>\n",
       "      <td>2233.0</td>\n",
       "      <td>201.0</td>\n",
       "      <td>109.0</td>\n",
       "    </tr>\n",
       "    <tr>\n",
       "      <th>960</th>\n",
       "      <td>37.0</td>\n",
       "      <td>6.0</td>\n",
       "      <td>0.134960</td>\n",
       "      <td>0.941068</td>\n",
       "      <td>0.988202</td>\n",
       "      <td>0.932849</td>\n",
       "      <td>0.951253</td>\n",
       "      <td>9113.0</td>\n",
       "      <td>8820.0</td>\n",
       "      <td>656.0</td>\n",
       "      <td>467.0</td>\n",
       "      <td>0.142636</td>\n",
       "      <td>0.942485</td>\n",
       "      <td>0.986129</td>\n",
       "      <td>0.934856</td>\n",
       "      <td>0.948498</td>\n",
       "      <td>2210.0</td>\n",
       "      <td>2280.0</td>\n",
       "      <td>154.0</td>\n",
       "      <td>120.0</td>\n",
       "    </tr>\n",
       "    <tr>\n",
       "      <th>961</th>\n",
       "      <td>37.0</td>\n",
       "      <td>7.0</td>\n",
       "      <td>0.126548</td>\n",
       "      <td>0.945267</td>\n",
       "      <td>0.989566</td>\n",
       "      <td>0.935873</td>\n",
       "      <td>0.956681</td>\n",
       "      <td>9165.0</td>\n",
       "      <td>8848.0</td>\n",
       "      <td>628.0</td>\n",
       "      <td>415.0</td>\n",
       "      <td>0.134063</td>\n",
       "      <td>0.948363</td>\n",
       "      <td>0.987371</td>\n",
       "      <td>0.921521</td>\n",
       "      <td>0.977682</td>\n",
       "      <td>2278.0</td>\n",
       "      <td>2240.0</td>\n",
       "      <td>194.0</td>\n",
       "      <td>52.0</td>\n",
       "    </tr>\n",
       "    <tr>\n",
       "      <th>962</th>\n",
       "      <td>37.0</td>\n",
       "      <td>8.0</td>\n",
       "      <td>0.121902</td>\n",
       "      <td>0.945581</td>\n",
       "      <td>0.990297</td>\n",
       "      <td>0.932995</td>\n",
       "      <td>0.960752</td>\n",
       "      <td>9204.0</td>\n",
       "      <td>8815.0</td>\n",
       "      <td>661.0</td>\n",
       "      <td>376.0</td>\n",
       "      <td>0.130513</td>\n",
       "      <td>0.948153</td>\n",
       "      <td>0.988671</td>\n",
       "      <td>0.917435</td>\n",
       "      <td>0.982403</td>\n",
       "      <td>2289.0</td>\n",
       "      <td>2228.0</td>\n",
       "      <td>206.0</td>\n",
       "      <td>41.0</td>\n",
       "    </tr>\n",
       "    <tr>\n",
       "      <th>963</th>\n",
       "      <td>37.0</td>\n",
       "      <td>9.0</td>\n",
       "      <td>0.116756</td>\n",
       "      <td>0.950724</td>\n",
       "      <td>0.991134</td>\n",
       "      <td>0.939567</td>\n",
       "      <td>0.963987</td>\n",
       "      <td>9235.0</td>\n",
       "      <td>8882.0</td>\n",
       "      <td>594.0</td>\n",
       "      <td>345.0</td>\n",
       "      <td>0.122108</td>\n",
       "      <td>0.947313</td>\n",
       "      <td>0.989867</td>\n",
       "      <td>0.916300</td>\n",
       "      <td>0.981974</td>\n",
       "      <td>2288.0</td>\n",
       "      <td>2225.0</td>\n",
       "      <td>209.0</td>\n",
       "      <td>42.0</td>\n",
       "    </tr>\n",
       "    <tr>\n",
       "      <th>964</th>\n",
       "      <td>37.0</td>\n",
       "      <td>10.0</td>\n",
       "      <td>0.113910</td>\n",
       "      <td>0.949780</td>\n",
       "      <td>0.991462</td>\n",
       "      <td>0.938740</td>\n",
       "      <td>0.962944</td>\n",
       "      <td>9225.0</td>\n",
       "      <td>8874.0</td>\n",
       "      <td>602.0</td>\n",
       "      <td>355.0</td>\n",
       "      <td>0.117695</td>\n",
       "      <td>0.954240</td>\n",
       "      <td>0.990358</td>\n",
       "      <td>0.931373</td>\n",
       "      <td>0.978541</td>\n",
       "      <td>2280.0</td>\n",
       "      <td>2266.0</td>\n",
       "      <td>168.0</td>\n",
       "      <td>50.0</td>\n",
       "    </tr>\n",
       "    <tr>\n",
       "      <th>965</th>\n",
       "      <td>37.0</td>\n",
       "      <td>11.0</td>\n",
       "      <td>0.110107</td>\n",
       "      <td>0.952036</td>\n",
       "      <td>0.992038</td>\n",
       "      <td>0.939542</td>\n",
       "      <td>0.966806</td>\n",
       "      <td>9262.0</td>\n",
       "      <td>8880.0</td>\n",
       "      <td>596.0</td>\n",
       "      <td>318.0</td>\n",
       "      <td>0.116895</td>\n",
       "      <td>0.953400</td>\n",
       "      <td>0.990416</td>\n",
       "      <td>0.933388</td>\n",
       "      <td>0.974249</td>\n",
       "      <td>2270.0</td>\n",
       "      <td>2272.0</td>\n",
       "      <td>162.0</td>\n",
       "      <td>60.0</td>\n",
       "    </tr>\n",
       "    <tr>\n",
       "      <th>966</th>\n",
       "      <td>37.0</td>\n",
       "      <td>12.0</td>\n",
       "      <td>0.108444</td>\n",
       "      <td>0.953296</td>\n",
       "      <td>0.992283</td>\n",
       "      <td>0.942645</td>\n",
       "      <td>0.965866</td>\n",
       "      <td>9253.0</td>\n",
       "      <td>8913.0</td>\n",
       "      <td>563.0</td>\n",
       "      <td>327.0</td>\n",
       "      <td>0.113064</td>\n",
       "      <td>0.955500</td>\n",
       "      <td>0.990889</td>\n",
       "      <td>0.934372</td>\n",
       "      <td>0.977682</td>\n",
       "      <td>2278.0</td>\n",
       "      <td>2274.0</td>\n",
       "      <td>160.0</td>\n",
       "      <td>52.0</td>\n",
       "    </tr>\n",
       "    <tr>\n",
       "      <th>967</th>\n",
       "      <td>37.0</td>\n",
       "      <td>13.0</td>\n",
       "      <td>0.107059</td>\n",
       "      <td>0.952666</td>\n",
       "      <td>0.992447</td>\n",
       "      <td>0.941045</td>\n",
       "      <td>0.966388</td>\n",
       "      <td>9258.0</td>\n",
       "      <td>8896.0</td>\n",
       "      <td>580.0</td>\n",
       "      <td>322.0</td>\n",
       "      <td>0.113984</td>\n",
       "      <td>0.956129</td>\n",
       "      <td>0.990755</td>\n",
       "      <td>0.936599</td>\n",
       "      <td>0.976395</td>\n",
       "      <td>2275.0</td>\n",
       "      <td>2280.0</td>\n",
       "      <td>154.0</td>\n",
       "      <td>55.0</td>\n",
       "    </tr>\n",
       "    <tr>\n",
       "      <th>968</th>\n",
       "      <td>37.0</td>\n",
       "      <td>14.0</td>\n",
       "      <td>0.106252</td>\n",
       "      <td>0.953820</td>\n",
       "      <td>0.992518</td>\n",
       "      <td>0.942253</td>\n",
       "      <td>0.967432</td>\n",
       "      <td>9268.0</td>\n",
       "      <td>8908.0</td>\n",
       "      <td>568.0</td>\n",
       "      <td>312.0</td>\n",
       "      <td>0.118499</td>\n",
       "      <td>0.941226</td>\n",
       "      <td>0.990893</td>\n",
       "      <td>0.895753</td>\n",
       "      <td>0.995708</td>\n",
       "      <td>2320.0</td>\n",
       "      <td>2164.0</td>\n",
       "      <td>270.0</td>\n",
       "      <td>10.0</td>\n",
       "    </tr>\n",
       "    <tr>\n",
       "      <th>969</th>\n",
       "      <td>37.0</td>\n",
       "      <td>15.0</td>\n",
       "      <td>0.105100</td>\n",
       "      <td>0.954135</td>\n",
       "      <td>0.992793</td>\n",
       "      <td>0.940587</td>\n",
       "      <td>0.970042</td>\n",
       "      <td>9293.0</td>\n",
       "      <td>8889.0</td>\n",
       "      <td>587.0</td>\n",
       "      <td>287.0</td>\n",
       "      <td>0.113713</td>\n",
       "      <td>0.954240</td>\n",
       "      <td>0.991163</td>\n",
       "      <td>0.956747</td>\n",
       "      <td>0.949356</td>\n",
       "      <td>2212.0</td>\n",
       "      <td>2334.0</td>\n",
       "      <td>100.0</td>\n",
       "      <td>118.0</td>\n",
       "    </tr>\n",
       "  </tbody>\n",
       "</table>\n",
       "</div>"
      ],
      "text/plain": [
       "       ID  Epoch      loss  binary_accuracy       auc  precision    recall  \\\n",
       "955  37.0    1.0  0.287116         0.875567  0.945579   0.851706  0.909488   \n",
       "956  37.0    2.0  0.209134         0.911262  0.972952   0.901149  0.924948   \n",
       "957  37.0    3.0  0.178519         0.924643  0.979994   0.914833  0.937370   \n",
       "958  37.0    4.0  0.159196         0.932200  0.983920   0.923982  0.942693   \n",
       "959  37.0    5.0  0.144224         0.938182  0.986685   0.930342  0.948017   \n",
       "960  37.0    6.0  0.134960         0.941068  0.988202   0.932849  0.951253   \n",
       "961  37.0    7.0  0.126548         0.945267  0.989566   0.935873  0.956681   \n",
       "962  37.0    8.0  0.121902         0.945581  0.990297   0.932995  0.960752   \n",
       "963  37.0    9.0  0.116756         0.950724  0.991134   0.939567  0.963987   \n",
       "964  37.0   10.0  0.113910         0.949780  0.991462   0.938740  0.962944   \n",
       "965  37.0   11.0  0.110107         0.952036  0.992038   0.939542  0.966806   \n",
       "966  37.0   12.0  0.108444         0.953296  0.992283   0.942645  0.965866   \n",
       "967  37.0   13.0  0.107059         0.952666  0.992447   0.941045  0.966388   \n",
       "968  37.0   14.0  0.106252         0.953820  0.992518   0.942253  0.967432   \n",
       "969  37.0   15.0  0.105100         0.954135  0.992793   0.940587  0.970042   \n",
       "\n",
       "     true_positives  true_negatives  false_positives  false_negatives  \\\n",
       "955         10832.0         10024.0           1886.0           1078.0   \n",
       "956          8861.0          8504.0            972.0            719.0   \n",
       "957          8980.0          8640.0            836.0            600.0   \n",
       "958          9031.0          8733.0            743.0            549.0   \n",
       "959          9082.0          8796.0            680.0            498.0   \n",
       "960          9113.0          8820.0            656.0            467.0   \n",
       "961          9165.0          8848.0            628.0            415.0   \n",
       "962          9204.0          8815.0            661.0            376.0   \n",
       "963          9235.0          8882.0            594.0            345.0   \n",
       "964          9225.0          8874.0            602.0            355.0   \n",
       "965          9262.0          8880.0            596.0            318.0   \n",
       "966          9253.0          8913.0            563.0            327.0   \n",
       "967          9258.0          8896.0            580.0            322.0   \n",
       "968          9268.0          8908.0            568.0            312.0   \n",
       "969          9293.0          8889.0            587.0            287.0   \n",
       "\n",
       "     val_loss  val_binary_accuracy   val_auc  val_precision  val_recall  \\\n",
       "955  0.226745             0.903233  0.968049       0.897829    0.905150   \n",
       "956  0.189681             0.926742  0.978083       0.903134    0.952361   \n",
       "957  0.182085             0.923384  0.981267       0.942368    0.898283   \n",
       "958  0.155965             0.938497  0.983796       0.911848    0.967811   \n",
       "959  0.152031             0.934929  0.984348       0.917011    0.953219   \n",
       "960  0.142636             0.942485  0.986129       0.934856    0.948498   \n",
       "961  0.134063             0.948363  0.987371       0.921521    0.977682   \n",
       "962  0.130513             0.948153  0.988671       0.917435    0.982403   \n",
       "963  0.122108             0.947313  0.989867       0.916300    0.981974   \n",
       "964  0.117695             0.954240  0.990358       0.931373    0.978541   \n",
       "965  0.116895             0.953400  0.990416       0.933388    0.974249   \n",
       "966  0.113064             0.955500  0.990889       0.934372    0.977682   \n",
       "967  0.113984             0.956129  0.990755       0.936599    0.976395   \n",
       "968  0.118499             0.941226  0.990893       0.895753    0.995708   \n",
       "969  0.113713             0.954240  0.991163       0.956747    0.949356   \n",
       "\n",
       "     val_true_positives  val_true_negatives  val_false_positives  \\\n",
       "955              2109.0              2194.0                240.0   \n",
       "956              2219.0              2196.0                238.0   \n",
       "957              2093.0              2306.0                128.0   \n",
       "958              2255.0              2216.0                218.0   \n",
       "959              2221.0              2233.0                201.0   \n",
       "960              2210.0              2280.0                154.0   \n",
       "961              2278.0              2240.0                194.0   \n",
       "962              2289.0              2228.0                206.0   \n",
       "963              2288.0              2225.0                209.0   \n",
       "964              2280.0              2266.0                168.0   \n",
       "965              2270.0              2272.0                162.0   \n",
       "966              2278.0              2274.0                160.0   \n",
       "967              2275.0              2280.0                154.0   \n",
       "968              2320.0              2164.0                270.0   \n",
       "969              2212.0              2334.0                100.0   \n",
       "\n",
       "     val_false_negatives  \n",
       "955                221.0  \n",
       "956                111.0  \n",
       "957                237.0  \n",
       "958                 75.0  \n",
       "959                109.0  \n",
       "960                120.0  \n",
       "961                 52.0  \n",
       "962                 41.0  \n",
       "963                 42.0  \n",
       "964                 50.0  \n",
       "965                 60.0  \n",
       "966                 52.0  \n",
       "967                 55.0  \n",
       "968                 10.0  \n",
       "969                118.0  "
      ]
     },
     "execution_count": 91,
     "metadata": {},
     "output_type": "execute_result"
    }
   ],
   "source": [
    "model_metric_epoch[model_metric_epoch['ID']==37]"
   ]
  },
  {
   "cell_type": "markdown",
   "id": "6982db52",
   "metadata": {},
   "source": [
    "Define the model:"
   ]
  },
  {
   "cell_type": "code",
   "execution_count": 90,
   "id": "c8a06cb1",
   "metadata": {
    "colab": {
     "base_uri": "https://localhost:8080/"
    },
    "executionInfo": {
     "elapsed": 73868,
     "status": "ok",
     "timestamp": 1652110887620,
     "user": {
      "displayName": "Alexandra Stepanenko",
      "userId": "09067281291667623362"
     },
     "user_tz": -60
    },
    "id": "81ff115b",
    "outputId": "ac071f94-3b24-4bfc-883c-dcd23ff29b95"
   },
   "outputs": [
    {
     "name": "stdout",
     "output_type": "stream",
     "text": [
      "Model: \"model\"\n",
      "__________________________________________________________________________________________________\n",
      "Layer (type)                    Output Shape         Param #     Connected to                     \n",
      "==================================================================================================\n",
      "desc (InputLayer)               [(None, 655)]        0                                            \n",
      "__________________________________________________________________________________________________\n",
      "title (InputLayer)              [(None, 15)]         0                                            \n",
      "__________________________________________________________________________________________________\n",
      "cp (InputLayer)                 [(None, 528)]        0                                            \n",
      "__________________________________________________________________________________________________\n",
      "reqs (InputLayer)               [(None, 615)]        0                                            \n",
      "__________________________________________________________________________________________________\n",
      "benefits (InputLayer)           [(None, 444)]        0                                            \n",
      "__________________________________________________________________________________________________\n",
      "embedding (Embedding)           (None, 655, 100)     5665000     desc[0][0]                       \n",
      "__________________________________________________________________________________________________\n",
      "embedding_1 (Embedding)         (None, 15, 10)       42020       title[0][0]                      \n",
      "__________________________________________________________________________________________________\n",
      "embedding_2 (Embedding)         (None, 528, 30)      390630      cp[0][0]                         \n",
      "__________________________________________________________________________________________________\n",
      "embedding_3 (Embedding)         (None, 615, 100)     4558500     reqs[0][0]                       \n",
      "__________________________________________________________________________________________________\n",
      "embedding_4 (Embedding)         (None, 444, 30)      431430      benefits[0][0]                   \n",
      "__________________________________________________________________________________________________\n",
      "flatten (Flatten)               (None, 65500)        0           embedding[0][0]                  \n",
      "__________________________________________________________________________________________________\n",
      "flatten_1 (Flatten)             (None, 150)          0           embedding_1[0][0]                \n",
      "__________________________________________________________________________________________________\n",
      "flatten_2 (Flatten)             (None, 15840)        0           embedding_2[0][0]                \n",
      "__________________________________________________________________________________________________\n",
      "flatten_3 (Flatten)             (None, 61500)        0           embedding_3[0][0]                \n",
      "__________________________________________________________________________________________________\n",
      "flatten_4 (Flatten)             (None, 13320)        0           embedding_4[0][0]                \n",
      "__________________________________________________________________________________________________\n",
      "nontext (InputLayer)            [(None, 100)]        0                                            \n",
      "__________________________________________________________________________________________________\n",
      "dense (Dense)                   (None, 37)           2423537     flatten[0][0]                    \n",
      "__________________________________________________________________________________________________\n",
      "dense_1 (Dense)                 (None, 37)           5587        flatten_1[0][0]                  \n",
      "__________________________________________________________________________________________________\n",
      "dense_2 (Dense)                 (None, 37)           586117      flatten_2[0][0]                  \n",
      "__________________________________________________________________________________________________\n",
      "dense_3 (Dense)                 (None, 37)           2275537     flatten_3[0][0]                  \n",
      "__________________________________________________________________________________________________\n",
      "dense_4 (Dense)                 (None, 37)           492877      flatten_4[0][0]                  \n",
      "__________________________________________________________________________________________________\n",
      "dense_5 (Dense)                 (None, 37)           3737        nontext[0][0]                    \n",
      "__________________________________________________________________________________________________\n",
      "concatenate (Concatenate)       (None, 222)          0           dense[0][0]                      \n",
      "                                                                 dense_1[0][0]                    \n",
      "                                                                 dense_2[0][0]                    \n",
      "                                                                 dense_3[0][0]                    \n",
      "                                                                 dense_4[0][0]                    \n",
      "                                                                 dense_5[0][0]                    \n",
      "__________________________________________________________________________________________________\n",
      "dense_6 (Dense)                 (None, 1)            223         concatenate[0][0]                \n",
      "==================================================================================================\n",
      "Total params: 16,875,195\n",
      "Trainable params: 5,787,615\n",
      "Non-trainable params: 11,087,580\n",
      "__________________________________________________________________________________________________\n"
     ]
    }
   ],
   "source": [
    "first_layer_size = 37\n",
    "\n",
    "desc_input = Input(shape=(il_desc), dtype='int32', name='desc')\n",
    "embedded_desc = layers.Embedding(nt_desc, ed_desc, input_length=il_desc,\n",
    "                                weights=[em_desc], trainable=False)(desc_input)\n",
    "flat_desc = layers.Flatten()(embedded_desc)\n",
    "dense_desc = layers.Dense(first_layer_size, activation='relu')(flat_desc)\n",
    "\n",
    "title_input = Input(shape=(il_title), dtype='int32', name='title')\n",
    "embedded_title = layers.Embedding(nt_title, ed_title, input_length=il_title,\n",
    "                                weights=[em_title], trainable=False)(title_input)\n",
    "flat_title = layers.Flatten()(embedded_title)\n",
    "dense_title = layers.Dense(first_layer_size, activation='relu')(flat_title)\n",
    "\n",
    "cp_input = Input(shape=(il_cp), dtype='int32', name='cp')\n",
    "embedded_cp = layers.Embedding(nt_cp, ed_cp, input_length=il_cp,\n",
    "                                weights=[em_cp], trainable=False)(cp_input)\n",
    "flat_cp = layers.Flatten()(embedded_cp)\n",
    "dense_cp = layers.Dense(first_layer_size, activation='relu')(flat_cp)\n",
    "\n",
    "reqs_input = Input(shape=(il_reqs), dtype='int32', name='reqs')\n",
    "embedded_reqs = layers.Embedding(nt_reqs, ed_reqs, input_length=il_reqs,\n",
    "                                weights=[em_reqs], trainable=False)(reqs_input)\n",
    "flat_reqs = layers.Flatten()(embedded_reqs)\n",
    "dense_reqs = layers.Dense(first_layer_size, activation='relu')(flat_reqs)\n",
    "\n",
    "benefits_input = Input(shape=(il_benefits), dtype='int32', name='benefits')\n",
    "embedded_benefits = layers.Embedding(nt_benefits, ed_benefits, input_length=il_benefits,\n",
    "                                weights=[em_benefits], trainable=False)(benefits_input)\n",
    "flat_benefits = layers.Flatten()(embedded_benefits)\n",
    "dense_benefits = layers.Dense(first_layer_size, activation='relu')(flat_benefits)\n",
    "\n",
    "# Non-text features: feed directly into first dense layer\n",
    "nontext_input = Input(shape=(il_nt), dtype='float64',name='nontext')\n",
    "dense_nontext = layers.Dense(first_layer_size, activation='relu')(nontext_input)\n",
    "\n",
    "# Concatenate\n",
    "concatenated = layers.concatenate([dense_desc, dense_title, dense_cp, dense_reqs, dense_benefits, dense_nontext], axis=-1)\n",
    "\n",
    "# Output layer\n",
    "output = layers.Dense(1, activation='sigmoid')(concatenated)\n",
    "\n",
    "# Define model\n",
    "model = Model([desc_input, title_input, cp_input, reqs_input, benefits_input, nontext_input], output)\n",
    "\n",
    "model.summary()"
   ]
  },
  {
   "cell_type": "code",
   "execution_count": 98,
   "id": "142a36e8",
   "metadata": {},
   "outputs": [
    {
     "name": "stdout",
     "output_type": "stream",
     "text": [
      "Epoch 1/13\n",
      "389/389 [==============================] - 51s 114ms/step - loss: 0.1099 - binary_accuracy: 0.9722 - auc: 0.9944 - precision: 0.9681 - recall: 0.9769 - true_positives: 9359.0000 - true_negatives: 9168.0000 - false_positives: 308.0000 - false_negatives: 221.0000\n",
      "Epoch 2/13\n",
      "389/389 [==============================] - 41s 105ms/step - loss: 0.0042 - binary_accuracy: 0.9988 - auc: 0.9997 - precision: 0.9990 - recall: 0.9986 - true_positives: 9567.0000 - true_negatives: 9466.0000 - false_positives: 10.0000 - false_negatives: 13.00001s -  - ETA: 6s - loss: 0.0050 - binary_accuracy: 0.9986 - auc: 0.9997 - precision: 0.9988 - \n",
      "Epoch 3/13\n",
      "389/389 [==============================] - 47s 121ms/step - loss: 8.0552e-07 - binary_accuracy: 1.0000 - auc: 1.0000 - precision: 1.0000 - recall: 1.0000 - true_positives: 9580.0000 - true_negatives: 9476.0000 - false_positives: 0.0000e+00 - false_negatives: 0.0000e+00 11s - loss: 1.0545e-06 - binary_a\n",
      "Epoch 4/13\n",
      "389/389 [==============================] - 43s 111ms/step - loss: 1.1473e-08 - binary_accuracy: 1.0000 - auc: 1.0000 - precision: 1.0000 - recall: 1.0000 - true_positives: 9580.0000 - true_negatives: 9476.0000 - false_positives: 0.0000e+00 - false_negatives: 0.0000e+00\n",
      "Epoch 5/13\n",
      "389/389 [==============================] - 41s 106ms/step - loss: 1.3464e-09 - binary_accuracy: 1.0000 - auc: 1.0000 - precision: 1.0000 - recall: 1.0000 - true_positives: 9580.0000 - true_negatives: 9476.0000 - false_positives: 0.0000e+00 - false_negatives: 0.0000e+00\n",
      "Epoch 6/13\n",
      "389/389 [==============================] - 41s 104ms/step - loss: 1.0795e-09 - binary_accuracy: 1.0000 - auc: 1.0000 - precision: 1.0000 - recall: 1.0000 - true_positives: 9580.0000 - true_negatives: 9476.0000 - false_positives: 0.0000e+00 - false_negatives: 0.0000e+00s - loss: 1.1215e-09 - binary_accuracy: 1.0000 - auc: 1.0000 - precision: 1.0000 - recall: 1.0000 - true_\n",
      "Epoch 7/13\n",
      "389/389 [==============================] - 41s 106ms/step - loss: 9.6942e-10 - binary_accuracy: 1.0000 - auc: 1.0000 - precision: 1.0000 - recall: 1.0000 - true_positives: 9580.0000 - true_negatives: 9476.0000 - false_positives: 0.0000e+00 - false_negatives: 0.0000e+00\n",
      "Epoch 8/13\n",
      "389/389 [==============================] - 41s 106ms/step - loss: 9.6520e-10 - binary_accuracy: 1.0000 - auc: 1.0000 - precision: 1.0000 - recall: 1.0000 - true_positives: 9580.0000 - true_negatives: 9476.0000 - false_positives: 0.0000e+00 - false_negatives: 0.0000e+00\n",
      "Epoch 9/13\n",
      "389/389 [==============================] - 42s 109ms/step - loss: 8.9448e-10 - binary_accuracy: 1.0000 - auc: 1.0000 - precision: 1.0000 - recall: 1.0000 - true_positives: 9580.0000 - true_negatives: 9476.0000 - false_positives: 0.0000e+00 - false_negatives: 0.0000e+00\n",
      "Epoch 10/13\n",
      "389/389 [==============================] - 41s 106ms/step - loss: 9.6371e-10 - binary_accuracy: 1.0000 - auc: 1.0000 - precision: 1.0000 - recall: 1.0000 - true_positives: 9580.0000 - true_negatives: 9476.0000 - false_positives: 0.0000e+00 - false_negatives: 0.0000e+00\n",
      "Epoch 11/13\n",
      "389/389 [==============================] - 42s 109ms/step - loss: 8.5346e-10 - binary_accuracy: 1.0000 - auc: 1.0000 - precision: 1.0000 - recall: 1.0000 - true_positives: 9580.0000 - true_negatives: 9476.0000 - false_positives: 0.0000e+00 - false_negatives: 0.0000e+00\n",
      "Epoch 12/13\n",
      "389/389 [==============================] - 43s 111ms/step - loss: 8.1671e-10 - binary_accuracy: 1.0000 - auc: 1.0000 - precision: 1.0000 - recall: 1.0000 - true_positives: 9580.0000 - true_negatives: 9476.0000 - false_positives: 0.0000e+00 - false_negatives: 0.0000e+00\n",
      "Epoch 13/13\n",
      "389/389 [==============================] - 48s 123ms/step - loss: 8.9183e-10 - binary_accuracy: 1.0000 - auc: 1.0000 - precision: 1.0000 - recall: 1.0000 - true_positives: 9580.0000 - true_negatives: 9476.0000 - false_positives: 0.0000e+00 - false_negatives: 0.0000e+00\n"
     ]
    },
    {
     "data": {
      "text/plain": [
       "<keras.callbacks.History at 0x14bcc27b880>"
      ]
     },
     "execution_count": 98,
     "metadata": {},
     "output_type": "execute_result"
    }
   ],
   "source": [
    "model.compile(optimizer=optimizers.RMSprop(learning_rate=0.006925), loss='binary_crossentropy', metrics=model_metrics)\n",
    "model.fit(train_input_os, train_y_os, epochs=13, batch_size=49)"
   ]
  },
  {
   "cell_type": "code",
   "execution_count": 99,
   "id": "92febf52",
   "metadata": {
    "executionInfo": {
     "elapsed": 28,
     "status": "ok",
     "timestamp": 1652110887626,
     "user": {
      "displayName": "Alexandra Stepanenko",
      "userId": "09067281291667623362"
     },
     "user_tz": -60
    },
    "id": "b8aff8cf"
   },
   "outputs": [],
   "source": [
    "# Test data\n",
    "test_input = {'desc': test_desc_df, 'title': test_title_df, 'cp': test_cp_df, 'reqs': test_reqs_df, \n",
    "            'benefits': test_benefits_df, 'nontext': test_nt.drop('fraudulent', axis=1)}\n",
    "test_y = test_nt['fraudulent']"
   ]
  },
  {
   "cell_type": "code",
   "execution_count": 101,
   "id": "bfc67bb4",
   "metadata": {},
   "outputs": [
    {
     "name": "stdout",
     "output_type": "stream",
     "text": [
      "110/110 [==============================] - 4s 27ms/step - loss: 0.3837 - binary_accuracy: 0.9823 - auc: 0.8459 - precision: 0.9825 - recall: 0.6462 - true_positives: 168.0000 - true_negatives: 5101.0000 - false_positives: 3.0000 - false_negatives: 92.0000\n"
     ]
    }
   ],
   "source": [
    "test_metrics = model.evaluate(test_input, test_y, batch_size=49)"
   ]
  },
  {
   "cell_type": "code",
   "execution_count": 110,
   "id": "9364d996",
   "metadata": {},
   "outputs": [
    {
     "name": "stdout",
     "output_type": "stream",
     "text": [
      "binary_accuracy        0.9822893142700195\n",
      "auc        0.8459040522575378\n",
      "precision        0.9824561476707458\n",
      "recall        0.6461538672447205\n",
      "true_positives        168.0\n",
      "true_negatives        5101.0\n",
      "false_positives        3.0\n",
      "false_negatives        92.0\n",
      "loss       0.38365915417671204\n"
     ]
    }
   ],
   "source": [
    "for i in range(len(model_metrics)):\n",
    "    print(model_metrics[i].name, '      ', test_metrics[i+1])\n",
    "print('loss      ', test_metrics[0])"
   ]
  }
 ],
 "metadata": {
  "accelerator": "GPU",
  "colab": {
   "collapsed_sections": [
    "b852ab94",
    "94cbd5b2",
    "fc370c14",
    "9b098e23",
    "320dd76d",
    "7c30551f",
    "092469e8",
    "1e152ec9",
    "191a9036",
    "3e778a1f",
    "7c8a599e",
    "42ff4a5f",
    "ecb5cac1",
    "fbf5c92d",
    "9c8aa77e",
    "ceb8e6ea",
    "f7bbf90c",
    "ec7c8ee1",
    "072680c3",
    "64d30969",
    "807cd155",
    "7c9c3925",
    "621d4904",
    "f7c81968",
    "72909a4e",
    "da63243f",
    "6889ccb0",
    "6ded33be",
    "829ee387",
    "18caa2e1",
    "87c23de8",
    "20f61021",
    "ac46d74f",
    "8d3b62a7",
    "aed02bf7"
   ],
   "name": "CW2_tf_run.ipynb",
   "provenance": []
  },
  "kernelspec": {
   "display_name": "Python 3",
   "language": "python",
   "name": "python3"
  },
  "language_info": {
   "codemirror_mode": {
    "name": "ipython",
    "version": 3
   },
   "file_extension": ".py",
   "mimetype": "text/x-python",
   "name": "python",
   "nbconvert_exporter": "python",
   "pygments_lexer": "ipython3",
   "version": "3.8.8"
  }
 },
 "nbformat": 4,
 "nbformat_minor": 5
}
